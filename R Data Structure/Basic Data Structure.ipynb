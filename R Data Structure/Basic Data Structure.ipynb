{
 "cells": [
  {
   "cell_type": "markdown",
   "source": [
    "### Data Structure\n",
    "\n",
    "**Topics**\n",
    "\n",
    "- Objects\n",
    "- Vector\n",
    "- Matrix\n",
    "- DataFrame\n",
    "- OOP\n",
    "- Functions\n",
    "- Loop statement\n",
    "- Structure"
   ],
   "metadata": {
    "collapsed": false
   },
   "id": "7fac2f9c32b226d9"
  },
  {
   "cell_type": "markdown",
   "source": [
    "#### 1. Objects\n",
    "\n",
    "변수에 값을 초기화할 때에는 '='와 '<-' 둘 다 사용 가능하다"
   ],
   "metadata": {
    "collapsed": false
   },
   "id": "6bbc5f64d72fad19"
  },
  {
   "cell_type": "code",
   "execution_count": 1,
   "id": "initial_id",
   "metadata": {
    "collapsed": true,
    "ExecuteTime": {
     "end_time": "2023-09-01T12:24:26.999642Z",
     "start_time": "2023-09-01T12:24:26.864533Z"
    }
   },
   "outputs": [
    {
     "data": {
      "text/html": "10",
      "text/markdown": "10",
      "text/latex": "10",
      "text/plain": "[1] 10"
     },
     "metadata": {},
     "output_type": "display_data"
    }
   ],
   "source": [
    "x = 10\n",
    "x"
   ]
  },
  {
   "cell_type": "code",
   "execution_count": 3,
   "outputs": [
    {
     "data": {
      "text/html": "100",
      "text/markdown": "100",
      "text/latex": "100",
      "text/plain": "[1] 100"
     },
     "metadata": {},
     "output_type": "display_data"
    }
   ],
   "source": [
    "y <- 100 \n",
    "y"
   ],
   "metadata": {
    "collapsed": false,
    "ExecuteTime": {
     "end_time": "2023-09-01T12:24:41.375405Z",
     "start_time": "2023-09-01T12:24:41.362961Z"
    }
   },
   "id": "616cfa7f5e1f91ab"
  },
  {
   "cell_type": "markdown",
   "source": [
    "do not give blank between '<' and '-' : 이러는 경우 오류가 발생한다"
   ],
   "metadata": {
    "collapsed": false
   },
   "id": "3dbbc81571729cd6"
  },
  {
   "cell_type": "code",
   "execution_count": 4,
   "outputs": [],
   "source": [
    "# comment"
   ],
   "metadata": {
    "collapsed": false,
    "ExecuteTime": {
     "end_time": "2023-09-01T12:28:57.172989Z",
     "start_time": "2023-09-01T12:28:57.159619Z"
    }
   },
   "id": "16f09298fac7ac17"
  },
  {
   "cell_type": "code",
   "execution_count": 5,
   "outputs": [
    {
     "data": {
      "text/html": "200",
      "text/markdown": "200",
      "text/latex": "200",
      "text/plain": "[1] 200"
     },
     "metadata": {},
     "output_type": "display_data"
    }
   ],
   "source": [
    "x <- 200; x"
   ],
   "metadata": {
    "collapsed": false,
    "ExecuteTime": {
     "end_time": "2023-09-01T12:29:30.335432Z",
     "start_time": "2023-09-01T12:29:30.319047Z"
    }
   },
   "id": "dafe3bbe82b741a2"
  },
  {
   "cell_type": "code",
   "execution_count": 6,
   "outputs": [
    {
     "data": {
      "text/html": "200",
      "text/markdown": "200",
      "text/latex": "200",
      "text/plain": "[1] 200"
     },
     "metadata": {},
     "output_type": "display_data"
    }
   ],
   "source": [
    "(x = 200) # unknown function expression"
   ],
   "metadata": {
    "collapsed": false,
    "ExecuteTime": {
     "end_time": "2023-09-01T12:29:36.578106Z",
     "start_time": "2023-09-01T12:29:36.563710Z"
    }
   },
   "id": "9d18b467327f8414"
  },
  {
   "cell_type": "markdown",
   "source": [
    "연쇄 할당의 경우 아래와 같이 입력한다"
   ],
   "metadata": {
    "collapsed": false
   },
   "id": "3a30dacee645d2cf"
  },
  {
   "cell_type": "code",
   "execution_count": 8,
   "outputs": [
    {
     "name": "stdout",
     "output_type": "stream",
     "text": [
      "[1] 20\n",
      "[1] 20\n",
      "[1] 20\n"
     ]
    }
   ],
   "source": [
    "x1 = x2 = x3 = 20\n",
    "\n",
    "print(x1)\n",
    "print(x2)\n",
    "print(x3)"
   ],
   "metadata": {
    "collapsed": false,
    "ExecuteTime": {
     "end_time": "2023-09-01T12:30:40.698715Z",
     "start_time": "2023-09-01T12:30:40.683208Z"
    }
   },
   "id": "395f00930783494d"
  },
  {
   "cell_type": "markdown",
   "source": [
    "쌍머리 할당 연산자 '<<-'와 '->>'은 다른 기능을 가지고 있으므로 주의해야 한다"
   ],
   "metadata": {
    "collapsed": false
   },
   "id": "6833e8fc79479f0c"
  },
  {
   "cell_type": "markdown",
   "source": [
    "**선언된 객체의 확인**\n",
    "\n",
    "`ls()`함수를 사용하면 현재까지 선언된 객체의 목록을 확인할 수 있다"
   ],
   "metadata": {
    "collapsed": false
   },
   "id": "d3844e072119e860"
  },
  {
   "cell_type": "code",
   "execution_count": 14,
   "outputs": [
    {
     "data": {
      "text/html": "<style>\n.list-inline {list-style: none; margin:0; padding: 0}\n.list-inline>li {display: inline-block}\n.list-inline>li:not(:last-child)::after {content: \"\\00b7\"; padding: 0 .5ex}\n</style>\n<ol class=list-inline><li>'x'</li><li>'x1'</li><li>'x2'</li><li>'x3'</li><li>'y'</li></ol>\n",
      "text/markdown": "1. 'x'\n2. 'x1'\n3. 'x2'\n4. 'x3'\n5. 'y'\n\n\n",
      "text/latex": "\\begin{enumerate*}\n\\item 'x'\n\\item 'x1'\n\\item 'x2'\n\\item 'x3'\n\\item 'y'\n\\end{enumerate*}\n",
      "text/plain": "[1] \"x\"  \"x1\" \"x2\" \"x3\" \"y\" "
     },
     "metadata": {},
     "output_type": "display_data"
    }
   ],
   "source": [
    "ls()"
   ],
   "metadata": {
    "collapsed": false,
    "ExecuteTime": {
     "end_time": "2023-09-01T12:38:37.505790Z",
     "start_time": "2023-09-01T12:38:37.480229Z"
    }
   },
   "id": "e2e43afcefe87e4b"
  },
  {
   "cell_type": "markdown",
   "source": [
    "**선언된 객체의 삭제**\n",
    "\n",
    "`rm()`함수를 사용하면 선언된 객체 중 원하는 객체를 삭제할 수 있다"
   ],
   "metadata": {
    "collapsed": false
   },
   "id": "e7dfbb9eb169d4c8"
  },
  {
   "cell_type": "code",
   "execution_count": 15,
   "outputs": [],
   "source": [
    "rm(x1, x2) # remove x1, x2"
   ],
   "metadata": {
    "collapsed": false,
    "ExecuteTime": {
     "end_time": "2023-09-01T12:40:32.302627Z",
     "start_time": "2023-09-01T12:40:32.288397Z"
    }
   },
   "id": "5595a2b90119a0fc"
  },
  {
   "cell_type": "code",
   "execution_count": 16,
   "outputs": [
    {
     "data": {
      "text/html": "<style>\n.list-inline {list-style: none; margin:0; padding: 0}\n.list-inline>li {display: inline-block}\n.list-inline>li:not(:last-child)::after {content: \"\\00b7\"; padding: 0 .5ex}\n</style>\n<ol class=list-inline><li>'x'</li><li>'x3'</li><li>'y'</li></ol>\n",
      "text/markdown": "1. 'x'\n2. 'x3'\n3. 'y'\n\n\n",
      "text/latex": "\\begin{enumerate*}\n\\item 'x'\n\\item 'x3'\n\\item 'y'\n\\end{enumerate*}\n",
      "text/plain": "[1] \"x\"  \"x3\" \"y\" "
     },
     "metadata": {},
     "output_type": "display_data"
    }
   ],
   "source": [
    "ls()"
   ],
   "metadata": {
    "collapsed": false,
    "ExecuteTime": {
     "end_time": "2023-09-01T12:40:35.011633Z",
     "start_time": "2023-09-01T12:40:34.995050Z"
    }
   },
   "id": "799b65045fad45a4"
  },
  {
   "cell_type": "markdown",
   "source": [
    "**생성된 객체의 저장**\n",
    "\n",
    "`sane.image()`를 사용하면 객체를 저장할 수 있다. 확장자는 RData이다"
   ],
   "metadata": {
    "collapsed": false
   },
   "id": "5d6babc07ad98bb8"
  },
  {
   "cell_type": "code",
   "execution_count": 17,
   "outputs": [],
   "source": [
    "save.image()"
   ],
   "metadata": {
    "collapsed": false,
    "ExecuteTime": {
     "end_time": "2023-09-01T12:41:47.442922Z",
     "start_time": "2023-09-01T12:41:47.411349Z"
    }
   },
   "id": "9f56788cf19b2cc5"
  },
  {
   "cell_type": "markdown",
   "source": [
    "**Magic Function**\n",
    "\n",
    "여러개의 객체를 한꺼번에 다 지우고 싶을 때에는 `?rm`을 입력하면 된다"
   ],
   "metadata": {
    "collapsed": false
   },
   "id": "c5c7de8ebe631327"
  },
  {
   "cell_type": "code",
   "execution_count": 18,
   "outputs": [],
   "source": [
    "?rm"
   ],
   "metadata": {
    "collapsed": false,
    "ExecuteTime": {
     "end_time": "2023-09-01T12:42:32.880884Z",
     "start_time": "2023-09-01T12:42:32.222303Z"
    }
   },
   "id": "69eea9923a76c498"
  },
  {
   "cell_type": "markdown",
   "source": [
    "또는 아래와 같은 방법을 사용하면 된다"
   ],
   "metadata": {
    "collapsed": false
   },
   "id": "9f2fbc7336c77f13"
  },
  {
   "cell_type": "code",
   "execution_count": 21,
   "outputs": [],
   "source": [
    "rm(list = ls()) # remove all of objects"
   ],
   "metadata": {
    "collapsed": false,
    "ExecuteTime": {
     "end_time": "2023-09-01T12:43:03.536247Z",
     "start_time": "2023-09-01T12:43:03.526345Z"
    }
   },
   "id": "3c57582b14f21615"
  },
  {
   "cell_type": "code",
   "execution_count": 22,
   "outputs": [
    {
     "data": {
      "text/html": "",
      "text/markdown": "",
      "text/latex": "",
      "text/plain": "character(0)"
     },
     "metadata": {},
     "output_type": "display_data"
    }
   ],
   "source": [
    "ls() # empty data"
   ],
   "metadata": {
    "collapsed": false,
    "ExecuteTime": {
     "end_time": "2023-09-01T12:44:08.971717Z",
     "start_time": "2023-09-01T12:44:08.952309Z"
    }
   },
   "id": "67088055a0c5ff31"
  },
  {
   "cell_type": "markdown",
   "source": [
    "#### 2. Vector, Matrix, Data Frame\n",
    "\n",
    "##### 2.1 Vector\n",
    "\n",
    "R에서 데이터의 최소 단위는 vector이다. vector의 크기가 1인 것을 scalar라고 한다\n"
   ],
   "metadata": {
    "collapsed": false
   },
   "id": "f3eb2ac9c22a1c5d"
  },
  {
   "cell_type": "markdown",
   "source": [
    "**기본 Sequence 만들기**"
   ],
   "metadata": {
    "collapsed": false
   },
   "id": "f9bd71313947f2d7"
  },
  {
   "cell_type": "code",
   "execution_count": 23,
   "outputs": [
    {
     "name": "stdout",
     "output_type": "stream",
     "text": [
      "[1] 1 2 3 4 5\n"
     ]
    }
   ],
   "source": [
    "print(1:5) # sequence"
   ],
   "metadata": {
    "collapsed": false,
    "ExecuteTime": {
     "end_time": "2023-09-01T12:50:56.721672Z",
     "start_time": "2023-09-01T12:50:56.706713Z"
    }
   },
   "id": "e1890a776beff861"
  },
  {
   "cell_type": "markdown",
   "source": [
    "`seq()`함수를 통해서도 생성이 가능하다"
   ],
   "metadata": {
    "collapsed": false
   },
   "id": "fee981e6a980cbc6"
  },
  {
   "cell_type": "code",
   "execution_count": 24,
   "outputs": [
    {
     "name": "stdout",
     "output_type": "stream",
     "text": [
      "[1] 1 2 3 4 5\n"
     ]
    }
   ],
   "source": [
    "print(seq(1,5))"
   ],
   "metadata": {
    "collapsed": false,
    "ExecuteTime": {
     "end_time": "2023-09-01T12:51:07.151959Z",
     "start_time": "2023-09-01T12:51:07.132854Z"
    }
   },
   "id": "c01016f70732ac21"
  },
  {
   "cell_type": "markdown",
   "source": [
    "parameter `by`를 이용해 간격을 조절할 수 있다"
   ],
   "metadata": {
    "collapsed": false
   },
   "id": "d305ef4b0ea0fab1"
  },
  {
   "cell_type": "code",
   "execution_count": 25,
   "outputs": [
    {
     "name": "stdout",
     "output_type": "stream",
     "text": [
      " [1] 1.00 1.25 1.50 1.75 2.00 2.25 2.50 2.75 3.00 3.25 3.50 3.75 4.00 4.25 4.50\n",
      "[16] 4.75 5.00\n"
     ]
    }
   ],
   "source": [
    "print(seq(1, 5, by = 0.25))"
   ],
   "metadata": {
    "collapsed": false,
    "ExecuteTime": {
     "end_time": "2023-09-01T12:51:41.541526Z",
     "start_time": "2023-09-01T12:51:41.521144Z"
    }
   },
   "id": "6b969259af225f2a"
  },
  {
   "cell_type": "markdown",
   "source": [
    "parameter `l`을 사용하면 갯수에 맞게 시퀀스의 길이를 조절해 준다"
   ],
   "metadata": {
    "collapsed": false
   },
   "id": "c226428d096cf9d2"
  },
  {
   "cell_type": "code",
   "execution_count": 27,
   "outputs": [
    {
     "name": "stdout",
     "output_type": "stream",
     "text": [
      "[1] 1.0 1.5 2.0 2.5 3.0 3.5 4.0 4.5 5.0\n"
     ]
    }
   ],
   "source": [
    "print(seq(1, 5, l = 9))"
   ],
   "metadata": {
    "collapsed": false,
    "ExecuteTime": {
     "end_time": "2023-09-01T12:52:52.942409Z",
     "start_time": "2023-09-01T12:52:52.933938Z"
    }
   },
   "id": "b30683a4c90265d0"
  },
  {
   "cell_type": "markdown",
   "source": [
    "**객체의 반복**\n",
    "\n",
    "`rep()`함수를 사용하면 객체 반복이 가능하다"
   ],
   "metadata": {
    "collapsed": false
   },
   "id": "212064f79f9d78df"
  },
  {
   "cell_type": "code",
   "execution_count": 28,
   "outputs": [
    {
     "name": "stdout",
     "output_type": "stream",
     "text": [
      "[1] 1 2 3 1 2 3\n"
     ]
    }
   ],
   "source": [
    "print(rep(1:3, 2))"
   ],
   "metadata": {
    "collapsed": false,
    "ExecuteTime": {
     "end_time": "2023-09-01T12:53:55.698826Z",
     "start_time": "2023-09-01T12:53:55.677110Z"
    }
   },
   "id": "c7c9234dc519e6c1"
  },
  {
   "cell_type": "code",
   "execution_count": 30,
   "outputs": [
    {
     "name": "stdout",
     "output_type": "stream",
     "text": [
      "[1] \"A\" \"B\" \"C\" \"A\" \"B\" \"C\"\n"
     ]
    }
   ],
   "source": [
    "print(rep(LETTERS[1:3], 2)) # slicing"
   ],
   "metadata": {
    "collapsed": false,
    "ExecuteTime": {
     "end_time": "2023-09-01T12:55:05.164678Z",
     "start_time": "2023-09-01T12:55:05.148490Z"
    }
   },
   "id": "be57a8126372ffc2"
  },
  {
   "cell_type": "markdown",
   "source": [
    "parameter `e`를 사용하여 문자별 반복 횟수를 지정할 수 있다"
   ],
   "metadata": {
    "collapsed": false
   },
   "id": "9a445348dd3f90de"
  },
  {
   "cell_type": "code",
   "execution_count": 32,
   "outputs": [
    {
     "name": "stdout",
     "output_type": "stream",
     "text": [
      "[1] 1 1 2 2 3 3\n"
     ]
    }
   ],
   "source": [
    "print(rep(1:3, e = 2)) # each"
   ],
   "metadata": {
    "collapsed": false,
    "ExecuteTime": {
     "end_time": "2023-09-01T12:55:21.725272Z",
     "start_time": "2023-09-01T12:55:21.714342Z"
    }
   },
   "id": "1d9b0375caf45408"
  },
  {
   "cell_type": "code",
   "execution_count": 33,
   "outputs": [
    {
     "name": "stdout",
     "output_type": "stream",
     "text": [
      "[1] \"A\" \"B\" \"B\" \"C\" \"C\" \"C\"\n"
     ]
    }
   ],
   "source": [
    "print(rep(LETTERS[1:3], 1:3))"
   ],
   "metadata": {
    "collapsed": false,
    "ExecuteTime": {
     "end_time": "2023-09-01T12:55:59.877836Z",
     "start_time": "2023-09-01T12:55:59.860908Z"
    }
   },
   "id": "9c303cbfe8c58e"
  },
  {
   "cell_type": "code",
   "execution_count": 34,
   "outputs": [
    {
     "name": "stdout",
     "output_type": "stream",
     "text": [
      "[1] \"A\" \"A\" \"B\" \"B\" \"C\" \"C\"\n"
     ]
    }
   ],
   "source": [
    "print(rep(LETTERS[1:3], rep(2,3)))"
   ],
   "metadata": {
    "collapsed": false,
    "ExecuteTime": {
     "end_time": "2023-09-01T12:56:15.790299Z",
     "start_time": "2023-09-01T12:56:15.780924Z"
    }
   },
   "id": "9d8e6cf5feaf647d"
  },
  {
   "cell_type": "markdown",
   "source": [
    "**Vector**\n",
    "\n",
    "`c()`함수를 사용하여 Vector를 만들 수 있다"
   ],
   "metadata": {
    "collapsed": false
   },
   "id": "dab30607fb2a09b4"
  },
  {
   "cell_type": "code",
   "execution_count": 35,
   "outputs": [
    {
     "name": "stdout",
     "output_type": "stream",
     "text": [
      "[1] 1 7 5\n"
     ]
    }
   ],
   "source": [
    "print(c(1, 7, 5))"
   ],
   "metadata": {
    "collapsed": false,
    "ExecuteTime": {
     "end_time": "2023-09-01T12:57:27.398431Z",
     "start_time": "2023-09-01T12:57:27.371447Z"
    }
   },
   "id": "6bd7a3655458ce7f"
  },
  {
   "cell_type": "code",
   "execution_count": 38,
   "outputs": [
    {
     "name": "stdout",
     "output_type": "stream",
     "text": [
      "[1] \"a\" \"x\" \"q\"\n"
     ]
    }
   ],
   "source": [
    "print(c('a','x','q'))"
   ],
   "metadata": {
    "collapsed": false,
    "ExecuteTime": {
     "end_time": "2023-09-01T12:58:10.984794Z",
     "start_time": "2023-09-01T12:58:10.970740Z"
    }
   },
   "id": "d14530db11fcf63d"
  },
  {
   "cell_type": "markdown",
   "source": [
    "`length()`함수를 사용하며 vector의 길이를 측정할 수 있다"
   ],
   "metadata": {
    "collapsed": false
   },
   "id": "9d657c79368b2f6b"
  },
  {
   "cell_type": "code",
   "execution_count": 39,
   "outputs": [
    {
     "name": "stdout",
     "output_type": "stream",
     "text": [
      "[1] 1 7 5\n",
      "[1] 3\n"
     ]
    }
   ],
   "source": [
    "x = c(1, 7, 5)\n",
    "print(x)\n",
    "print(length(x))"
   ],
   "metadata": {
    "collapsed": false,
    "ExecuteTime": {
     "end_time": "2023-09-01T12:58:59.744036Z",
     "start_time": "2023-09-01T12:58:59.720066Z"
    }
   },
   "id": "1bd99c962426c2c4"
  },
  {
   "cell_type": "markdown",
   "source": [
    "**Vector Arithmetic**\n",
    "\n",
    "python에서 broadcasting과 비슷한 기능이다"
   ],
   "metadata": {
    "collapsed": false
   },
   "id": "c9d506be2dc9f49d"
  },
  {
   "cell_type": "code",
   "execution_count": 40,
   "outputs": [
    {
     "data": {
      "text/html": "<style>\n.list-inline {list-style: none; margin:0; padding: 0}\n.list-inline>li {display: inline-block}\n.list-inline>li:not(:last-child)::after {content: \"\\00b7\"; padding: 0 .5ex}\n</style>\n<ol class=list-inline><li>2</li><li>9</li><li>8</li></ol>\n",
      "text/markdown": "1. 2\n2. 9\n3. 8\n\n\n",
      "text/latex": "\\begin{enumerate*}\n\\item 2\n\\item 9\n\\item 8\n\\end{enumerate*}\n",
      "text/plain": "[1] 2 9 8"
     },
     "metadata": {},
     "output_type": "display_data"
    }
   ],
   "source": [
    "1:3 + x"
   ],
   "metadata": {
    "collapsed": false,
    "ExecuteTime": {
     "end_time": "2023-09-01T12:59:26.032369Z",
     "start_time": "2023-09-01T12:59:26.007024Z"
    }
   },
   "id": "e09aa4d92394fd10"
  },
  {
   "cell_type": "code",
   "execution_count": 41,
   "outputs": [
    {
     "name": "stdout",
     "output_type": "stream",
     "text": [
      "[1] 1.000000 2.645751 2.236068\n"
     ]
    }
   ],
   "source": [
    "print(sqrt(x))"
   ],
   "metadata": {
    "collapsed": false,
    "ExecuteTime": {
     "end_time": "2023-09-01T13:00:33.239400Z",
     "start_time": "2023-09-01T13:00:33.215787Z"
    }
   },
   "id": "65d53d7e169002bc"
  },
  {
   "cell_type": "code",
   "execution_count": null,
   "outputs": [],
   "source": [],
   "metadata": {
    "collapsed": false
   },
   "id": "ba62d438cdd24efc"
  }
 ],
 "metadata": {
  "kernelspec": {
   "name": "ir",
   "language": "R",
   "display_name": "R"
  },
  "language_info": {
   "codemirror_mode": {
    "name": "ipython",
    "version": 2
   },
   "file_extension": ".py",
   "mimetype": "text/x-python",
   "name": "python",
   "nbconvert_exporter": "python",
   "pygments_lexer": "ipython2",
   "version": "2.7.6"
  }
 },
 "nbformat": 4,
 "nbformat_minor": 5
}
