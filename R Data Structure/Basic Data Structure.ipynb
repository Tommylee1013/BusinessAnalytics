{
 "cells": [
  {
   "cell_type": "markdown",
   "source": [
    "### Data Structure\n",
    "\n",
    "**Topics**\n",
    "\n",
    "- Objects\n",
    "- Vector\n",
    "- Matrix\n",
    "- DataFrame\n",
    "- OOP\n",
    "- Functions\n",
    "- Loop statement\n",
    "- Structure"
   ],
   "metadata": {
    "collapsed": false
   },
   "id": "7fac2f9c32b226d9"
  },
  {
   "cell_type": "markdown",
   "source": [
    "#### 1. Objects\n",
    "\n",
    "변수에 값을 초기화할 때에는 '='와 '<-' 둘 다 사용 가능하다"
   ],
   "metadata": {
    "collapsed": false
   },
   "id": "6bbc5f64d72fad19"
  },
  {
   "cell_type": "code",
   "execution_count": 1,
   "id": "initial_id",
   "metadata": {
    "collapsed": true,
    "ExecuteTime": {
     "end_time": "2023-09-01T12:24:26.999642Z",
     "start_time": "2023-09-01T12:24:26.864533Z"
    }
   },
   "outputs": [
    {
     "data": {
      "text/html": "10",
      "text/markdown": "10",
      "text/latex": "10",
      "text/plain": "[1] 10"
     },
     "metadata": {},
     "output_type": "display_data"
    }
   ],
   "source": [
    "x = 10\n",
    "x"
   ]
  },
  {
   "cell_type": "code",
   "execution_count": 3,
   "outputs": [
    {
     "data": {
      "text/html": "100",
      "text/markdown": "100",
      "text/latex": "100",
      "text/plain": "[1] 100"
     },
     "metadata": {},
     "output_type": "display_data"
    }
   ],
   "source": [
    "y <- 100 \n",
    "y"
   ],
   "metadata": {
    "collapsed": false,
    "ExecuteTime": {
     "end_time": "2023-09-01T12:24:41.375405Z",
     "start_time": "2023-09-01T12:24:41.362961Z"
    }
   },
   "id": "616cfa7f5e1f91ab"
  },
  {
   "cell_type": "markdown",
   "source": [
    "do not give blank between '<' and '-' : 이러는 경우 오류가 발생한다"
   ],
   "metadata": {
    "collapsed": false
   },
   "id": "3dbbc81571729cd6"
  },
  {
   "cell_type": "code",
   "execution_count": 4,
   "outputs": [],
   "source": [
    "# comment"
   ],
   "metadata": {
    "collapsed": false,
    "ExecuteTime": {
     "end_time": "2023-09-01T12:28:57.172989Z",
     "start_time": "2023-09-01T12:28:57.159619Z"
    }
   },
   "id": "16f09298fac7ac17"
  },
  {
   "cell_type": "code",
   "execution_count": 5,
   "outputs": [
    {
     "data": {
      "text/html": "200",
      "text/markdown": "200",
      "text/latex": "200",
      "text/plain": "[1] 200"
     },
     "metadata": {},
     "output_type": "display_data"
    }
   ],
   "source": [
    "x <- 200; x"
   ],
   "metadata": {
    "collapsed": false,
    "ExecuteTime": {
     "end_time": "2023-09-01T12:29:30.335432Z",
     "start_time": "2023-09-01T12:29:30.319047Z"
    }
   },
   "id": "dafe3bbe82b741a2"
  },
  {
   "cell_type": "code",
   "execution_count": 6,
   "outputs": [
    {
     "data": {
      "text/html": "200",
      "text/markdown": "200",
      "text/latex": "200",
      "text/plain": "[1] 200"
     },
     "metadata": {},
     "output_type": "display_data"
    }
   ],
   "source": [
    "(x = 200) # unknown function expression"
   ],
   "metadata": {
    "collapsed": false,
    "ExecuteTime": {
     "end_time": "2023-09-01T12:29:36.578106Z",
     "start_time": "2023-09-01T12:29:36.563710Z"
    }
   },
   "id": "9d18b467327f8414"
  },
  {
   "cell_type": "markdown",
   "source": [
    "연쇄 할당의 경우 아래와 같이 입력한다"
   ],
   "metadata": {
    "collapsed": false
   },
   "id": "3a30dacee645d2cf"
  },
  {
   "cell_type": "code",
   "execution_count": 8,
   "outputs": [
    {
     "name": "stdout",
     "output_type": "stream",
     "text": [
      "[1] 20\n",
      "[1] 20\n",
      "[1] 20\n"
     ]
    }
   ],
   "source": [
    "x1 = x2 = x3 = 20\n",
    "\n",
    "print(x1)\n",
    "print(x2)\n",
    "print(x3)"
   ],
   "metadata": {
    "collapsed": false,
    "ExecuteTime": {
     "end_time": "2023-09-01T12:30:40.698715Z",
     "start_time": "2023-09-01T12:30:40.683208Z"
    }
   },
   "id": "395f00930783494d"
  },
  {
   "cell_type": "markdown",
   "source": [
    "쌍머리 할당 연산자 '<<-'와 '->>'은 다른 기능을 가지고 있으므로 주의해야 한다"
   ],
   "metadata": {
    "collapsed": false
   },
   "id": "6833e8fc79479f0c"
  },
  {
   "cell_type": "markdown",
   "source": [
    "**선언된 객체의 확인**\n",
    "\n",
    "`ls()`함수를 사용하면 현재까지 선언된 객체의 목록을 확인할 수 있다"
   ],
   "metadata": {
    "collapsed": false
   },
   "id": "d3844e072119e860"
  },
  {
   "cell_type": "code",
   "execution_count": 14,
   "outputs": [
    {
     "data": {
      "text/html": "<style>\n.list-inline {list-style: none; margin:0; padding: 0}\n.list-inline>li {display: inline-block}\n.list-inline>li:not(:last-child)::after {content: \"\\00b7\"; padding: 0 .5ex}\n</style>\n<ol class=list-inline><li>'x'</li><li>'x1'</li><li>'x2'</li><li>'x3'</li><li>'y'</li></ol>\n",
      "text/markdown": "1. 'x'\n2. 'x1'\n3. 'x2'\n4. 'x3'\n5. 'y'\n\n\n",
      "text/latex": "\\begin{enumerate*}\n\\item 'x'\n\\item 'x1'\n\\item 'x2'\n\\item 'x3'\n\\item 'y'\n\\end{enumerate*}\n",
      "text/plain": "[1] \"x\"  \"x1\" \"x2\" \"x3\" \"y\" "
     },
     "metadata": {},
     "output_type": "display_data"
    }
   ],
   "source": [
    "ls()"
   ],
   "metadata": {
    "collapsed": false,
    "ExecuteTime": {
     "end_time": "2023-09-01T12:38:37.505790Z",
     "start_time": "2023-09-01T12:38:37.480229Z"
    }
   },
   "id": "e2e43afcefe87e4b"
  },
  {
   "cell_type": "markdown",
   "source": [
    "**선언된 객체의 삭제**\n",
    "\n",
    "`rm()`함수를 사용하면 선언된 객체 중 원하는 객체를 삭제할 수 있다"
   ],
   "metadata": {
    "collapsed": false
   },
   "id": "e7dfbb9eb169d4c8"
  },
  {
   "cell_type": "code",
   "execution_count": 15,
   "outputs": [],
   "source": [
    "rm(x1, x2) # remove x1, x2"
   ],
   "metadata": {
    "collapsed": false,
    "ExecuteTime": {
     "end_time": "2023-09-01T12:40:32.302627Z",
     "start_time": "2023-09-01T12:40:32.288397Z"
    }
   },
   "id": "5595a2b90119a0fc"
  },
  {
   "cell_type": "code",
   "execution_count": 16,
   "outputs": [
    {
     "data": {
      "text/html": "<style>\n.list-inline {list-style: none; margin:0; padding: 0}\n.list-inline>li {display: inline-block}\n.list-inline>li:not(:last-child)::after {content: \"\\00b7\"; padding: 0 .5ex}\n</style>\n<ol class=list-inline><li>'x'</li><li>'x3'</li><li>'y'</li></ol>\n",
      "text/markdown": "1. 'x'\n2. 'x3'\n3. 'y'\n\n\n",
      "text/latex": "\\begin{enumerate*}\n\\item 'x'\n\\item 'x3'\n\\item 'y'\n\\end{enumerate*}\n",
      "text/plain": "[1] \"x\"  \"x3\" \"y\" "
     },
     "metadata": {},
     "output_type": "display_data"
    }
   ],
   "source": [
    "ls()"
   ],
   "metadata": {
    "collapsed": false,
    "ExecuteTime": {
     "end_time": "2023-09-01T12:40:35.011633Z",
     "start_time": "2023-09-01T12:40:34.995050Z"
    }
   },
   "id": "799b65045fad45a4"
  },
  {
   "cell_type": "markdown",
   "source": [
    "**생성된 객체의 저장**\n",
    "\n",
    "`sane.image()`를 사용하면 객체를 저장할 수 있다. 확장자는 RData이다"
   ],
   "metadata": {
    "collapsed": false
   },
   "id": "5d6babc07ad98bb8"
  },
  {
   "cell_type": "code",
   "execution_count": 17,
   "outputs": [],
   "source": [
    "save.image()"
   ],
   "metadata": {
    "collapsed": false,
    "ExecuteTime": {
     "end_time": "2023-09-01T12:41:47.442922Z",
     "start_time": "2023-09-01T12:41:47.411349Z"
    }
   },
   "id": "9f56788cf19b2cc5"
  },
  {
   "cell_type": "markdown",
   "source": [
    "**Magic Function**\n",
    "\n",
    "여러개의 객체를 한꺼번에 다 지우고 싶을 때에는 `?rm`을 입력하면 된다"
   ],
   "metadata": {
    "collapsed": false
   },
   "id": "c5c7de8ebe631327"
  },
  {
   "cell_type": "code",
   "execution_count": 18,
   "outputs": [],
   "source": [
    "?rm"
   ],
   "metadata": {
    "collapsed": false,
    "ExecuteTime": {
     "end_time": "2023-09-01T12:42:32.880884Z",
     "start_time": "2023-09-01T12:42:32.222303Z"
    }
   },
   "id": "69eea9923a76c498"
  },
  {
   "cell_type": "markdown",
   "source": [
    "또는 아래와 같은 방법을 사용하면 된다"
   ],
   "metadata": {
    "collapsed": false
   },
   "id": "9f2fbc7336c77f13"
  },
  {
   "cell_type": "code",
   "execution_count": 21,
   "outputs": [],
   "source": [
    "rm(list = ls()) # remove all of objects"
   ],
   "metadata": {
    "collapsed": false,
    "ExecuteTime": {
     "end_time": "2023-09-01T12:43:03.536247Z",
     "start_time": "2023-09-01T12:43:03.526345Z"
    }
   },
   "id": "3c57582b14f21615"
  },
  {
   "cell_type": "code",
   "execution_count": 22,
   "outputs": [
    {
     "data": {
      "text/html": "",
      "text/markdown": "",
      "text/latex": "",
      "text/plain": "character(0)"
     },
     "metadata": {},
     "output_type": "display_data"
    }
   ],
   "source": [
    "ls() # empty data"
   ],
   "metadata": {
    "collapsed": false,
    "ExecuteTime": {
     "end_time": "2023-09-01T12:44:08.971717Z",
     "start_time": "2023-09-01T12:44:08.952309Z"
    }
   },
   "id": "67088055a0c5ff31"
  },
  {
   "cell_type": "code",
   "execution_count": null,
   "outputs": [],
   "source": [],
   "metadata": {
    "collapsed": false
   },
   "id": "e1890a776beff861"
  }
 ],
 "metadata": {
  "kernelspec": {
   "name": "ir",
   "language": "R",
   "display_name": "R"
  },
  "language_info": {
   "codemirror_mode": {
    "name": "ipython",
    "version": 2
   },
   "file_extension": ".py",
   "mimetype": "text/x-python",
   "name": "python",
   "nbconvert_exporter": "python",
   "pygments_lexer": "ipython2",
   "version": "2.7.6"
  }
 },
 "nbformat": 4,
 "nbformat_minor": 5
}
