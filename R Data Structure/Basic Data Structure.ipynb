{
 "cells": [
  {
   "cell_type": "markdown",
   "source": [
    "### Data Structure\n",
    "\n",
    "**Topics**\n",
    "\n",
    "- Objects\n",
    "- Vector\n",
    "- Matrix\n",
    "- DataFrame\n",
    "- OOP\n",
    "- Functions\n",
    "- Loop statement\n",
    "- Structure"
   ],
   "metadata": {
    "collapsed": false
   },
   "id": "7fac2f9c32b226d9"
  },
  {
   "cell_type": "markdown",
   "source": [
    "#### 1. Objects\n",
    "\n",
    "변수에 값을 초기화할 때에는 '='와 '<-' 둘 다 사용 가능하다"
   ],
   "metadata": {
    "collapsed": false
   },
   "id": "6bbc5f64d72fad19"
  },
  {
   "cell_type": "code",
   "execution_count": 1,
   "id": "initial_id",
   "metadata": {
    "collapsed": true,
    "ExecuteTime": {
     "end_time": "2023-09-01T15:00:37.009280Z",
     "start_time": "2023-09-01T15:00:36.284742Z"
    }
   },
   "outputs": [
    {
     "data": {
      "text/html": "10",
      "text/markdown": "10",
      "text/latex": "10",
      "text/plain": "[1] 10"
     },
     "metadata": {},
     "output_type": "display_data"
    }
   ],
   "source": [
    "x = 10\n",
    "x"
   ]
  },
  {
   "cell_type": "code",
   "execution_count": 2,
   "outputs": [
    {
     "data": {
      "text/html": "100",
      "text/markdown": "100",
      "text/latex": "100",
      "text/plain": "[1] 100"
     },
     "metadata": {},
     "output_type": "display_data"
    }
   ],
   "source": [
    "y <- 100 \n",
    "y"
   ],
   "metadata": {
    "collapsed": false,
    "ExecuteTime": {
     "end_time": "2023-09-01T15:00:37.050401Z",
     "start_time": "2023-09-01T15:00:36.423787Z"
    }
   },
   "id": "616cfa7f5e1f91ab"
  },
  {
   "cell_type": "markdown",
   "source": [
    "do not give blank between '<' and '-' : 이러는 경우 오류가 발생한다"
   ],
   "metadata": {
    "collapsed": false
   },
   "id": "3dbbc81571729cd6"
  },
  {
   "cell_type": "code",
   "execution_count": 3,
   "outputs": [],
   "source": [
    "# comment"
   ],
   "metadata": {
    "collapsed": false,
    "ExecuteTime": {
     "end_time": "2023-09-01T15:00:37.055170Z",
     "start_time": "2023-09-01T15:00:36.443538Z"
    }
   },
   "id": "16f09298fac7ac17"
  },
  {
   "cell_type": "code",
   "execution_count": 4,
   "outputs": [
    {
     "data": {
      "text/html": "200",
      "text/markdown": "200",
      "text/latex": "200",
      "text/plain": "[1] 200"
     },
     "metadata": {},
     "output_type": "display_data"
    }
   ],
   "source": [
    "x <- 200; x"
   ],
   "metadata": {
    "collapsed": false,
    "ExecuteTime": {
     "end_time": "2023-09-01T15:00:37.085712Z",
     "start_time": "2023-09-01T15:00:36.448581Z"
    }
   },
   "id": "dafe3bbe82b741a2"
  },
  {
   "cell_type": "code",
   "execution_count": 5,
   "outputs": [
    {
     "data": {
      "text/html": "200",
      "text/markdown": "200",
      "text/latex": "200",
      "text/plain": "[1] 200"
     },
     "metadata": {},
     "output_type": "display_data"
    }
   ],
   "source": [
    "(x = 200) # unknown function expression"
   ],
   "metadata": {
    "collapsed": false,
    "ExecuteTime": {
     "end_time": "2023-09-01T15:00:37.090110Z",
     "start_time": "2023-09-01T15:00:36.454560Z"
    }
   },
   "id": "9d18b467327f8414"
  },
  {
   "cell_type": "markdown",
   "source": [
    "연쇄 할당의 경우 아래와 같이 입력한다"
   ],
   "metadata": {
    "collapsed": false
   },
   "id": "3a30dacee645d2cf"
  },
  {
   "cell_type": "code",
   "execution_count": 6,
   "outputs": [
    {
     "name": "stdout",
     "output_type": "stream",
     "text": [
      "[1] 20\n",
      "[1] 20\n",
      "[1] 20\n"
     ]
    }
   ],
   "source": [
    "x1 = x2 = x3 = 20\n",
    "\n",
    "print(x1)\n",
    "print(x2)\n",
    "print(x3)"
   ],
   "metadata": {
    "collapsed": false,
    "ExecuteTime": {
     "end_time": "2023-09-01T15:00:37.090906Z",
     "start_time": "2023-09-01T15:00:36.463202Z"
    }
   },
   "id": "395f00930783494d"
  },
  {
   "cell_type": "markdown",
   "source": [
    "쌍머리 할당 연산자 '<<-'와 '->>'은 다른 기능을 가지고 있으므로 주의해야 한다"
   ],
   "metadata": {
    "collapsed": false
   },
   "id": "6833e8fc79479f0c"
  },
  {
   "cell_type": "markdown",
   "source": [
    "**선언된 객체의 확인**\n",
    "\n",
    "`ls()`함수를 사용하면 현재까지 선언된 객체의 목록을 확인할 수 있다"
   ],
   "metadata": {
    "collapsed": false
   },
   "id": "d3844e072119e860"
  },
  {
   "cell_type": "code",
   "execution_count": 7,
   "outputs": [
    {
     "data": {
      "text/html": "<style>\n.list-inline {list-style: none; margin:0; padding: 0}\n.list-inline>li {display: inline-block}\n.list-inline>li:not(:last-child)::after {content: \"\\00b7\"; padding: 0 .5ex}\n</style>\n<ol class=list-inline><li>'x'</li><li>'x1'</li><li>'x2'</li><li>'x3'</li><li>'y'</li></ol>\n",
      "text/markdown": "1. 'x'\n2. 'x1'\n3. 'x2'\n4. 'x3'\n5. 'y'\n\n\n",
      "text/latex": "\\begin{enumerate*}\n\\item 'x'\n\\item 'x1'\n\\item 'x2'\n\\item 'x3'\n\\item 'y'\n\\end{enumerate*}\n",
      "text/plain": "[1] \"x\"  \"x1\" \"x2\" \"x3\" \"y\" "
     },
     "metadata": {},
     "output_type": "display_data"
    }
   ],
   "source": [
    "ls()"
   ],
   "metadata": {
    "collapsed": false,
    "ExecuteTime": {
     "end_time": "2023-09-01T15:00:37.091562Z",
     "start_time": "2023-09-01T15:00:36.472149Z"
    }
   },
   "id": "e2e43afcefe87e4b"
  },
  {
   "cell_type": "markdown",
   "source": [
    "**선언된 객체의 삭제**\n",
    "\n",
    "`rm()`함수를 사용하면 선언된 객체 중 원하는 객체를 삭제할 수 있다"
   ],
   "metadata": {
    "collapsed": false
   },
   "id": "e7dfbb9eb169d4c8"
  },
  {
   "cell_type": "code",
   "execution_count": 8,
   "outputs": [],
   "source": [
    "rm(x1, x2) # remove x1, x2"
   ],
   "metadata": {
    "collapsed": false,
    "ExecuteTime": {
     "end_time": "2023-09-01T15:00:37.091646Z",
     "start_time": "2023-09-01T15:00:36.479226Z"
    }
   },
   "id": "5595a2b90119a0fc"
  },
  {
   "cell_type": "code",
   "execution_count": 9,
   "outputs": [
    {
     "data": {
      "text/html": "<style>\n.list-inline {list-style: none; margin:0; padding: 0}\n.list-inline>li {display: inline-block}\n.list-inline>li:not(:last-child)::after {content: \"\\00b7\"; padding: 0 .5ex}\n</style>\n<ol class=list-inline><li>'x'</li><li>'x3'</li><li>'y'</li></ol>\n",
      "text/markdown": "1. 'x'\n2. 'x3'\n3. 'y'\n\n\n",
      "text/latex": "\\begin{enumerate*}\n\\item 'x'\n\\item 'x3'\n\\item 'y'\n\\end{enumerate*}\n",
      "text/plain": "[1] \"x\"  \"x3\" \"y\" "
     },
     "metadata": {},
     "output_type": "display_data"
    }
   ],
   "source": [
    "ls()"
   ],
   "metadata": {
    "collapsed": false,
    "ExecuteTime": {
     "end_time": "2023-09-01T15:00:37.091984Z",
     "start_time": "2023-09-01T15:00:36.485079Z"
    }
   },
   "id": "799b65045fad45a4"
  },
  {
   "cell_type": "markdown",
   "source": [
    "**생성된 객체의 저장**\n",
    "\n",
    "`sane.image()`를 사용하면 객체를 저장할 수 있다. 확장자는 RData이다"
   ],
   "metadata": {
    "collapsed": false
   },
   "id": "5d6babc07ad98bb8"
  },
  {
   "cell_type": "code",
   "execution_count": 10,
   "outputs": [],
   "source": [
    "save.image()"
   ],
   "metadata": {
    "collapsed": false,
    "ExecuteTime": {
     "end_time": "2023-09-01T15:00:37.092067Z",
     "start_time": "2023-09-01T15:00:36.491306Z"
    }
   },
   "id": "9f56788cf19b2cc5"
  },
  {
   "cell_type": "markdown",
   "source": [
    "**Magic Function**\n",
    "\n",
    "여러개의 객체를 한꺼번에 다 지우고 싶을 때에는 `?rm`을 입력하면 된다"
   ],
   "metadata": {
    "collapsed": false
   },
   "id": "c5c7de8ebe631327"
  },
  {
   "cell_type": "code",
   "execution_count": 11,
   "outputs": [],
   "source": [
    "?rm"
   ],
   "metadata": {
    "collapsed": false,
    "ExecuteTime": {
     "end_time": "2023-09-01T15:00:37.226831Z",
     "start_time": "2023-09-01T15:00:36.497689Z"
    }
   },
   "id": "69eea9923a76c498"
  },
  {
   "cell_type": "markdown",
   "source": [
    "또는 아래와 같은 방법을 사용하면 된다"
   ],
   "metadata": {
    "collapsed": false
   },
   "id": "9f2fbc7336c77f13"
  },
  {
   "cell_type": "code",
   "execution_count": 12,
   "outputs": [],
   "source": [
    "rm(list = ls()) # remove all of objects"
   ],
   "metadata": {
    "collapsed": false,
    "ExecuteTime": {
     "end_time": "2023-09-01T15:00:37.234459Z",
     "start_time": "2023-09-01T15:00:37.111337Z"
    }
   },
   "id": "3c57582b14f21615"
  },
  {
   "cell_type": "code",
   "execution_count": 13,
   "outputs": [
    {
     "data": {
      "text/html": "",
      "text/markdown": "",
      "text/latex": "",
      "text/plain": "character(0)"
     },
     "metadata": {},
     "output_type": "display_data"
    }
   ],
   "source": [
    "ls() # empty data"
   ],
   "metadata": {
    "collapsed": false,
    "ExecuteTime": {
     "end_time": "2023-09-01T15:00:37.235231Z",
     "start_time": "2023-09-01T15:00:37.116149Z"
    }
   },
   "id": "67088055a0c5ff31"
  },
  {
   "cell_type": "markdown",
   "source": [
    "#### 2. Vector, Matrix, Data Frame\n",
    "\n",
    "##### 2.1 Vector\n",
    "\n",
    "R에서 데이터의 최소 단위는 vector이다. vector의 크기가 1인 것을 scalar라고 한다\n"
   ],
   "metadata": {
    "collapsed": false
   },
   "id": "f3eb2ac9c22a1c5d"
  },
  {
   "cell_type": "markdown",
   "source": [
    "**기본 Sequence 만들기**"
   ],
   "metadata": {
    "collapsed": false
   },
   "id": "f9bd71313947f2d7"
  },
  {
   "cell_type": "code",
   "execution_count": 14,
   "outputs": [
    {
     "name": "stdout",
     "output_type": "stream",
     "text": [
      "[1] 1 2 3 4 5\n"
     ]
    }
   ],
   "source": [
    "print(1:5) # sequence"
   ],
   "metadata": {
    "collapsed": false,
    "ExecuteTime": {
     "end_time": "2023-09-01T15:00:37.235611Z",
     "start_time": "2023-09-01T15:00:37.124480Z"
    }
   },
   "id": "e1890a776beff861"
  },
  {
   "cell_type": "markdown",
   "source": [
    "`seq()`함수를 통해서도 생성이 가능하다"
   ],
   "metadata": {
    "collapsed": false
   },
   "id": "fee981e6a980cbc6"
  },
  {
   "cell_type": "code",
   "execution_count": 15,
   "outputs": [
    {
     "name": "stdout",
     "output_type": "stream",
     "text": [
      "[1] 1 2 3 4 5\n"
     ]
    }
   ],
   "source": [
    "print(seq(1,5))"
   ],
   "metadata": {
    "collapsed": false,
    "ExecuteTime": {
     "end_time": "2023-09-01T15:00:37.235780Z",
     "start_time": "2023-09-01T15:00:37.130222Z"
    }
   },
   "id": "c01016f70732ac21"
  },
  {
   "cell_type": "markdown",
   "source": [
    "parameter `by`를 이용해 간격을 조절할 수 있다"
   ],
   "metadata": {
    "collapsed": false
   },
   "id": "d305ef4b0ea0fab1"
  },
  {
   "cell_type": "code",
   "execution_count": 16,
   "outputs": [
    {
     "name": "stdout",
     "output_type": "stream",
     "text": [
      " [1] 1.00 1.25 1.50 1.75 2.00 2.25 2.50 2.75 3.00 3.25 3.50 3.75 4.00 4.25 4.50\n",
      "[16] 4.75 5.00\n"
     ]
    }
   ],
   "source": [
    "print(seq(1, 5, by = 0.25))"
   ],
   "metadata": {
    "collapsed": false,
    "ExecuteTime": {
     "end_time": "2023-09-01T15:00:37.235918Z",
     "start_time": "2023-09-01T15:00:37.136163Z"
    }
   },
   "id": "6b969259af225f2a"
  },
  {
   "cell_type": "markdown",
   "source": [
    "parameter `l`을 사용하면 갯수에 맞게 시퀀스의 길이를 조절해 준다"
   ],
   "metadata": {
    "collapsed": false
   },
   "id": "c226428d096cf9d2"
  },
  {
   "cell_type": "code",
   "execution_count": 17,
   "outputs": [
    {
     "name": "stdout",
     "output_type": "stream",
     "text": [
      "[1] 1.0 1.5 2.0 2.5 3.0 3.5 4.0 4.5 5.0\n"
     ]
    }
   ],
   "source": [
    "print(seq(1, 5, l = 9))"
   ],
   "metadata": {
    "collapsed": false,
    "ExecuteTime": {
     "end_time": "2023-09-01T15:00:37.236047Z",
     "start_time": "2023-09-01T15:00:37.141958Z"
    }
   },
   "id": "b30683a4c90265d0"
  },
  {
   "cell_type": "markdown",
   "source": [
    "**객체의 반복**\n",
    "\n",
    "`rep()`함수를 사용하면 객체 반복이 가능하다"
   ],
   "metadata": {
    "collapsed": false
   },
   "id": "212064f79f9d78df"
  },
  {
   "cell_type": "code",
   "execution_count": 18,
   "outputs": [
    {
     "name": "stdout",
     "output_type": "stream",
     "text": [
      "[1] 1 2 3 1 2 3\n"
     ]
    }
   ],
   "source": [
    "print(rep(1:3, 2))"
   ],
   "metadata": {
    "collapsed": false,
    "ExecuteTime": {
     "end_time": "2023-09-01T15:00:37.236176Z",
     "start_time": "2023-09-01T15:00:37.147762Z"
    }
   },
   "id": "c7c9234dc519e6c1"
  },
  {
   "cell_type": "code",
   "execution_count": 19,
   "outputs": [
    {
     "name": "stdout",
     "output_type": "stream",
     "text": [
      "[1] \"A\" \"B\" \"C\" \"A\" \"B\" \"C\"\n"
     ]
    }
   ],
   "source": [
    "print(rep(LETTERS[1:3], 2)) # slicing"
   ],
   "metadata": {
    "collapsed": false,
    "ExecuteTime": {
     "end_time": "2023-09-01T15:00:37.236582Z",
     "start_time": "2023-09-01T15:00:37.153426Z"
    }
   },
   "id": "be57a8126372ffc2"
  },
  {
   "cell_type": "markdown",
   "source": [
    "parameter `e`를 사용하여 문자별 반복 횟수를 지정할 수 있다"
   ],
   "metadata": {
    "collapsed": false
   },
   "id": "9a445348dd3f90de"
  },
  {
   "cell_type": "code",
   "execution_count": 20,
   "outputs": [
    {
     "name": "stdout",
     "output_type": "stream",
     "text": [
      "[1] 1 1 2 2 3 3\n"
     ]
    }
   ],
   "source": [
    "print(rep(1:3, e = 2)) # each"
   ],
   "metadata": {
    "collapsed": false,
    "ExecuteTime": {
     "end_time": "2023-09-01T15:00:37.236729Z",
     "start_time": "2023-09-01T15:00:37.159043Z"
    }
   },
   "id": "1d9b0375caf45408"
  },
  {
   "cell_type": "code",
   "execution_count": 21,
   "outputs": [
    {
     "name": "stdout",
     "output_type": "stream",
     "text": [
      "[1] \"A\" \"B\" \"B\" \"C\" \"C\" \"C\"\n"
     ]
    }
   ],
   "source": [
    "print(rep(LETTERS[1:3], 1:3))"
   ],
   "metadata": {
    "collapsed": false,
    "ExecuteTime": {
     "end_time": "2023-09-01T15:00:37.236855Z",
     "start_time": "2023-09-01T15:00:37.165105Z"
    }
   },
   "id": "9c303cbfe8c58e"
  },
  {
   "cell_type": "code",
   "execution_count": 22,
   "outputs": [
    {
     "name": "stdout",
     "output_type": "stream",
     "text": [
      "[1] \"A\" \"A\" \"B\" \"B\" \"C\" \"C\"\n"
     ]
    }
   ],
   "source": [
    "print(rep(LETTERS[1:3], rep(2,3)))"
   ],
   "metadata": {
    "collapsed": false,
    "ExecuteTime": {
     "end_time": "2023-09-01T15:00:37.237002Z",
     "start_time": "2023-09-01T15:00:37.171699Z"
    }
   },
   "id": "9d8e6cf5feaf647d"
  },
  {
   "cell_type": "markdown",
   "source": [
    "**Vector**\n",
    "\n",
    "`c()`함수를 사용하여 Vector를 만들 수 있다"
   ],
   "metadata": {
    "collapsed": false
   },
   "id": "dab30607fb2a09b4"
  },
  {
   "cell_type": "code",
   "execution_count": 23,
   "outputs": [
    {
     "name": "stdout",
     "output_type": "stream",
     "text": [
      "[1] 1 7 5\n"
     ]
    }
   ],
   "source": [
    "print(c(1, 7, 5))"
   ],
   "metadata": {
    "collapsed": false,
    "ExecuteTime": {
     "end_time": "2023-09-01T15:00:37.237142Z",
     "start_time": "2023-09-01T15:00:37.177430Z"
    }
   },
   "id": "6bd7a3655458ce7f"
  },
  {
   "cell_type": "code",
   "execution_count": 24,
   "outputs": [
    {
     "name": "stdout",
     "output_type": "stream",
     "text": [
      "[1] \"a\" \"x\" \"q\"\n"
     ]
    }
   ],
   "source": [
    "print(c('a','x','q'))"
   ],
   "metadata": {
    "collapsed": false,
    "ExecuteTime": {
     "end_time": "2023-09-01T15:00:37.237349Z",
     "start_time": "2023-09-01T15:00:37.183683Z"
    }
   },
   "id": "d14530db11fcf63d"
  },
  {
   "cell_type": "markdown",
   "source": [
    "`length()`함수를 사용하며 vector의 길이를 측정할 수 있다"
   ],
   "metadata": {
    "collapsed": false
   },
   "id": "9d657c79368b2f6b"
  },
  {
   "cell_type": "code",
   "execution_count": 25,
   "outputs": [
    {
     "name": "stdout",
     "output_type": "stream",
     "text": [
      "[1] 1 7 5\n",
      "[1] 3\n"
     ]
    }
   ],
   "source": [
    "x = c(1, 7, 5)\n",
    "print(x)\n",
    "print(length(x))"
   ],
   "metadata": {
    "collapsed": false,
    "ExecuteTime": {
     "end_time": "2023-09-01T15:00:37.237552Z",
     "start_time": "2023-09-01T15:00:37.190242Z"
    }
   },
   "id": "1bd99c962426c2c4"
  },
  {
   "cell_type": "markdown",
   "source": [
    "**Vector Arithmetic**\n",
    "\n",
    "python에서 broadcasting과 비슷한 기능이다"
   ],
   "metadata": {
    "collapsed": false
   },
   "id": "c9d506be2dc9f49d"
  },
  {
   "cell_type": "code",
   "execution_count": 26,
   "outputs": [
    {
     "data": {
      "text/html": "<style>\n.list-inline {list-style: none; margin:0; padding: 0}\n.list-inline>li {display: inline-block}\n.list-inline>li:not(:last-child)::after {content: \"\\00b7\"; padding: 0 .5ex}\n</style>\n<ol class=list-inline><li>2</li><li>9</li><li>8</li></ol>\n",
      "text/markdown": "1. 2\n2. 9\n3. 8\n\n\n",
      "text/latex": "\\begin{enumerate*}\n\\item 2\n\\item 9\n\\item 8\n\\end{enumerate*}\n",
      "text/plain": "[1] 2 9 8"
     },
     "metadata": {},
     "output_type": "display_data"
    }
   ],
   "source": [
    "1:3 + x"
   ],
   "metadata": {
    "collapsed": false,
    "ExecuteTime": {
     "end_time": "2023-09-01T15:00:37.238051Z",
     "start_time": "2023-09-01T15:00:37.200574Z"
    }
   },
   "id": "e09aa4d92394fd10"
  },
  {
   "cell_type": "code",
   "execution_count": 27,
   "outputs": [
    {
     "name": "stdout",
     "output_type": "stream",
     "text": [
      "[1] 1.000000 2.645751 2.236068\n"
     ]
    }
   ],
   "source": [
    "print(sqrt(x))"
   ],
   "metadata": {
    "collapsed": false,
    "ExecuteTime": {
     "end_time": "2023-09-01T15:00:37.238621Z",
     "start_time": "2023-09-01T15:00:37.207203Z"
    }
   },
   "id": "65d53d7e169002bc"
  },
  {
   "cell_type": "markdown",
   "source": [
    "**subsetting**\n",
    "\n",
    "Indexing, Slicing을 하는 방법이다"
   ],
   "metadata": {
    "collapsed": false
   },
   "id": "67076f8a30bc1e56"
  },
  {
   "cell_type": "code",
   "execution_count": 28,
   "outputs": [
    {
     "data": {
      "text/html": "<style>\n.list-inline {list-style: none; margin:0; padding: 0}\n.list-inline>li {display: inline-block}\n.list-inline>li:not(:last-child)::after {content: \"\\00b7\"; padding: 0 .5ex}\n</style>\n<ol class=list-inline><li>'a'</li><li>'b'</li><li>'c'</li><li>'d'</li><li>'e'</li><li>'f'</li><li>'g'</li><li>'h'</li><li>'i'</li><li>'j'</li><li>'k'</li><li>'l'</li></ol>\n",
      "text/markdown": "1. 'a'\n2. 'b'\n3. 'c'\n4. 'd'\n5. 'e'\n6. 'f'\n7. 'g'\n8. 'h'\n9. 'i'\n10. 'j'\n11. 'k'\n12. 'l'\n\n\n",
      "text/latex": "\\begin{enumerate*}\n\\item 'a'\n\\item 'b'\n\\item 'c'\n\\item 'd'\n\\item 'e'\n\\item 'f'\n\\item 'g'\n\\item 'h'\n\\item 'i'\n\\item 'j'\n\\item 'k'\n\\item 'l'\n\\end{enumerate*}\n",
      "text/plain": " [1] \"a\" \"b\" \"c\" \"d\" \"e\" \"f\" \"g\" \"h\" \"i\" \"j\" \"k\" \"l\""
     },
     "metadata": {},
     "output_type": "display_data"
    }
   ],
   "source": [
    "letters[1:12] # slicing"
   ],
   "metadata": {
    "collapsed": false,
    "ExecuteTime": {
     "end_time": "2023-09-01T15:00:37.239013Z",
     "start_time": "2023-09-01T15:00:37.213653Z"
    }
   },
   "id": "ba62d438cdd24efc"
  },
  {
   "cell_type": "code",
   "execution_count": 29,
   "outputs": [
    {
     "data": {
      "text/html": "<style>\n.list-inline {list-style: none; margin:0; padding: 0}\n.list-inline>li {display: inline-block}\n.list-inline>li:not(:last-child)::after {content: \"\\00b7\"; padding: 0 .5ex}\n</style>\n<ol class=list-inline><li>'a'</li><li>'j'</li><li>'t'</li></ol>\n",
      "text/markdown": "1. 'a'\n2. 'j'\n3. 't'\n\n\n",
      "text/latex": "\\begin{enumerate*}\n\\item 'a'\n\\item 'j'\n\\item 't'\n\\end{enumerate*}\n",
      "text/plain": "[1] \"a\" \"j\" \"t\""
     },
     "metadata": {},
     "output_type": "display_data"
    }
   ],
   "source": [
    "letters[c(1, 10, 20)]"
   ],
   "metadata": {
    "collapsed": false,
    "ExecuteTime": {
     "end_time": "2023-09-01T15:00:37.239963Z",
     "start_time": "2023-09-01T15:00:37.220456Z"
    }
   },
   "id": "77704d41b7885283"
  },
  {
   "cell_type": "code",
   "execution_count": 30,
   "outputs": [
    {
     "data": {
      "text/html": "<style>\n.list-inline {list-style: none; margin:0; padding: 0}\n.list-inline>li {display: inline-block}\n.list-inline>li:not(:last-child)::after {content: \"\\00b7\"; padding: 0 .5ex}\n</style>\n<ol class=list-inline><li>1</li><li>3</li></ol>\n",
      "text/markdown": "1. 1\n2. 3\n\n\n",
      "text/latex": "\\begin{enumerate*}\n\\item 1\n\\item 3\n\\end{enumerate*}\n",
      "text/plain": "[1] 1 3"
     },
     "metadata": {},
     "output_type": "display_data"
    }
   ],
   "source": [
    "(1:4)[c(T,F,T,F)] # Boolean Indexing"
   ],
   "metadata": {
    "collapsed": false,
    "ExecuteTime": {
     "end_time": "2023-09-01T15:00:37.252430Z",
     "start_time": "2023-09-01T15:00:37.227111Z"
    }
   },
   "id": "f7802167732867d7"
  },
  {
   "cell_type": "code",
   "execution_count": 31,
   "outputs": [
    {
     "data": {
      "text/html": "<style>\n.list-inline {list-style: none; margin:0; padding: 0}\n.list-inline>li {display: inline-block}\n.list-inline>li:not(:last-child)::after {content: \"\\00b7\"; padding: 0 .5ex}\n</style>\n<ol class=list-inline><li>5</li><li>7</li></ol>\n",
      "text/markdown": "1. 5\n2. 7\n\n\n",
      "text/latex": "\\begin{enumerate*}\n\\item 5\n\\item 7\n\\end{enumerate*}\n",
      "text/plain": "[1] 5 7"
     },
     "metadata": {},
     "output_type": "display_data"
    }
   ],
   "source": [
    "x = c(1, 5, 7, 0)\n",
    "x[x > 3] # Boolean Indexing"
   ],
   "metadata": {
    "collapsed": false,
    "ExecuteTime": {
     "end_time": "2023-09-01T15:00:37.329513Z",
     "start_time": "2023-09-01T15:00:37.233954Z"
    }
   },
   "id": "15ddbe507b163e09"
  },
  {
   "cell_type": "code",
   "execution_count": 32,
   "outputs": [
    {
     "data": {
      "text/html": "15",
      "text/markdown": "15",
      "text/latex": "15",
      "text/plain": "[1] 15"
     },
     "metadata": {},
     "output_type": "display_data"
    }
   ],
   "source": [
    "x = 11:20\n",
    "x[5]"
   ],
   "metadata": {
    "collapsed": false,
    "ExecuteTime": {
     "end_time": "2023-09-01T15:00:37.335117Z",
     "start_time": "2023-09-01T15:00:37.241274Z"
    }
   },
   "id": "e27e4951484ac6ac"
  },
  {
   "cell_type": "markdown",
   "source": [
    "음수 인덱싱의 경우 python과는 다르게 그 값을 제외한 vector의 모든 원소를 출력한다"
   ],
   "metadata": {
    "collapsed": false
   },
   "id": "db6c2f3702847927"
  },
  {
   "cell_type": "code",
   "execution_count": 33,
   "outputs": [
    {
     "data": {
      "text/html": "<style>\n.list-inline {list-style: none; margin:0; padding: 0}\n.list-inline>li {display: inline-block}\n.list-inline>li:not(:last-child)::after {content: \"\\00b7\"; padding: 0 .5ex}\n</style>\n<ol class=list-inline><li>11</li><li>12</li><li>13</li><li>14</li><li>16</li><li>17</li><li>18</li><li>19</li><li>20</li></ol>\n",
      "text/markdown": "1. 11\n2. 12\n3. 13\n4. 14\n5. 16\n6. 17\n7. 18\n8. 19\n9. 20\n\n\n",
      "text/latex": "\\begin{enumerate*}\n\\item 11\n\\item 12\n\\item 13\n\\item 14\n\\item 16\n\\item 17\n\\item 18\n\\item 19\n\\item 20\n\\end{enumerate*}\n",
      "text/plain": "[1] 11 12 13 14 16 17 18 19 20"
     },
     "metadata": {},
     "output_type": "display_data"
    }
   ],
   "source": [
    "x[-5]"
   ],
   "metadata": {
    "collapsed": false,
    "ExecuteTime": {
     "end_time": "2023-09-01T15:00:37.457380Z",
     "start_time": "2023-09-01T15:00:37.248860Z"
    }
   },
   "id": "3bb462e1e47d055e"
  },
  {
   "cell_type": "code",
   "execution_count": 34,
   "outputs": [
    {
     "data": {
      "text/html": "<style>\n.list-inline {list-style: none; margin:0; padding: 0}\n.list-inline>li {display: inline-block}\n.list-inline>li:not(:last-child)::after {content: \"\\00b7\"; padding: 0 .5ex}\n</style>\n<ol class=list-inline><li>13</li><li>15</li></ol>\n",
      "text/markdown": "1. 13\n2. 15\n\n\n",
      "text/latex": "\\begin{enumerate*}\n\\item 13\n\\item 15\n\\end{enumerate*}\n",
      "text/plain": "[1] 13 15"
     },
     "metadata": {},
     "output_type": "display_data"
    }
   ],
   "source": [
    "x[c(3, 5)]"
   ],
   "metadata": {
    "collapsed": false,
    "ExecuteTime": {
     "end_time": "2023-09-01T15:00:37.457767Z",
     "start_time": "2023-09-01T15:00:37.255272Z"
    }
   },
   "id": "7d3b330f60689e9c"
  },
  {
   "cell_type": "code",
   "execution_count": 35,
   "outputs": [
    {
     "data": {
      "text/html": "<style>\n.list-inline {list-style: none; margin:0; padding: 0}\n.list-inline>li {display: inline-block}\n.list-inline>li:not(:last-child)::after {content: \"\\00b7\"; padding: 0 .5ex}\n</style>\n<ol class=list-inline><li>11</li><li>12</li><li>14</li><li>16</li><li>17</li><li>18</li><li>19</li><li>20</li></ol>\n",
      "text/markdown": "1. 11\n2. 12\n3. 14\n4. 16\n5. 17\n6. 18\n7. 19\n8. 20\n\n\n",
      "text/latex": "\\begin{enumerate*}\n\\item 11\n\\item 12\n\\item 14\n\\item 16\n\\item 17\n\\item 18\n\\item 19\n\\item 20\n\\end{enumerate*}\n",
      "text/plain": "[1] 11 12 14 16 17 18 19 20"
     },
     "metadata": {},
     "output_type": "display_data"
    }
   ],
   "source": [
    "x[-c(3, 5)]"
   ],
   "metadata": {
    "collapsed": false,
    "ExecuteTime": {
     "end_time": "2023-09-01T15:00:37.458103Z",
     "start_time": "2023-09-01T15:00:37.262050Z"
    }
   },
   "id": "fa9c9cf0ad08fc76"
  },
  {
   "cell_type": "markdown",
   "source": [
    "##### 2.2 Matrix"
   ],
   "metadata": {
    "collapsed": false
   },
   "id": "88f8e5c35454c6a7"
  },
  {
   "cell_type": "code",
   "execution_count": 36,
   "outputs": [
    {
     "name": "stdout",
     "output_type": "stream",
     "text": [
      "     [,1] [,2] [,3] [,4]\n",
      "[1,]    1    4    7   10\n",
      "[2,]    2    5    8   11\n",
      "[3,]    3    6    9   12\n"
     ]
    }
   ],
   "source": [
    "s = matrix(1:12, , 4)\n",
    "print(s)"
   ],
   "metadata": {
    "collapsed": false,
    "ExecuteTime": {
     "end_time": "2023-09-01T15:00:37.458507Z",
     "start_time": "2023-09-01T15:00:37.267930Z"
    }
   },
   "id": "6229045c735947fa"
  },
  {
   "cell_type": "markdown",
   "source": [
    "비어있는 경우 차원에 맞게 자동으로 할당한다"
   ],
   "metadata": {
    "collapsed": false
   },
   "id": "6673f5d0fdaf7806"
  },
  {
   "cell_type": "code",
   "execution_count": 37,
   "outputs": [
    {
     "name": "stdout",
     "output_type": "stream",
     "text": [
      "     [,1] [,2] [,3]\n",
      "[1,] \"a\"  \"e\"  \"i\" \n",
      "[2,] \"b\"  \"f\"  \"j\" \n",
      "[3,] \"c\"  \"g\"  \"k\" \n",
      "[4,] \"d\"  \"h\"  \"l\" \n"
     ]
    }
   ],
   "source": [
    "p = matrix(letters[1:12], 4, 3)\n",
    "print(p)"
   ],
   "metadata": {
    "collapsed": false,
    "ExecuteTime": {
     "end_time": "2023-09-01T15:00:37.458728Z",
     "start_time": "2023-09-01T15:00:37.275002Z"
    }
   },
   "id": "cc19315ef1906f4c"
  },
  {
   "cell_type": "markdown",
   "source": [
    "`class()` 함수를 사용하면 자료형을 볼 수 있다"
   ],
   "metadata": {
    "collapsed": false
   },
   "id": "1bf405697cee03c0"
  },
  {
   "cell_type": "code",
   "execution_count": 38,
   "outputs": [
    {
     "data": {
      "text/html": "<style>\n.list-inline {list-style: none; margin:0; padding: 0}\n.list-inline>li {display: inline-block}\n.list-inline>li:not(:last-child)::after {content: \"\\00b7\"; padding: 0 .5ex}\n</style>\n<ol class=list-inline><li>'matrix'</li><li>'array'</li></ol>\n",
      "text/markdown": "1. 'matrix'\n2. 'array'\n\n\n",
      "text/latex": "\\begin{enumerate*}\n\\item 'matrix'\n\\item 'array'\n\\end{enumerate*}\n",
      "text/plain": "[1] \"matrix\" \"array\" "
     },
     "metadata": {},
     "output_type": "display_data"
    }
   ],
   "source": [
    "class(s) # class function"
   ],
   "metadata": {
    "collapsed": false,
    "ExecuteTime": {
     "end_time": "2023-09-01T15:00:37.477400Z",
     "start_time": "2023-09-01T15:00:37.283816Z"
    }
   },
   "id": "3aa70b3ed8016deb"
  },
  {
   "cell_type": "markdown",
   "source": [
    "`dim()` 함수는 행렬의 형태를 출력한다"
   ],
   "metadata": {
    "collapsed": false
   },
   "id": "6f8a0df1f0b7a055"
  },
  {
   "cell_type": "code",
   "execution_count": 39,
   "outputs": [
    {
     "data": {
      "text/html": "<style>\n.list-inline {list-style: none; margin:0; padding: 0}\n.list-inline>li {display: inline-block}\n.list-inline>li:not(:last-child)::after {content: \"\\00b7\"; padding: 0 .5ex}\n</style>\n<ol class=list-inline><li>3</li><li>4</li></ol>\n",
      "text/markdown": "1. 3\n2. 4\n\n\n",
      "text/latex": "\\begin{enumerate*}\n\\item 3\n\\item 4\n\\end{enumerate*}\n",
      "text/plain": "[1] 3 4"
     },
     "metadata": {},
     "output_type": "display_data"
    }
   ],
   "source": [
    "dim(s)"
   ],
   "metadata": {
    "collapsed": false,
    "ExecuteTime": {
     "end_time": "2023-09-01T15:00:37.478243Z",
     "start_time": "2023-09-01T15:00:37.290510Z"
    }
   },
   "id": "3a7d3a435886e39d"
  },
  {
   "cell_type": "markdown",
   "source": [
    "`t()` 함수는 transpose(전치)를 수행하는 함수이다"
   ],
   "metadata": {
    "collapsed": false
   },
   "id": "930e4c864b2ecaa2"
  },
  {
   "cell_type": "code",
   "execution_count": 40,
   "outputs": [
    {
     "data": {
      "text/html": "<table class=\"dataframe\">\n<caption>A matrix: 4 × 3 of type int</caption>\n<tbody>\n\t<tr><td> 1</td><td> 2</td><td> 3</td></tr>\n\t<tr><td> 4</td><td> 5</td><td> 6</td></tr>\n\t<tr><td> 7</td><td> 8</td><td> 9</td></tr>\n\t<tr><td>10</td><td>11</td><td>12</td></tr>\n</tbody>\n</table>\n",
      "text/markdown": "\nA matrix: 4 × 3 of type int\n\n|  1 |  2 |  3 |\n|  4 |  5 |  6 |\n|  7 |  8 |  9 |\n| 10 | 11 | 12 |\n\n",
      "text/latex": "A matrix: 4 × 3 of type int\n\\begin{tabular}{lll}\n\t  1 &  2 &  3\\\\\n\t  4 &  5 &  6\\\\\n\t  7 &  8 &  9\\\\\n\t 10 & 11 & 12\\\\\n\\end{tabular}\n",
      "text/plain": "     [,1] [,2] [,3]\n[1,]  1    2    3  \n[2,]  4    5    6  \n[3,]  7    8    9  \n[4,] 10   11   12  "
     },
     "metadata": {},
     "output_type": "display_data"
    }
   ],
   "source": [
    "t(s)"
   ],
   "metadata": {
    "collapsed": false,
    "ExecuteTime": {
     "end_time": "2023-09-01T15:00:37.478565Z",
     "start_time": "2023-09-01T15:00:37.296612Z"
    }
   },
   "id": "4a2d7d9667e5c4fe"
  },
  {
   "cell_type": "markdown",
   "source": [
    "`nrow()` `ncol()` 함수는 각각 열과 행의 갯수를 출력한다"
   ],
   "metadata": {
    "collapsed": false
   },
   "id": "42fc5fedf1a779d4"
  },
  {
   "cell_type": "code",
   "execution_count": 41,
   "outputs": [
    {
     "data": {
      "text/html": "4",
      "text/markdown": "4",
      "text/latex": "4",
      "text/plain": "[1] 4"
     },
     "metadata": {},
     "output_type": "display_data"
    }
   ],
   "source": [
    "ncol(s)"
   ],
   "metadata": {
    "collapsed": false,
    "ExecuteTime": {
     "end_time": "2023-09-01T15:00:37.478803Z",
     "start_time": "2023-09-01T15:00:37.305744Z"
    }
   },
   "id": "5c83f671b6eda16"
  },
  {
   "cell_type": "code",
   "execution_count": 42,
   "outputs": [
    {
     "data": {
      "text/html": "3",
      "text/markdown": "3",
      "text/latex": "3",
      "text/plain": "[1] 3"
     },
     "metadata": {},
     "output_type": "display_data"
    }
   ],
   "source": [
    "nrow(s)"
   ],
   "metadata": {
    "collapsed": false,
    "ExecuteTime": {
     "end_time": "2023-09-01T15:00:37.479012Z",
     "start_time": "2023-09-01T15:00:37.311604Z"
    }
   },
   "id": "19f5459756ab4d79"
  },
  {
   "cell_type": "markdown",
   "source": [
    "`diag()`함수는 행렬은 대각행렬을 생성한다"
   ],
   "metadata": {
    "collapsed": false
   },
   "id": "61809d568c4e5dac"
  },
  {
   "cell_type": "code",
   "execution_count": 43,
   "outputs": [
    {
     "data": {
      "text/html": "<table class=\"dataframe\">\n<caption>A matrix: 3 × 3 of type dbl</caption>\n<tbody>\n\t<tr><td>1</td><td>0</td><td>0</td></tr>\n\t<tr><td>0</td><td>1</td><td>0</td></tr>\n\t<tr><td>0</td><td>0</td><td>1</td></tr>\n</tbody>\n</table>\n",
      "text/markdown": "\nA matrix: 3 × 3 of type dbl\n\n| 1 | 0 | 0 |\n| 0 | 1 | 0 |\n| 0 | 0 | 1 |\n\n",
      "text/latex": "A matrix: 3 × 3 of type dbl\n\\begin{tabular}{lll}\n\t 1 & 0 & 0\\\\\n\t 0 & 1 & 0\\\\\n\t 0 & 0 & 1\\\\\n\\end{tabular}\n",
      "text/plain": "     [,1] [,2] [,3]\n[1,] 1    0    0   \n[2,] 0    1    0   \n[3,] 0    0    1   "
     },
     "metadata": {},
     "output_type": "display_data"
    }
   ],
   "source": [
    "diag(3)"
   ],
   "metadata": {
    "collapsed": false,
    "ExecuteTime": {
     "end_time": "2023-09-01T15:00:37.479290Z",
     "start_time": "2023-09-01T15:00:37.317487Z"
    }
   },
   "id": "6256451bf4734f87"
  },
  {
   "cell_type": "code",
   "execution_count": 44,
   "outputs": [
    {
     "data": {
      "text/html": "<table class=\"dataframe\">\n<caption>A matrix: 3 × 3 of type int</caption>\n<tbody>\n\t<tr><td>1</td><td>0</td><td>0</td></tr>\n\t<tr><td>0</td><td>2</td><td>0</td></tr>\n\t<tr><td>0</td><td>0</td><td>3</td></tr>\n</tbody>\n</table>\n",
      "text/markdown": "\nA matrix: 3 × 3 of type int\n\n| 1 | 0 | 0 |\n| 0 | 2 | 0 |\n| 0 | 0 | 3 |\n\n",
      "text/latex": "A matrix: 3 × 3 of type int\n\\begin{tabular}{lll}\n\t 1 & 0 & 0\\\\\n\t 0 & 2 & 0\\\\\n\t 0 & 0 & 3\\\\\n\\end{tabular}\n",
      "text/plain": "     [,1] [,2] [,3]\n[1,] 1    0    0   \n[2,] 0    2    0   \n[3,] 0    0    3   "
     },
     "metadata": {},
     "output_type": "display_data"
    }
   ],
   "source": [
    "diag(1:3)"
   ],
   "metadata": {
    "collapsed": false,
    "ExecuteTime": {
     "end_time": "2023-09-01T15:00:37.493220Z",
     "start_time": "2023-09-01T15:00:37.324794Z"
    }
   },
   "id": "cd6f77a0b4396ec1"
  },
  {
   "cell_type": "markdown",
   "source": [
    "기존에 이미 행렬이 초기화되었을 경우 대각 원소를 추출해 출력한다"
   ],
   "metadata": {
    "collapsed": false
   },
   "id": "40026ded0f70c7a0"
  },
  {
   "cell_type": "code",
   "execution_count": 45,
   "outputs": [
    {
     "data": {
      "text/html": "<style>\n.list-inline {list-style: none; margin:0; padding: 0}\n.list-inline>li {display: inline-block}\n.list-inline>li:not(:last-child)::after {content: \"\\00b7\"; padding: 0 .5ex}\n</style>\n<ol class=list-inline><li>1</li><li>5</li><li>9</li></ol>\n",
      "text/markdown": "1. 1\n2. 5\n3. 9\n\n\n",
      "text/latex": "\\begin{enumerate*}\n\\item 1\n\\item 5\n\\item 9\n\\end{enumerate*}\n",
      "text/plain": "[1] 1 5 9"
     },
     "metadata": {},
     "output_type": "display_data"
    }
   ],
   "source": [
    "diag(s)"
   ],
   "metadata": {
    "collapsed": false,
    "ExecuteTime": {
     "end_time": "2023-09-01T15:00:37.497334Z",
     "start_time": "2023-09-01T15:00:37.331461Z"
    }
   },
   "id": "61c353169d28e370"
  },
  {
   "cell_type": "code",
   "execution_count": 46,
   "outputs": [
    {
     "data": {
      "text/html": "<style>\n.list-inline {list-style: none; margin:0; padding: 0}\n.list-inline>li {display: inline-block}\n.list-inline>li:not(:last-child)::after {content: \"\\00b7\"; padding: 0 .5ex}\n</style>\n<ol class=list-inline><li>'a'</li><li>'f'</li><li>'k'</li></ol>\n",
      "text/markdown": "1. 'a'\n2. 'f'\n3. 'k'\n\n\n",
      "text/latex": "\\begin{enumerate*}\n\\item 'a'\n\\item 'f'\n\\item 'k'\n\\end{enumerate*}\n",
      "text/plain": "[1] \"a\" \"f\" \"k\""
     },
     "metadata": {},
     "output_type": "display_data"
    }
   ],
   "source": [
    "diag(p)"
   ],
   "metadata": {
    "collapsed": false,
    "ExecuteTime": {
     "end_time": "2023-09-01T15:00:37.497716Z",
     "start_time": "2023-09-01T15:00:37.338084Z"
    }
   },
   "id": "42d508527258621b"
  },
  {
   "cell_type": "markdown",
   "source": [
    "`cbind()` 함수를 사용하면 column을 기준으로 vector를 합친다"
   ],
   "metadata": {
    "collapsed": false
   },
   "id": "1f81f6ee47ac4685"
  },
  {
   "cell_type": "code",
   "execution_count": 47,
   "outputs": [
    {
     "name": "stdout",
     "output_type": "stream",
     "text": [
      "     [,1] [,2]\n",
      "[1,]    1   11\n",
      "[2,]    2   12\n",
      "[3,]    3   13\n",
      "[4,]    4   14\n"
     ]
    }
   ],
   "source": [
    "print(cbind(c(1:4), c(11:14)))"
   ],
   "metadata": {
    "collapsed": false,
    "ExecuteTime": {
     "end_time": "2023-09-01T15:00:37.511607Z",
     "start_time": "2023-09-01T15:00:37.344613Z"
    }
   },
   "id": "62641ac928c20f88"
  },
  {
   "cell_type": "markdown",
   "source": [
    "`rbind()`함수를 사용하면 row를 기준으로 vector를 합친다"
   ],
   "metadata": {
    "collapsed": false
   },
   "id": "e50c0871e5f8e192"
  },
  {
   "cell_type": "code",
   "execution_count": 48,
   "outputs": [
    {
     "name": "stdout",
     "output_type": "stream",
     "text": [
      "     [,1] [,2] [,3] [,4]\n",
      "[1,]    1    2    3    4\n",
      "[2,]   11   12   13   14\n"
     ]
    }
   ],
   "source": [
    "print(rbind(c(1:4), c(11:14)))"
   ],
   "metadata": {
    "collapsed": false,
    "ExecuteTime": {
     "end_time": "2023-09-01T15:00:37.512169Z",
     "start_time": "2023-09-01T15:00:37.350554Z"
    }
   },
   "id": "a8ac72593b48fe58"
  },
  {
   "cell_type": "markdown",
   "source": [
    "행렬 내의 모든 원소들은 같은 데이터 형태를 지녀야 한다"
   ],
   "metadata": {
    "collapsed": false
   },
   "id": "e77e5c944919d0b0"
  },
  {
   "cell_type": "code",
   "execution_count": 49,
   "outputs": [
    {
     "name": "stdout",
     "output_type": "stream",
     "text": [
      "     [,1] [,2]\n",
      "[1,] \"1\"  \"a\" \n",
      "[2,] \"2\"  \"b\" \n",
      "[3,] \"3\"  \"c\" \n",
      "[4,] \"4\"  \"d\" \n"
     ]
    }
   ],
   "source": [
    "print(cbind(c(1:4), letters[1:4]))"
   ],
   "metadata": {
    "collapsed": false,
    "ExecuteTime": {
     "end_time": "2023-09-01T15:00:37.512415Z",
     "start_time": "2023-09-01T15:00:37.356461Z"
    }
   },
   "id": "e704715c8fc97b24"
  },
  {
   "cell_type": "markdown",
   "source": [
    "##### 2.3 Data Frame"
   ],
   "metadata": {
    "collapsed": false
   },
   "id": "4c0a298672071173"
  },
  {
   "cell_type": "code",
   "execution_count": 50,
   "outputs": [
    {
     "name": "stdout",
     "output_type": "stream",
     "text": [
      "     [,1] [,2]\n",
      "[1,] \"1\"  \"a\" \n",
      "[2,] \"2\"  \"b\" \n",
      "[3,] \"3\"  \"c\" \n",
      "[4,] \"4\"  \"d\" \n"
     ]
    }
   ],
   "source": [
    "a = cbind(1:4, letters[1:4]) # matrix\n",
    "print(a)"
   ],
   "metadata": {
    "collapsed": false,
    "ExecuteTime": {
     "end_time": "2023-09-01T15:00:37.512644Z",
     "start_time": "2023-09-01T15:00:37.365721Z"
    }
   },
   "id": "5d82f276b2ad734a"
  },
  {
   "cell_type": "code",
   "execution_count": 51,
   "outputs": [
    {
     "name": "stdout",
     "output_type": "stream",
     "text": [
      "  X1 X2\n",
      "1  1  a\n",
      "2  2  b\n",
      "3  3  c\n",
      "4  4  d\n"
     ]
    }
   ],
   "source": [
    "b = data.frame(a)\n",
    "print(b)"
   ],
   "metadata": {
    "collapsed": false,
    "ExecuteTime": {
     "end_time": "2023-09-01T15:00:37.512835Z",
     "start_time": "2023-09-01T15:00:37.371807Z"
    }
   },
   "id": "68169a170fd2f04d"
  },
  {
   "cell_type": "markdown",
   "source": [
    "Data Frame은 column마다 각기 다른 데이터타입이 올 수 있다"
   ],
   "metadata": {
    "collapsed": false
   },
   "id": "a184ca06b824cfdb"
  },
  {
   "cell_type": "code",
   "execution_count": 52,
   "outputs": [
    {
     "data": {
      "text/html": "<table class=\"dataframe\">\n<caption>A data.frame: 4 × 2</caption>\n<thead>\n\t<tr><th scope=col>nums</th><th scope=col>letter</th></tr>\n\t<tr><th scope=col>&lt;int&gt;</th><th scope=col>&lt;chr&gt;</th></tr>\n</thead>\n<tbody>\n\t<tr><td>1</td><td>a</td></tr>\n\t<tr><td>2</td><td>b</td></tr>\n\t<tr><td>3</td><td>c</td></tr>\n\t<tr><td>4</td><td>d</td></tr>\n</tbody>\n</table>\n",
      "text/markdown": "\nA data.frame: 4 × 2\n\n| nums &lt;int&gt; | letter &lt;chr&gt; |\n|---|---|\n| 1 | a |\n| 2 | b |\n| 3 | c |\n| 4 | d |\n\n",
      "text/latex": "A data.frame: 4 × 2\n\\begin{tabular}{ll}\n nums & letter\\\\\n <int> & <chr>\\\\\n\\hline\n\t 1 & a\\\\\n\t 2 & b\\\\\n\t 3 & c\\\\\n\t 4 & d\\\\\n\\end{tabular}\n",
      "text/plain": "  nums letter\n1 1    a     \n2 2    b     \n3 3    c     \n4 4    d     "
     },
     "metadata": {},
     "output_type": "display_data"
    }
   ],
   "source": [
    "c = data.frame(nums = 1:4, letter = letters[1:4])\n",
    "c"
   ],
   "metadata": {
    "collapsed": false,
    "ExecuteTime": {
     "end_time": "2023-09-01T15:00:37.513583Z",
     "start_time": "2023-09-01T15:00:37.378645Z"
    }
   },
   "id": "36618b7394764e85"
  },
  {
   "cell_type": "markdown",
   "source": [
    "`colnames()` `rownames()` `row.names()`를 통해 열과 행의 이름을 출력할 수 있다"
   ],
   "metadata": {
    "collapsed": false
   },
   "id": "abfce4d26bf16e76"
  },
  {
   "cell_type": "code",
   "execution_count": 53,
   "outputs": [
    {
     "data": {
      "text/html": "<style>\n.list-inline {list-style: none; margin:0; padding: 0}\n.list-inline>li {display: inline-block}\n.list-inline>li:not(:last-child)::after {content: \"\\00b7\"; padding: 0 .5ex}\n</style>\n<ol class=list-inline><li>'nums'</li><li>'letter'</li></ol>\n",
      "text/markdown": "1. 'nums'\n2. 'letter'\n\n\n",
      "text/latex": "\\begin{enumerate*}\n\\item 'nums'\n\\item 'letter'\n\\end{enumerate*}\n",
      "text/plain": "[1] \"nums\"   \"letter\""
     },
     "metadata": {},
     "output_type": "display_data"
    }
   ],
   "source": [
    "colnames(c) # column names"
   ],
   "metadata": {
    "collapsed": false,
    "ExecuteTime": {
     "end_time": "2023-09-01T15:00:37.514051Z",
     "start_time": "2023-09-01T15:00:37.386474Z"
    }
   },
   "id": "e1dd3a9ff41b3ae1"
  },
  {
   "cell_type": "code",
   "execution_count": 54,
   "outputs": [
    {
     "data": {
      "text/html": "<style>\n.list-inline {list-style: none; margin:0; padding: 0}\n.list-inline>li {display: inline-block}\n.list-inline>li:not(:last-child)::after {content: \"\\00b7\"; padding: 0 .5ex}\n</style>\n<ol class=list-inline><li>'1'</li><li>'2'</li><li>'3'</li><li>'4'</li></ol>\n",
      "text/markdown": "1. '1'\n2. '2'\n3. '3'\n4. '4'\n\n\n",
      "text/latex": "\\begin{enumerate*}\n\\item '1'\n\\item '2'\n\\item '3'\n\\item '4'\n\\end{enumerate*}\n",
      "text/plain": "[1] \"1\" \"2\" \"3\" \"4\""
     },
     "metadata": {},
     "output_type": "display_data"
    }
   ],
   "source": [
    "row.names(c) # row names"
   ],
   "metadata": {
    "collapsed": false,
    "ExecuteTime": {
     "end_time": "2023-09-01T15:00:37.514494Z",
     "start_time": "2023-09-01T15:00:37.392129Z"
    }
   },
   "id": "c31e1ced9413147e"
  },
  {
   "cell_type": "markdown",
   "source": [
    "Matrix와 Data Frame을 vector로 형변환 하는 경우 아래와 같이 변환된다"
   ],
   "metadata": {
    "collapsed": false
   },
   "id": "cd3156f0c556260e"
  },
  {
   "cell_type": "code",
   "execution_count": 55,
   "outputs": [
    {
     "name": "stdout",
     "output_type": "stream",
     "text": [
      "[1] \"1\" \"2\" \"3\" \"4\" \"a\" \"b\" \"c\" \"d\"\n"
     ]
    }
   ],
   "source": [
    "print(c(a)) # matrix"
   ],
   "metadata": {
    "collapsed": false,
    "ExecuteTime": {
     "end_time": "2023-09-01T15:00:37.514776Z",
     "start_time": "2023-09-01T15:00:37.398242Z"
    }
   },
   "id": "cb0da46401638564"
  },
  {
   "cell_type": "code",
   "execution_count": 56,
   "outputs": [
    {
     "name": "stdout",
     "output_type": "stream",
     "text": [
      "$X1\n",
      "[1] \"1\" \"2\" \"3\" \"4\"\n",
      "\n",
      "$X2\n",
      "[1] \"a\" \"b\" \"c\" \"d\"\n"
     ]
    }
   ],
   "source": [
    "print(c(b)) # data frame"
   ],
   "metadata": {
    "collapsed": false,
    "ExecuteTime": {
     "end_time": "2023-09-01T15:00:37.514925Z",
     "start_time": "2023-09-01T15:00:37.404124Z"
    }
   },
   "id": "9fdaf2bc95aa42b"
  },
  {
   "cell_type": "code",
   "execution_count": 57,
   "outputs": [
    {
     "name": "stdout",
     "output_type": "stream",
     "text": [
      "$nums\n",
      "[1] 1 2 3 4\n",
      "\n",
      "$letter\n",
      "[1] \"a\" \"b\" \"c\" \"d\"\n"
     ]
    }
   ],
   "source": [
    "print(c(c)) # data frame"
   ],
   "metadata": {
    "collapsed": false,
    "ExecuteTime": {
     "end_time": "2023-09-01T15:00:37.515175Z",
     "start_time": "2023-09-01T15:00:37.410131Z"
    }
   },
   "id": "6726969b3c1d2a6e"
  },
  {
   "cell_type": "markdown",
   "source": [
    "$ 기호를 사용하여 column에 진입할 수 있다"
   ],
   "metadata": {
    "collapsed": false
   },
   "id": "b5dc3145ee8b2b7a"
  },
  {
   "cell_type": "code",
   "execution_count": 58,
   "outputs": [
    {
     "name": "stdout",
     "output_type": "stream",
     "text": [
      "[1] \"a\" \"b\" \"c\" \"d\"\n"
     ]
    }
   ],
   "source": [
    "print(c$letter)"
   ],
   "metadata": {
    "collapsed": false,
    "ExecuteTime": {
     "end_time": "2023-09-01T15:00:37.515314Z",
     "start_time": "2023-09-01T15:00:37.416082Z"
    }
   },
   "id": "1b24675de66b5dd1"
  },
  {
   "cell_type": "markdown",
   "source": [
    "**Matrix & data frame subsetting**\n",
    "\n",
    "matrix와 data frame에 대해서 indexing, slicing을 할 수 있다"
   ],
   "metadata": {
    "collapsed": false
   },
   "id": "42911cb89d02d5d2"
  },
  {
   "cell_type": "code",
   "execution_count": 59,
   "outputs": [
    {
     "name": "stdout",
     "output_type": "stream",
     "text": [
      "  nums\n",
      "1    1\n",
      "2    2\n",
      "3    3\n",
      "4    4\n"
     ]
    }
   ],
   "source": [
    "print(c[1]) # first column"
   ],
   "metadata": {
    "collapsed": false,
    "ExecuteTime": {
     "end_time": "2023-09-01T15:00:37.515487Z",
     "start_time": "2023-09-01T15:00:37.421816Z"
    }
   },
   "id": "1305b8b3aa8cb444"
  },
  {
   "cell_type": "code",
   "execution_count": 60,
   "outputs": [
    {
     "name": "stdout",
     "output_type": "stream",
     "text": [
      "  nums letter\n",
      "1    1      a\n",
      "2    2      b\n",
      "3    3      c\n",
      "4    4      d\n"
     ]
    }
   ],
   "source": [
    "print(c[1:2])"
   ],
   "metadata": {
    "collapsed": false,
    "ExecuteTime": {
     "end_time": "2023-09-01T15:00:37.515695Z",
     "start_time": "2023-09-01T15:00:37.427132Z"
    }
   },
   "id": "5f35a8ce11c92697"
  },
  {
   "cell_type": "code",
   "execution_count": 61,
   "outputs": [
    {
     "name": "stdout",
     "output_type": "stream",
     "text": [
      "  nums letter\n",
      "1    1      a\n"
     ]
    }
   ],
   "source": [
    "print(c[1, c(1,2)]) # row, column"
   ],
   "metadata": {
    "collapsed": false,
    "ExecuteTime": {
     "end_time": "2023-09-01T15:00:37.515837Z",
     "start_time": "2023-09-01T15:00:37.432861Z"
    }
   },
   "id": "589588a3700075e8"
  },
  {
   "cell_type": "code",
   "execution_count": 62,
   "outputs": [
    {
     "name": "stdout",
     "output_type": "stream",
     "text": [
      "[1] 2 3 4\n"
     ]
    }
   ],
   "source": [
    "print(c[2:4, 1]) # row, column"
   ],
   "metadata": {
    "collapsed": false,
    "ExecuteTime": {
     "end_time": "2023-09-01T15:00:37.515970Z",
     "start_time": "2023-09-01T15:00:37.441283Z"
    }
   },
   "id": "ad749f6dc4c019f4"
  }
 ],
 "metadata": {
  "kernelspec": {
   "name": "ir",
   "language": "R",
   "display_name": "R"
  },
  "language_info": {
   "codemirror_mode": {
    "name": "ipython",
    "version": 2
   },
   "file_extension": ".py",
   "mimetype": "text/x-python",
   "name": "python",
   "nbconvert_exporter": "python",
   "pygments_lexer": "ipython2",
   "version": "2.7.6"
  }
 },
 "nbformat": 4,
 "nbformat_minor": 5
}
