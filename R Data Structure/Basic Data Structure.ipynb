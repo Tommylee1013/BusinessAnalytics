{
 "cells": [
  {
   "cell_type": "markdown",
   "source": [
    "### Data Structure\n",
    "\n",
    "**Topics**\n",
    "\n",
    "- Objects\n",
    "- Vector\n",
    "- Matrix\n",
    "- DataFrame\n",
    "- OOP\n",
    "- Functions\n",
    "- Loop statement\n",
    "- Structure"
   ],
   "metadata": {
    "collapsed": false
   },
   "id": "7fac2f9c32b226d9"
  },
  {
   "cell_type": "markdown",
   "source": [
    "#### 1. Objects\n",
    "\n",
    "변수에 값을 초기화할 때에는 '='와 '<-' 둘 다 사용 가능하다"
   ],
   "metadata": {
    "collapsed": false
   },
   "id": "6bbc5f64d72fad19"
  },
  {
   "cell_type": "code",
   "execution_count": 1,
   "id": "initial_id",
   "metadata": {
    "collapsed": true,
    "ExecuteTime": {
     "end_time": "2023-09-02T08:08:15.717608Z",
     "start_time": "2023-09-02T08:08:15.223678Z"
    }
   },
   "outputs": [
    {
     "data": {
      "text/html": "10",
      "text/markdown": "10",
      "text/latex": "10",
      "text/plain": "[1] 10"
     },
     "metadata": {},
     "output_type": "display_data"
    }
   ],
   "source": [
    "x = 10\n",
    "x"
   ]
  },
  {
   "cell_type": "code",
   "execution_count": 2,
   "outputs": [
    {
     "data": {
      "text/html": "100",
      "text/markdown": "100",
      "text/latex": "100",
      "text/plain": "[1] 100"
     },
     "metadata": {},
     "output_type": "display_data"
    }
   ],
   "source": [
    "y <- 100 \n",
    "y"
   ],
   "metadata": {
    "collapsed": false,
    "ExecuteTime": {
     "end_time": "2023-09-02T08:08:15.718366Z",
     "start_time": "2023-09-02T08:08:15.366778Z"
    }
   },
   "id": "616cfa7f5e1f91ab"
  },
  {
   "cell_type": "markdown",
   "source": [
    "do not give blank between '<' and '-' : 이러는 경우 오류가 발생한다"
   ],
   "metadata": {
    "collapsed": false
   },
   "id": "3dbbc81571729cd6"
  },
  {
   "cell_type": "code",
   "execution_count": 3,
   "outputs": [],
   "source": [
    "# comment"
   ],
   "metadata": {
    "collapsed": false,
    "ExecuteTime": {
     "end_time": "2023-09-02T08:08:15.718524Z",
     "start_time": "2023-09-02T08:08:15.386428Z"
    }
   },
   "id": "16f09298fac7ac17"
  },
  {
   "cell_type": "code",
   "execution_count": 4,
   "outputs": [
    {
     "data": {
      "text/html": "200",
      "text/markdown": "200",
      "text/latex": "200",
      "text/plain": "[1] 200"
     },
     "metadata": {},
     "output_type": "display_data"
    }
   ],
   "source": [
    "x <- 200; x"
   ],
   "metadata": {
    "collapsed": false,
    "ExecuteTime": {
     "end_time": "2023-09-02T08:08:15.718990Z",
     "start_time": "2023-09-02T08:08:15.391023Z"
    }
   },
   "id": "dafe3bbe82b741a2"
  },
  {
   "cell_type": "code",
   "execution_count": 5,
   "outputs": [
    {
     "data": {
      "text/html": "200",
      "text/markdown": "200",
      "text/latex": "200",
      "text/plain": "[1] 200"
     },
     "metadata": {},
     "output_type": "display_data"
    }
   ],
   "source": [
    "(x = 200) # unknown function expression"
   ],
   "metadata": {
    "collapsed": false,
    "ExecuteTime": {
     "end_time": "2023-09-02T08:08:15.720561Z",
     "start_time": "2023-09-02T08:08:15.397471Z"
    }
   },
   "id": "9d18b467327f8414"
  },
  {
   "cell_type": "markdown",
   "source": [
    "연쇄 할당의 경우 아래와 같이 입력한다"
   ],
   "metadata": {
    "collapsed": false
   },
   "id": "3a30dacee645d2cf"
  },
  {
   "cell_type": "code",
   "execution_count": 6,
   "outputs": [
    {
     "name": "stdout",
     "output_type": "stream",
     "text": [
      "[1] 20\n",
      "[1] 20\n",
      "[1] 20\n"
     ]
    }
   ],
   "source": [
    "x1 = x2 = x3 = 20\n",
    "\n",
    "print(x1)\n",
    "print(x2)\n",
    "print(x3)"
   ],
   "metadata": {
    "collapsed": false,
    "ExecuteTime": {
     "end_time": "2023-09-02T08:08:15.721576Z",
     "start_time": "2023-09-02T08:08:15.405537Z"
    }
   },
   "id": "395f00930783494d"
  },
  {
   "cell_type": "markdown",
   "source": [
    "쌍머리 할당 연산자 '<<-'와 '->>'은 다른 기능을 가지고 있으므로 주의해야 한다"
   ],
   "metadata": {
    "collapsed": false
   },
   "id": "6833e8fc79479f0c"
  },
  {
   "cell_type": "markdown",
   "source": [
    "**선언된 객체의 확인**\n",
    "\n",
    "`ls()`함수를 사용하면 현재까지 선언된 객체의 목록을 확인할 수 있다"
   ],
   "metadata": {
    "collapsed": false
   },
   "id": "d3844e072119e860"
  },
  {
   "cell_type": "code",
   "execution_count": 7,
   "outputs": [
    {
     "data": {
      "text/html": "<style>\n.list-inline {list-style: none; margin:0; padding: 0}\n.list-inline>li {display: inline-block}\n.list-inline>li:not(:last-child)::after {content: \"\\00b7\"; padding: 0 .5ex}\n</style>\n<ol class=list-inline><li>'x'</li><li>'x1'</li><li>'x2'</li><li>'x3'</li><li>'y'</li></ol>\n",
      "text/markdown": "1. 'x'\n2. 'x1'\n3. 'x2'\n4. 'x3'\n5. 'y'\n\n\n",
      "text/latex": "\\begin{enumerate*}\n\\item 'x'\n\\item 'x1'\n\\item 'x2'\n\\item 'x3'\n\\item 'y'\n\\end{enumerate*}\n",
      "text/plain": "[1] \"x\"  \"x1\" \"x2\" \"x3\" \"y\" "
     },
     "metadata": {},
     "output_type": "display_data"
    }
   ],
   "source": [
    "ls()"
   ],
   "metadata": {
    "collapsed": false,
    "ExecuteTime": {
     "end_time": "2023-09-02T08:08:15.722790Z",
     "start_time": "2023-09-02T08:08:15.414860Z"
    }
   },
   "id": "e2e43afcefe87e4b"
  },
  {
   "cell_type": "markdown",
   "source": [
    "**선언된 객체의 삭제**\n",
    "\n",
    "`rm()`함수를 사용하면 선언된 객체 중 원하는 객체를 삭제할 수 있다"
   ],
   "metadata": {
    "collapsed": false
   },
   "id": "e7dfbb9eb169d4c8"
  },
  {
   "cell_type": "code",
   "execution_count": 8,
   "outputs": [],
   "source": [
    "rm(x1, x2) # remove x1, x2"
   ],
   "metadata": {
    "collapsed": false,
    "ExecuteTime": {
     "end_time": "2023-09-02T08:08:15.722944Z",
     "start_time": "2023-09-02T08:08:15.422009Z"
    }
   },
   "id": "5595a2b90119a0fc"
  },
  {
   "cell_type": "code",
   "execution_count": 9,
   "outputs": [
    {
     "data": {
      "text/html": "<style>\n.list-inline {list-style: none; margin:0; padding: 0}\n.list-inline>li {display: inline-block}\n.list-inline>li:not(:last-child)::after {content: \"\\00b7\"; padding: 0 .5ex}\n</style>\n<ol class=list-inline><li>'x'</li><li>'x3'</li><li>'y'</li></ol>\n",
      "text/markdown": "1. 'x'\n2. 'x3'\n3. 'y'\n\n\n",
      "text/latex": "\\begin{enumerate*}\n\\item 'x'\n\\item 'x3'\n\\item 'y'\n\\end{enumerate*}\n",
      "text/plain": "[1] \"x\"  \"x3\" \"y\" "
     },
     "metadata": {},
     "output_type": "display_data"
    }
   ],
   "source": [
    "ls()"
   ],
   "metadata": {
    "collapsed": false,
    "ExecuteTime": {
     "end_time": "2023-09-02T08:08:15.723613Z",
     "start_time": "2023-09-02T08:08:15.427699Z"
    }
   },
   "id": "799b65045fad45a4"
  },
  {
   "cell_type": "markdown",
   "source": [
    "**생성된 객체의 저장**\n",
    "\n",
    "`sane.image()`를 사용하면 객체를 저장할 수 있다. 확장자는 RData이다"
   ],
   "metadata": {
    "collapsed": false
   },
   "id": "5d6babc07ad98bb8"
  },
  {
   "cell_type": "code",
   "execution_count": 10,
   "outputs": [],
   "source": [
    "save.image()"
   ],
   "metadata": {
    "collapsed": false,
    "ExecuteTime": {
     "end_time": "2023-09-02T08:08:15.723731Z",
     "start_time": "2023-09-02T08:08:15.434354Z"
    }
   },
   "id": "9f56788cf19b2cc5"
  },
  {
   "cell_type": "markdown",
   "source": [
    "**Magic Function**\n",
    "\n",
    "여러개의 객체를 한꺼번에 다 지우고 싶을 때에는 `?rm`을 입력하면 된다"
   ],
   "metadata": {
    "collapsed": false
   },
   "id": "c5c7de8ebe631327"
  },
  {
   "cell_type": "code",
   "execution_count": 11,
   "outputs": [],
   "source": [
    "?rm"
   ],
   "metadata": {
    "collapsed": false,
    "ExecuteTime": {
     "end_time": "2023-09-02T08:08:16.072286Z",
     "start_time": "2023-09-02T08:08:15.443706Z"
    }
   },
   "id": "69eea9923a76c498"
  },
  {
   "cell_type": "markdown",
   "source": [
    "또는 아래와 같은 방법을 사용하면 된다"
   ],
   "metadata": {
    "collapsed": false
   },
   "id": "9f2fbc7336c77f13"
  },
  {
   "cell_type": "code",
   "execution_count": 12,
   "outputs": [],
   "source": [
    "rm(list = ls()) # remove all of objects"
   ],
   "metadata": {
    "collapsed": false,
    "ExecuteTime": {
     "end_time": "2023-09-02T08:08:16.072672Z",
     "start_time": "2023-09-02T08:08:16.054662Z"
    }
   },
   "id": "3c57582b14f21615"
  },
  {
   "cell_type": "code",
   "execution_count": 13,
   "outputs": [
    {
     "data": {
      "text/html": "",
      "text/markdown": "",
      "text/latex": "",
      "text/plain": "character(0)"
     },
     "metadata": {},
     "output_type": "display_data"
    }
   ],
   "source": [
    "ls() # empty data"
   ],
   "metadata": {
    "collapsed": false,
    "ExecuteTime": {
     "end_time": "2023-09-02T08:08:16.073226Z",
     "start_time": "2023-09-02T08:08:16.058963Z"
    }
   },
   "id": "67088055a0c5ff31"
  },
  {
   "cell_type": "markdown",
   "source": [
    "#### 2. Vector, Matrix, Data Frame\n",
    "\n",
    "##### 2.1 Vector\n",
    "\n",
    "R에서 데이터의 최소 단위는 vector이다. vector의 크기가 1인 것을 scalar라고 한다\n"
   ],
   "metadata": {
    "collapsed": false
   },
   "id": "f3eb2ac9c22a1c5d"
  },
  {
   "cell_type": "markdown",
   "source": [
    "**기본 Sequence 만들기**"
   ],
   "metadata": {
    "collapsed": false
   },
   "id": "f9bd71313947f2d7"
  },
  {
   "cell_type": "code",
   "execution_count": 14,
   "outputs": [
    {
     "name": "stdout",
     "output_type": "stream",
     "text": [
      "[1] 1 2 3 4 5\n"
     ]
    }
   ],
   "source": [
    "print(1:5) # sequence"
   ],
   "metadata": {
    "collapsed": false,
    "ExecuteTime": {
     "end_time": "2023-09-02T08:08:16.073820Z",
     "start_time": "2023-09-02T08:08:16.067745Z"
    }
   },
   "id": "e1890a776beff861"
  },
  {
   "cell_type": "markdown",
   "source": [
    "`seq()`함수를 통해서도 생성이 가능하다"
   ],
   "metadata": {
    "collapsed": false
   },
   "id": "fee981e6a980cbc6"
  },
  {
   "cell_type": "code",
   "execution_count": 15,
   "outputs": [
    {
     "name": "stdout",
     "output_type": "stream",
     "text": [
      "[1] 1 2 3 4 5\n"
     ]
    }
   ],
   "source": [
    "print(seq(1,5))"
   ],
   "metadata": {
    "collapsed": false,
    "ExecuteTime": {
     "end_time": "2023-09-02T08:08:16.097083Z",
     "start_time": "2023-09-02T08:08:16.073626Z"
    }
   },
   "id": "c01016f70732ac21"
  },
  {
   "cell_type": "markdown",
   "source": [
    "parameter `by`를 이용해 간격을 조절할 수 있다"
   ],
   "metadata": {
    "collapsed": false
   },
   "id": "d305ef4b0ea0fab1"
  },
  {
   "cell_type": "code",
   "execution_count": 16,
   "outputs": [
    {
     "name": "stdout",
     "output_type": "stream",
     "text": [
      " [1] 1.00 1.25 1.50 1.75 2.00 2.25 2.50 2.75 3.00 3.25 3.50 3.75 4.00 4.25 4.50\n",
      "[16] 4.75 5.00\n"
     ]
    }
   ],
   "source": [
    "print(seq(1, 5, by = 0.25))"
   ],
   "metadata": {
    "collapsed": false,
    "ExecuteTime": {
     "end_time": "2023-09-02T08:08:16.106458Z",
     "start_time": "2023-09-02T08:08:16.078907Z"
    }
   },
   "id": "6b969259af225f2a"
  },
  {
   "cell_type": "markdown",
   "source": [
    "parameter `l`을 사용하면 갯수에 맞게 시퀀스의 길이를 조절해 준다"
   ],
   "metadata": {
    "collapsed": false
   },
   "id": "c226428d096cf9d2"
  },
  {
   "cell_type": "code",
   "execution_count": 17,
   "outputs": [
    {
     "name": "stdout",
     "output_type": "stream",
     "text": [
      "[1] 1.0 1.5 2.0 2.5 3.0 3.5 4.0 4.5 5.0\n"
     ]
    }
   ],
   "source": [
    "print(seq(1, 5, l = 9))"
   ],
   "metadata": {
    "collapsed": false,
    "ExecuteTime": {
     "end_time": "2023-09-02T08:08:16.107186Z",
     "start_time": "2023-09-02T08:08:16.085111Z"
    }
   },
   "id": "b30683a4c90265d0"
  },
  {
   "cell_type": "markdown",
   "source": [
    "**객체의 반복**\n",
    "\n",
    "`rep()`함수를 사용하면 객체 반복이 가능하다"
   ],
   "metadata": {
    "collapsed": false
   },
   "id": "212064f79f9d78df"
  },
  {
   "cell_type": "code",
   "execution_count": 18,
   "outputs": [
    {
     "name": "stdout",
     "output_type": "stream",
     "text": [
      "[1] 1 2 3 1 2 3\n"
     ]
    }
   ],
   "source": [
    "print(rep(1:3, 2))"
   ],
   "metadata": {
    "collapsed": false,
    "ExecuteTime": {
     "end_time": "2023-09-02T08:08:16.166717Z",
     "start_time": "2023-09-02T08:08:16.090834Z"
    }
   },
   "id": "c7c9234dc519e6c1"
  },
  {
   "cell_type": "code",
   "execution_count": 19,
   "outputs": [
    {
     "name": "stdout",
     "output_type": "stream",
     "text": [
      "[1] \"A\" \"B\" \"C\" \"A\" \"B\" \"C\"\n"
     ]
    }
   ],
   "source": [
    "print(rep(LETTERS[1:3], 2)) # slicing"
   ],
   "metadata": {
    "collapsed": false,
    "ExecuteTime": {
     "end_time": "2023-09-02T08:08:16.170405Z",
     "start_time": "2023-09-02T08:08:16.096681Z"
    }
   },
   "id": "be57a8126372ffc2"
  },
  {
   "cell_type": "markdown",
   "source": [
    "parameter `e`를 사용하여 문자별 반복 횟수를 지정할 수 있다"
   ],
   "metadata": {
    "collapsed": false
   },
   "id": "9a445348dd3f90de"
  },
  {
   "cell_type": "code",
   "execution_count": 20,
   "outputs": [
    {
     "name": "stdout",
     "output_type": "stream",
     "text": [
      "[1] 1 1 2 2 3 3\n"
     ]
    }
   ],
   "source": [
    "print(rep(1:3, e = 2)) # each"
   ],
   "metadata": {
    "collapsed": false,
    "ExecuteTime": {
     "end_time": "2023-09-02T08:08:16.184874Z",
     "start_time": "2023-09-02T08:08:16.102985Z"
    }
   },
   "id": "1d9b0375caf45408"
  },
  {
   "cell_type": "code",
   "execution_count": 21,
   "outputs": [
    {
     "name": "stdout",
     "output_type": "stream",
     "text": [
      "[1] \"A\" \"B\" \"B\" \"C\" \"C\" \"C\"\n"
     ]
    }
   ],
   "source": [
    "print(rep(LETTERS[1:3], 1:3))"
   ],
   "metadata": {
    "collapsed": false,
    "ExecuteTime": {
     "end_time": "2023-09-02T08:08:16.185277Z",
     "start_time": "2023-09-02T08:08:16.109679Z"
    }
   },
   "id": "9c303cbfe8c58e"
  },
  {
   "cell_type": "code",
   "execution_count": 22,
   "outputs": [
    {
     "name": "stdout",
     "output_type": "stream",
     "text": [
      "[1] \"A\" \"A\" \"B\" \"B\" \"C\" \"C\"\n"
     ]
    }
   ],
   "source": [
    "print(rep(LETTERS[1:3], rep(2,3)))"
   ],
   "metadata": {
    "collapsed": false,
    "ExecuteTime": {
     "end_time": "2023-09-02T08:08:16.185745Z",
     "start_time": "2023-09-02T08:08:16.115473Z"
    }
   },
   "id": "9d8e6cf5feaf647d"
  },
  {
   "cell_type": "markdown",
   "source": [
    "**Vector**\n",
    "\n",
    "`c()`함수를 사용하여 Vector를 만들 수 있다"
   ],
   "metadata": {
    "collapsed": false
   },
   "id": "dab30607fb2a09b4"
  },
  {
   "cell_type": "code",
   "execution_count": 23,
   "outputs": [
    {
     "name": "stdout",
     "output_type": "stream",
     "text": [
      "[1] 1 7 5\n"
     ]
    }
   ],
   "source": [
    "print(c(1, 7, 5))"
   ],
   "metadata": {
    "collapsed": false,
    "ExecuteTime": {
     "end_time": "2023-09-02T08:08:16.186386Z",
     "start_time": "2023-09-02T08:08:16.121033Z"
    }
   },
   "id": "6bd7a3655458ce7f"
  },
  {
   "cell_type": "code",
   "execution_count": 24,
   "outputs": [
    {
     "name": "stdout",
     "output_type": "stream",
     "text": [
      "[1] \"a\" \"x\" \"q\"\n"
     ]
    }
   ],
   "source": [
    "print(c('a','x','q'))"
   ],
   "metadata": {
    "collapsed": false,
    "ExecuteTime": {
     "end_time": "2023-09-02T08:08:16.186740Z",
     "start_time": "2023-09-02T08:08:16.126862Z"
    }
   },
   "id": "d14530db11fcf63d"
  },
  {
   "cell_type": "markdown",
   "source": [
    "`length()`함수를 사용하며 vector의 길이를 측정할 수 있다"
   ],
   "metadata": {
    "collapsed": false
   },
   "id": "9d657c79368b2f6b"
  },
  {
   "cell_type": "code",
   "execution_count": 25,
   "outputs": [
    {
     "name": "stdout",
     "output_type": "stream",
     "text": [
      "[1] 1 7 5\n",
      "[1] 3\n"
     ]
    }
   ],
   "source": [
    "x = c(1, 7, 5)\n",
    "print(x)\n",
    "print(length(x))"
   ],
   "metadata": {
    "collapsed": false,
    "ExecuteTime": {
     "end_time": "2023-09-02T08:08:16.194388Z",
     "start_time": "2023-09-02T08:08:16.133131Z"
    }
   },
   "id": "1bd99c962426c2c4"
  },
  {
   "cell_type": "markdown",
   "source": [
    "**Vector Arithmetic**\n",
    "\n",
    "python에서 broadcasting과 비슷한 기능이다"
   ],
   "metadata": {
    "collapsed": false
   },
   "id": "c9d506be2dc9f49d"
  },
  {
   "cell_type": "code",
   "execution_count": 26,
   "outputs": [
    {
     "data": {
      "text/html": "<style>\n.list-inline {list-style: none; margin:0; padding: 0}\n.list-inline>li {display: inline-block}\n.list-inline>li:not(:last-child)::after {content: \"\\00b7\"; padding: 0 .5ex}\n</style>\n<ol class=list-inline><li>2</li><li>9</li><li>8</li></ol>\n",
      "text/markdown": "1. 2\n2. 9\n3. 8\n\n\n",
      "text/latex": "\\begin{enumerate*}\n\\item 2\n\\item 9\n\\item 8\n\\end{enumerate*}\n",
      "text/plain": "[1] 2 9 8"
     },
     "metadata": {},
     "output_type": "display_data"
    }
   ],
   "source": [
    "1:3 + x"
   ],
   "metadata": {
    "collapsed": false,
    "ExecuteTime": {
     "end_time": "2023-09-02T08:08:16.195598Z",
     "start_time": "2023-09-02T08:08:16.143280Z"
    }
   },
   "id": "e09aa4d92394fd10"
  },
  {
   "cell_type": "code",
   "execution_count": 27,
   "outputs": [
    {
     "name": "stdout",
     "output_type": "stream",
     "text": [
      "[1] 1.000000 2.645751 2.236068\n"
     ]
    }
   ],
   "source": [
    "print(sqrt(x))"
   ],
   "metadata": {
    "collapsed": false,
    "ExecuteTime": {
     "end_time": "2023-09-02T08:08:16.196055Z",
     "start_time": "2023-09-02T08:08:16.149862Z"
    }
   },
   "id": "65d53d7e169002bc"
  },
  {
   "cell_type": "markdown",
   "source": [
    "**subsetting**\n",
    "\n",
    "Indexing, Slicing을 하는 방법이다"
   ],
   "metadata": {
    "collapsed": false
   },
   "id": "67076f8a30bc1e56"
  },
  {
   "cell_type": "code",
   "execution_count": 28,
   "outputs": [
    {
     "data": {
      "text/html": "<style>\n.list-inline {list-style: none; margin:0; padding: 0}\n.list-inline>li {display: inline-block}\n.list-inline>li:not(:last-child)::after {content: \"\\00b7\"; padding: 0 .5ex}\n</style>\n<ol class=list-inline><li>'a'</li><li>'b'</li><li>'c'</li><li>'d'</li><li>'e'</li><li>'f'</li><li>'g'</li><li>'h'</li><li>'i'</li><li>'j'</li><li>'k'</li><li>'l'</li></ol>\n",
      "text/markdown": "1. 'a'\n2. 'b'\n3. 'c'\n4. 'd'\n5. 'e'\n6. 'f'\n7. 'g'\n8. 'h'\n9. 'i'\n10. 'j'\n11. 'k'\n12. 'l'\n\n\n",
      "text/latex": "\\begin{enumerate*}\n\\item 'a'\n\\item 'b'\n\\item 'c'\n\\item 'd'\n\\item 'e'\n\\item 'f'\n\\item 'g'\n\\item 'h'\n\\item 'i'\n\\item 'j'\n\\item 'k'\n\\item 'l'\n\\end{enumerate*}\n",
      "text/plain": " [1] \"a\" \"b\" \"c\" \"d\" \"e\" \"f\" \"g\" \"h\" \"i\" \"j\" \"k\" \"l\""
     },
     "metadata": {},
     "output_type": "display_data"
    }
   ],
   "source": [
    "letters[1:12] # slicing"
   ],
   "metadata": {
    "collapsed": false,
    "ExecuteTime": {
     "end_time": "2023-09-02T08:08:16.197011Z",
     "start_time": "2023-09-02T08:08:16.155802Z"
    }
   },
   "id": "ba62d438cdd24efc"
  },
  {
   "cell_type": "code",
   "execution_count": 29,
   "outputs": [
    {
     "data": {
      "text/html": "<style>\n.list-inline {list-style: none; margin:0; padding: 0}\n.list-inline>li {display: inline-block}\n.list-inline>li:not(:last-child)::after {content: \"\\00b7\"; padding: 0 .5ex}\n</style>\n<ol class=list-inline><li>'a'</li><li>'j'</li><li>'t'</li></ol>\n",
      "text/markdown": "1. 'a'\n2. 'j'\n3. 't'\n\n\n",
      "text/latex": "\\begin{enumerate*}\n\\item 'a'\n\\item 'j'\n\\item 't'\n\\end{enumerate*}\n",
      "text/plain": "[1] \"a\" \"j\" \"t\""
     },
     "metadata": {},
     "output_type": "display_data"
    }
   ],
   "source": [
    "letters[c(1, 10, 20)]"
   ],
   "metadata": {
    "collapsed": false,
    "ExecuteTime": {
     "end_time": "2023-09-02T08:08:16.206113Z",
     "start_time": "2023-09-02T08:08:16.161805Z"
    }
   },
   "id": "77704d41b7885283"
  },
  {
   "cell_type": "code",
   "execution_count": 30,
   "outputs": [
    {
     "data": {
      "text/html": "<style>\n.list-inline {list-style: none; margin:0; padding: 0}\n.list-inline>li {display: inline-block}\n.list-inline>li:not(:last-child)::after {content: \"\\00b7\"; padding: 0 .5ex}\n</style>\n<ol class=list-inline><li>1</li><li>3</li></ol>\n",
      "text/markdown": "1. 1\n2. 3\n\n\n",
      "text/latex": "\\begin{enumerate*}\n\\item 1\n\\item 3\n\\end{enumerate*}\n",
      "text/plain": "[1] 1 3"
     },
     "metadata": {},
     "output_type": "display_data"
    }
   ],
   "source": [
    "(1:4)[c(T,F,T,F)] # Boolean Indexing"
   ],
   "metadata": {
    "collapsed": false,
    "ExecuteTime": {
     "end_time": "2023-09-02T08:08:16.215707Z",
     "start_time": "2023-09-02T08:08:16.168397Z"
    }
   },
   "id": "f7802167732867d7"
  },
  {
   "cell_type": "code",
   "execution_count": 31,
   "outputs": [
    {
     "data": {
      "text/html": "<style>\n.list-inline {list-style: none; margin:0; padding: 0}\n.list-inline>li {display: inline-block}\n.list-inline>li:not(:last-child)::after {content: \"\\00b7\"; padding: 0 .5ex}\n</style>\n<ol class=list-inline><li>5</li><li>7</li></ol>\n",
      "text/markdown": "1. 5\n2. 7\n\n\n",
      "text/latex": "\\begin{enumerate*}\n\\item 5\n\\item 7\n\\end{enumerate*}\n",
      "text/plain": "[1] 5 7"
     },
     "metadata": {},
     "output_type": "display_data"
    }
   ],
   "source": [
    "x = c(1, 5, 7, 0)\n",
    "x[x > 3] # Boolean Indexing"
   ],
   "metadata": {
    "collapsed": false,
    "ExecuteTime": {
     "end_time": "2023-09-02T08:08:16.216439Z",
     "start_time": "2023-09-02T08:08:16.174456Z"
    }
   },
   "id": "15ddbe507b163e09"
  },
  {
   "cell_type": "code",
   "execution_count": 32,
   "outputs": [
    {
     "data": {
      "text/html": "15",
      "text/markdown": "15",
      "text/latex": "15",
      "text/plain": "[1] 15"
     },
     "metadata": {},
     "output_type": "display_data"
    }
   ],
   "source": [
    "x = 11:20\n",
    "x[5]"
   ],
   "metadata": {
    "collapsed": false,
    "ExecuteTime": {
     "end_time": "2023-09-02T08:08:16.236193Z",
     "start_time": "2023-09-02T08:08:16.181343Z"
    }
   },
   "id": "e27e4951484ac6ac"
  },
  {
   "cell_type": "markdown",
   "source": [
    "음수 인덱싱의 경우 python과는 다르게 그 값을 제외한 vector의 모든 원소를 출력한다"
   ],
   "metadata": {
    "collapsed": false
   },
   "id": "db6c2f3702847927"
  },
  {
   "cell_type": "code",
   "execution_count": 33,
   "outputs": [
    {
     "data": {
      "text/html": "<style>\n.list-inline {list-style: none; margin:0; padding: 0}\n.list-inline>li {display: inline-block}\n.list-inline>li:not(:last-child)::after {content: \"\\00b7\"; padding: 0 .5ex}\n</style>\n<ol class=list-inline><li>11</li><li>12</li><li>13</li><li>14</li><li>16</li><li>17</li><li>18</li><li>19</li><li>20</li></ol>\n",
      "text/markdown": "1. 11\n2. 12\n3. 13\n4. 14\n5. 16\n6. 17\n7. 18\n8. 19\n9. 20\n\n\n",
      "text/latex": "\\begin{enumerate*}\n\\item 11\n\\item 12\n\\item 13\n\\item 14\n\\item 16\n\\item 17\n\\item 18\n\\item 19\n\\item 20\n\\end{enumerate*}\n",
      "text/plain": "[1] 11 12 13 14 16 17 18 19 20"
     },
     "metadata": {},
     "output_type": "display_data"
    }
   ],
   "source": [
    "x[-5]"
   ],
   "metadata": {
    "collapsed": false,
    "ExecuteTime": {
     "end_time": "2023-09-02T08:08:16.369854Z",
     "start_time": "2023-09-02T08:08:16.188421Z"
    }
   },
   "id": "3bb462e1e47d055e"
  },
  {
   "cell_type": "code",
   "execution_count": 34,
   "outputs": [
    {
     "data": {
      "text/html": "<style>\n.list-inline {list-style: none; margin:0; padding: 0}\n.list-inline>li {display: inline-block}\n.list-inline>li:not(:last-child)::after {content: \"\\00b7\"; padding: 0 .5ex}\n</style>\n<ol class=list-inline><li>13</li><li>15</li></ol>\n",
      "text/markdown": "1. 13\n2. 15\n\n\n",
      "text/latex": "\\begin{enumerate*}\n\\item 13\n\\item 15\n\\end{enumerate*}\n",
      "text/plain": "[1] 13 15"
     },
     "metadata": {},
     "output_type": "display_data"
    }
   ],
   "source": [
    "x[c(3, 5)]"
   ],
   "metadata": {
    "collapsed": false,
    "ExecuteTime": {
     "end_time": "2023-09-02T08:08:16.396366Z",
     "start_time": "2023-09-02T08:08:16.195109Z"
    }
   },
   "id": "7d3b330f60689e9c"
  },
  {
   "cell_type": "code",
   "execution_count": 35,
   "outputs": [
    {
     "data": {
      "text/html": "<style>\n.list-inline {list-style: none; margin:0; padding: 0}\n.list-inline>li {display: inline-block}\n.list-inline>li:not(:last-child)::after {content: \"\\00b7\"; padding: 0 .5ex}\n</style>\n<ol class=list-inline><li>11</li><li>12</li><li>14</li><li>16</li><li>17</li><li>18</li><li>19</li><li>20</li></ol>\n",
      "text/markdown": "1. 11\n2. 12\n3. 14\n4. 16\n5. 17\n6. 18\n7. 19\n8. 20\n\n\n",
      "text/latex": "\\begin{enumerate*}\n\\item 11\n\\item 12\n\\item 14\n\\item 16\n\\item 17\n\\item 18\n\\item 19\n\\item 20\n\\end{enumerate*}\n",
      "text/plain": "[1] 11 12 14 16 17 18 19 20"
     },
     "metadata": {},
     "output_type": "display_data"
    }
   ],
   "source": [
    "x[-c(3, 5)]"
   ],
   "metadata": {
    "collapsed": false,
    "ExecuteTime": {
     "end_time": "2023-09-02T08:08:16.398652Z",
     "start_time": "2023-09-02T08:08:16.202081Z"
    }
   },
   "id": "fa9c9cf0ad08fc76"
  },
  {
   "cell_type": "markdown",
   "source": [
    "##### 2.2 Matrix"
   ],
   "metadata": {
    "collapsed": false
   },
   "id": "88f8e5c35454c6a7"
  },
  {
   "cell_type": "code",
   "execution_count": 36,
   "outputs": [
    {
     "name": "stdout",
     "output_type": "stream",
     "text": [
      "     [,1] [,2] [,3] [,4]\n",
      "[1,]    1    4    7   10\n",
      "[2,]    2    5    8   11\n",
      "[3,]    3    6    9   12\n"
     ]
    }
   ],
   "source": [
    "s = matrix(1:12, , 4)\n",
    "print(s)"
   ],
   "metadata": {
    "collapsed": false,
    "ExecuteTime": {
     "end_time": "2023-09-02T08:08:16.398902Z",
     "start_time": "2023-09-02T08:08:16.208841Z"
    }
   },
   "id": "6229045c735947fa"
  },
  {
   "cell_type": "markdown",
   "source": [
    "비어있는 경우 차원에 맞게 자동으로 할당한다"
   ],
   "metadata": {
    "collapsed": false
   },
   "id": "6673f5d0fdaf7806"
  },
  {
   "cell_type": "code",
   "execution_count": 37,
   "outputs": [
    {
     "name": "stdout",
     "output_type": "stream",
     "text": [
      "     [,1] [,2] [,3]\n",
      "[1,] \"a\"  \"e\"  \"i\" \n",
      "[2,] \"b\"  \"f\"  \"j\" \n",
      "[3,] \"c\"  \"g\"  \"k\" \n",
      "[4,] \"d\"  \"h\"  \"l\" \n"
     ]
    }
   ],
   "source": [
    "p = matrix(letters[1:12], 4, 3)\n",
    "print(p)"
   ],
   "metadata": {
    "collapsed": false,
    "ExecuteTime": {
     "end_time": "2023-09-02T08:08:16.405153Z",
     "start_time": "2023-09-02T08:08:16.215866Z"
    }
   },
   "id": "cc19315ef1906f4c"
  },
  {
   "cell_type": "markdown",
   "source": [
    "`class()` 함수를 사용하면 자료형을 볼 수 있다"
   ],
   "metadata": {
    "collapsed": false
   },
   "id": "1bf405697cee03c0"
  },
  {
   "cell_type": "code",
   "execution_count": 38,
   "outputs": [
    {
     "data": {
      "text/html": "<style>\n.list-inline {list-style: none; margin:0; padding: 0}\n.list-inline>li {display: inline-block}\n.list-inline>li:not(:last-child)::after {content: \"\\00b7\"; padding: 0 .5ex}\n</style>\n<ol class=list-inline><li>'matrix'</li><li>'array'</li></ol>\n",
      "text/markdown": "1. 'matrix'\n2. 'array'\n\n\n",
      "text/latex": "\\begin{enumerate*}\n\\item 'matrix'\n\\item 'array'\n\\end{enumerate*}\n",
      "text/plain": "[1] \"matrix\" \"array\" "
     },
     "metadata": {},
     "output_type": "display_data"
    }
   ],
   "source": [
    "class(s) # class function"
   ],
   "metadata": {
    "collapsed": false,
    "ExecuteTime": {
     "end_time": "2023-09-02T08:08:16.411574Z",
     "start_time": "2023-09-02T08:08:16.225472Z"
    }
   },
   "id": "3aa70b3ed8016deb"
  },
  {
   "cell_type": "markdown",
   "source": [
    "`dim()` 함수는 행렬의 형태를 출력한다"
   ],
   "metadata": {
    "collapsed": false
   },
   "id": "6f8a0df1f0b7a055"
  },
  {
   "cell_type": "code",
   "execution_count": 39,
   "outputs": [
    {
     "data": {
      "text/html": "<style>\n.list-inline {list-style: none; margin:0; padding: 0}\n.list-inline>li {display: inline-block}\n.list-inline>li:not(:last-child)::after {content: \"\\00b7\"; padding: 0 .5ex}\n</style>\n<ol class=list-inline><li>3</li><li>4</li></ol>\n",
      "text/markdown": "1. 3\n2. 4\n\n\n",
      "text/latex": "\\begin{enumerate*}\n\\item 3\n\\item 4\n\\end{enumerate*}\n",
      "text/plain": "[1] 3 4"
     },
     "metadata": {},
     "output_type": "display_data"
    }
   ],
   "source": [
    "dim(s)"
   ],
   "metadata": {
    "collapsed": false,
    "ExecuteTime": {
     "end_time": "2023-09-02T08:08:16.413747Z",
     "start_time": "2023-09-02T08:08:16.232Z"
    }
   },
   "id": "3a7d3a435886e39d"
  },
  {
   "cell_type": "markdown",
   "source": [
    "`t()` 함수는 transpose(전치)를 수행하는 함수이다"
   ],
   "metadata": {
    "collapsed": false
   },
   "id": "930e4c864b2ecaa2"
  },
  {
   "cell_type": "code",
   "execution_count": 40,
   "outputs": [
    {
     "data": {
      "text/html": "<table class=\"dataframe\">\n<caption>A matrix: 4 × 3 of type int</caption>\n<tbody>\n\t<tr><td> 1</td><td> 2</td><td> 3</td></tr>\n\t<tr><td> 4</td><td> 5</td><td> 6</td></tr>\n\t<tr><td> 7</td><td> 8</td><td> 9</td></tr>\n\t<tr><td>10</td><td>11</td><td>12</td></tr>\n</tbody>\n</table>\n",
      "text/markdown": "\nA matrix: 4 × 3 of type int\n\n|  1 |  2 |  3 |\n|  4 |  5 |  6 |\n|  7 |  8 |  9 |\n| 10 | 11 | 12 |\n\n",
      "text/latex": "A matrix: 4 × 3 of type int\n\\begin{tabular}{lll}\n\t  1 &  2 &  3\\\\\n\t  4 &  5 &  6\\\\\n\t  7 &  8 &  9\\\\\n\t 10 & 11 & 12\\\\\n\\end{tabular}\n",
      "text/plain": "     [,1] [,2] [,3]\n[1,]  1    2    3  \n[2,]  4    5    6  \n[3,]  7    8    9  \n[4,] 10   11   12  "
     },
     "metadata": {},
     "output_type": "display_data"
    }
   ],
   "source": [
    "t(s)"
   ],
   "metadata": {
    "collapsed": false,
    "ExecuteTime": {
     "end_time": "2023-09-02T08:08:16.414828Z",
     "start_time": "2023-09-02T08:08:16.238220Z"
    }
   },
   "id": "4a2d7d9667e5c4fe"
  },
  {
   "cell_type": "markdown",
   "source": [
    "`nrow()` `ncol()` 함수는 각각 열과 행의 갯수를 출력한다"
   ],
   "metadata": {
    "collapsed": false
   },
   "id": "42fc5fedf1a779d4"
  },
  {
   "cell_type": "code",
   "execution_count": 41,
   "outputs": [
    {
     "data": {
      "text/html": "4",
      "text/markdown": "4",
      "text/latex": "4",
      "text/plain": "[1] 4"
     },
     "metadata": {},
     "output_type": "display_data"
    }
   ],
   "source": [
    "ncol(s)"
   ],
   "metadata": {
    "collapsed": false,
    "ExecuteTime": {
     "end_time": "2023-09-02T08:08:16.415428Z",
     "start_time": "2023-09-02T08:08:16.248047Z"
    }
   },
   "id": "5c83f671b6eda16"
  },
  {
   "cell_type": "code",
   "execution_count": 42,
   "outputs": [
    {
     "data": {
      "text/html": "3",
      "text/markdown": "3",
      "text/latex": "3",
      "text/plain": "[1] 3"
     },
     "metadata": {},
     "output_type": "display_data"
    }
   ],
   "source": [
    "nrow(s)"
   ],
   "metadata": {
    "collapsed": false,
    "ExecuteTime": {
     "end_time": "2023-09-02T08:08:16.415796Z",
     "start_time": "2023-09-02T08:08:16.254520Z"
    }
   },
   "id": "19f5459756ab4d79"
  },
  {
   "cell_type": "markdown",
   "source": [
    "`diag()`함수는 행렬은 대각행렬을 생성한다"
   ],
   "metadata": {
    "collapsed": false
   },
   "id": "61809d568c4e5dac"
  },
  {
   "cell_type": "code",
   "execution_count": 43,
   "outputs": [
    {
     "data": {
      "text/html": "<table class=\"dataframe\">\n<caption>A matrix: 3 × 3 of type dbl</caption>\n<tbody>\n\t<tr><td>1</td><td>0</td><td>0</td></tr>\n\t<tr><td>0</td><td>1</td><td>0</td></tr>\n\t<tr><td>0</td><td>0</td><td>1</td></tr>\n</tbody>\n</table>\n",
      "text/markdown": "\nA matrix: 3 × 3 of type dbl\n\n| 1 | 0 | 0 |\n| 0 | 1 | 0 |\n| 0 | 0 | 1 |\n\n",
      "text/latex": "A matrix: 3 × 3 of type dbl\n\\begin{tabular}{lll}\n\t 1 & 0 & 0\\\\\n\t 0 & 1 & 0\\\\\n\t 0 & 0 & 1\\\\\n\\end{tabular}\n",
      "text/plain": "     [,1] [,2] [,3]\n[1,] 1    0    0   \n[2,] 0    1    0   \n[3,] 0    0    1   "
     },
     "metadata": {},
     "output_type": "display_data"
    }
   ],
   "source": [
    "diag(3)"
   ],
   "metadata": {
    "collapsed": false,
    "ExecuteTime": {
     "end_time": "2023-09-02T08:08:16.416490Z",
     "start_time": "2023-09-02T08:08:16.260752Z"
    }
   },
   "id": "6256451bf4734f87"
  },
  {
   "cell_type": "code",
   "execution_count": 44,
   "outputs": [
    {
     "data": {
      "text/html": "<table class=\"dataframe\">\n<caption>A matrix: 3 × 3 of type int</caption>\n<tbody>\n\t<tr><td>1</td><td>0</td><td>0</td></tr>\n\t<tr><td>0</td><td>2</td><td>0</td></tr>\n\t<tr><td>0</td><td>0</td><td>3</td></tr>\n</tbody>\n</table>\n",
      "text/markdown": "\nA matrix: 3 × 3 of type int\n\n| 1 | 0 | 0 |\n| 0 | 2 | 0 |\n| 0 | 0 | 3 |\n\n",
      "text/latex": "A matrix: 3 × 3 of type int\n\\begin{tabular}{lll}\n\t 1 & 0 & 0\\\\\n\t 0 & 2 & 0\\\\\n\t 0 & 0 & 3\\\\\n\\end{tabular}\n",
      "text/plain": "     [,1] [,2] [,3]\n[1,] 1    0    0   \n[2,] 0    2    0   \n[3,] 0    0    3   "
     },
     "metadata": {},
     "output_type": "display_data"
    }
   ],
   "source": [
    "diag(1:3)"
   ],
   "metadata": {
    "collapsed": false,
    "ExecuteTime": {
     "end_time": "2023-09-02T08:08:16.417113Z",
     "start_time": "2023-09-02T08:08:16.267599Z"
    }
   },
   "id": "cd6f77a0b4396ec1"
  },
  {
   "cell_type": "markdown",
   "source": [
    "기존에 이미 행렬이 초기화되었을 경우 대각 원소를 추출해 출력한다"
   ],
   "metadata": {
    "collapsed": false
   },
   "id": "40026ded0f70c7a0"
  },
  {
   "cell_type": "code",
   "execution_count": 45,
   "outputs": [
    {
     "data": {
      "text/html": "<style>\n.list-inline {list-style: none; margin:0; padding: 0}\n.list-inline>li {display: inline-block}\n.list-inline>li:not(:last-child)::after {content: \"\\00b7\"; padding: 0 .5ex}\n</style>\n<ol class=list-inline><li>1</li><li>5</li><li>9</li></ol>\n",
      "text/markdown": "1. 1\n2. 5\n3. 9\n\n\n",
      "text/latex": "\\begin{enumerate*}\n\\item 1\n\\item 5\n\\item 9\n\\end{enumerate*}\n",
      "text/plain": "[1] 1 5 9"
     },
     "metadata": {},
     "output_type": "display_data"
    }
   ],
   "source": [
    "diag(s)"
   ],
   "metadata": {
    "collapsed": false,
    "ExecuteTime": {
     "end_time": "2023-09-02T08:08:16.417676Z",
     "start_time": "2023-09-02T08:08:16.275367Z"
    }
   },
   "id": "61c353169d28e370"
  },
  {
   "cell_type": "code",
   "execution_count": 46,
   "outputs": [
    {
     "data": {
      "text/html": "<style>\n.list-inline {list-style: none; margin:0; padding: 0}\n.list-inline>li {display: inline-block}\n.list-inline>li:not(:last-child)::after {content: \"\\00b7\"; padding: 0 .5ex}\n</style>\n<ol class=list-inline><li>'a'</li><li>'f'</li><li>'k'</li></ol>\n",
      "text/markdown": "1. 'a'\n2. 'f'\n3. 'k'\n\n\n",
      "text/latex": "\\begin{enumerate*}\n\\item 'a'\n\\item 'f'\n\\item 'k'\n\\end{enumerate*}\n",
      "text/plain": "[1] \"a\" \"f\" \"k\""
     },
     "metadata": {},
     "output_type": "display_data"
    }
   ],
   "source": [
    "diag(p)"
   ],
   "metadata": {
    "collapsed": false,
    "ExecuteTime": {
     "end_time": "2023-09-02T08:08:16.418566Z",
     "start_time": "2023-09-02T08:08:16.281712Z"
    }
   },
   "id": "42d508527258621b"
  },
  {
   "cell_type": "markdown",
   "source": [
    "`cbind()` 함수를 사용하면 column을 기준으로 vector를 합친다"
   ],
   "metadata": {
    "collapsed": false
   },
   "id": "1f81f6ee47ac4685"
  },
  {
   "cell_type": "code",
   "execution_count": 47,
   "outputs": [
    {
     "name": "stdout",
     "output_type": "stream",
     "text": [
      "     [,1] [,2]\n",
      "[1,]    1   11\n",
      "[2,]    2   12\n",
      "[3,]    3   13\n",
      "[4,]    4   14\n"
     ]
    }
   ],
   "source": [
    "print(cbind(c(1:4), c(11:14)))"
   ],
   "metadata": {
    "collapsed": false,
    "ExecuteTime": {
     "end_time": "2023-09-02T08:08:16.419014Z",
     "start_time": "2023-09-02T08:08:16.288591Z"
    }
   },
   "id": "62641ac928c20f88"
  },
  {
   "cell_type": "markdown",
   "source": [
    "`rbind()`함수를 사용하면 row를 기준으로 vector를 합친다"
   ],
   "metadata": {
    "collapsed": false
   },
   "id": "e50c0871e5f8e192"
  },
  {
   "cell_type": "code",
   "execution_count": 48,
   "outputs": [
    {
     "name": "stdout",
     "output_type": "stream",
     "text": [
      "     [,1] [,2] [,3] [,4]\n",
      "[1,]    1    2    3    4\n",
      "[2,]   11   12   13   14\n"
     ]
    }
   ],
   "source": [
    "print(rbind(c(1:4), c(11:14)))"
   ],
   "metadata": {
    "collapsed": false,
    "ExecuteTime": {
     "end_time": "2023-09-02T08:08:16.419588Z",
     "start_time": "2023-09-02T08:08:16.294167Z"
    }
   },
   "id": "a8ac72593b48fe58"
  },
  {
   "cell_type": "markdown",
   "source": [
    "행렬 내의 모든 원소들은 같은 데이터 형태를 지녀야 한다"
   ],
   "metadata": {
    "collapsed": false
   },
   "id": "e77e5c944919d0b0"
  },
  {
   "cell_type": "code",
   "execution_count": 49,
   "outputs": [
    {
     "name": "stdout",
     "output_type": "stream",
     "text": [
      "     [,1] [,2]\n",
      "[1,] \"1\"  \"a\" \n",
      "[2,] \"2\"  \"b\" \n",
      "[3,] \"3\"  \"c\" \n",
      "[4,] \"4\"  \"d\" \n"
     ]
    }
   ],
   "source": [
    "print(cbind(c(1:4), letters[1:4]))"
   ],
   "metadata": {
    "collapsed": false,
    "ExecuteTime": {
     "end_time": "2023-09-02T08:08:16.419875Z",
     "start_time": "2023-09-02T08:08:16.299820Z"
    }
   },
   "id": "e704715c8fc97b24"
  },
  {
   "cell_type": "markdown",
   "source": [
    "##### 2.3 Data Frame"
   ],
   "metadata": {
    "collapsed": false
   },
   "id": "4c0a298672071173"
  },
  {
   "cell_type": "code",
   "execution_count": 50,
   "outputs": [
    {
     "name": "stdout",
     "output_type": "stream",
     "text": [
      "     [,1] [,2]\n",
      "[1,] \"1\"  \"a\" \n",
      "[2,] \"2\"  \"b\" \n",
      "[3,] \"3\"  \"c\" \n",
      "[4,] \"4\"  \"d\" \n"
     ]
    }
   ],
   "source": [
    "a = cbind(1:4, letters[1:4]) # matrix\n",
    "print(a)"
   ],
   "metadata": {
    "collapsed": false,
    "ExecuteTime": {
     "end_time": "2023-09-02T08:08:16.420264Z",
     "start_time": "2023-09-02T08:08:16.308212Z"
    }
   },
   "id": "5d82f276b2ad734a"
  },
  {
   "cell_type": "code",
   "execution_count": 51,
   "outputs": [
    {
     "name": "stdout",
     "output_type": "stream",
     "text": [
      "  X1 X2\n",
      "1  1  a\n",
      "2  2  b\n",
      "3  3  c\n",
      "4  4  d\n"
     ]
    }
   ],
   "source": [
    "b = data.frame(a)\n",
    "print(b)"
   ],
   "metadata": {
    "collapsed": false,
    "ExecuteTime": {
     "end_time": "2023-09-02T08:08:16.420519Z",
     "start_time": "2023-09-02T08:08:16.314930Z"
    }
   },
   "id": "68169a170fd2f04d"
  },
  {
   "cell_type": "markdown",
   "source": [
    "Data Frame은 column마다 각기 다른 데이터타입이 올 수 있다"
   ],
   "metadata": {
    "collapsed": false
   },
   "id": "a184ca06b824cfdb"
  },
  {
   "cell_type": "code",
   "execution_count": 52,
   "outputs": [
    {
     "data": {
      "text/html": "<table class=\"dataframe\">\n<caption>A data.frame: 4 × 2</caption>\n<thead>\n\t<tr><th scope=col>nums</th><th scope=col>letter</th></tr>\n\t<tr><th scope=col>&lt;int&gt;</th><th scope=col>&lt;chr&gt;</th></tr>\n</thead>\n<tbody>\n\t<tr><td>1</td><td>a</td></tr>\n\t<tr><td>2</td><td>b</td></tr>\n\t<tr><td>3</td><td>c</td></tr>\n\t<tr><td>4</td><td>d</td></tr>\n</tbody>\n</table>\n",
      "text/markdown": "\nA data.frame: 4 × 2\n\n| nums &lt;int&gt; | letter &lt;chr&gt; |\n|---|---|\n| 1 | a |\n| 2 | b |\n| 3 | c |\n| 4 | d |\n\n",
      "text/latex": "A data.frame: 4 × 2\n\\begin{tabular}{ll}\n nums & letter\\\\\n <int> & <chr>\\\\\n\\hline\n\t 1 & a\\\\\n\t 2 & b\\\\\n\t 3 & c\\\\\n\t 4 & d\\\\\n\\end{tabular}\n",
      "text/plain": "  nums letter\n1 1    a     \n2 2    b     \n3 3    c     \n4 4    d     "
     },
     "metadata": {},
     "output_type": "display_data"
    }
   ],
   "source": [
    "c = data.frame(nums = 1:4, letter = letters[1:4])\n",
    "c"
   ],
   "metadata": {
    "collapsed": false,
    "ExecuteTime": {
     "end_time": "2023-09-02T08:08:16.421262Z",
     "start_time": "2023-09-02T08:08:16.322238Z"
    }
   },
   "id": "36618b7394764e85"
  },
  {
   "cell_type": "markdown",
   "source": [
    "`colnames()` `rownames()` `row.names()`를 통해 열과 행의 이름을 출력할 수 있다"
   ],
   "metadata": {
    "collapsed": false
   },
   "id": "abfce4d26bf16e76"
  },
  {
   "cell_type": "code",
   "execution_count": 53,
   "outputs": [
    {
     "data": {
      "text/html": "<style>\n.list-inline {list-style: none; margin:0; padding: 0}\n.list-inline>li {display: inline-block}\n.list-inline>li:not(:last-child)::after {content: \"\\00b7\"; padding: 0 .5ex}\n</style>\n<ol class=list-inline><li>'nums'</li><li>'letter'</li></ol>\n",
      "text/markdown": "1. 'nums'\n2. 'letter'\n\n\n",
      "text/latex": "\\begin{enumerate*}\n\\item 'nums'\n\\item 'letter'\n\\end{enumerate*}\n",
      "text/plain": "[1] \"nums\"   \"letter\""
     },
     "metadata": {},
     "output_type": "display_data"
    }
   ],
   "source": [
    "colnames(c) # column names"
   ],
   "metadata": {
    "collapsed": false,
    "ExecuteTime": {
     "end_time": "2023-09-02T08:08:16.422007Z",
     "start_time": "2023-09-02T08:08:16.330514Z"
    }
   },
   "id": "e1dd3a9ff41b3ae1"
  },
  {
   "cell_type": "code",
   "execution_count": 54,
   "outputs": [
    {
     "data": {
      "text/html": "<style>\n.list-inline {list-style: none; margin:0; padding: 0}\n.list-inline>li {display: inline-block}\n.list-inline>li:not(:last-child)::after {content: \"\\00b7\"; padding: 0 .5ex}\n</style>\n<ol class=list-inline><li>'1'</li><li>'2'</li><li>'3'</li><li>'4'</li></ol>\n",
      "text/markdown": "1. '1'\n2. '2'\n3. '3'\n4. '4'\n\n\n",
      "text/latex": "\\begin{enumerate*}\n\\item '1'\n\\item '2'\n\\item '3'\n\\item '4'\n\\end{enumerate*}\n",
      "text/plain": "[1] \"1\" \"2\" \"3\" \"4\""
     },
     "metadata": {},
     "output_type": "display_data"
    }
   ],
   "source": [
    "row.names(c) # row names"
   ],
   "metadata": {
    "collapsed": false,
    "ExecuteTime": {
     "end_time": "2023-09-02T08:08:16.427328Z",
     "start_time": "2023-09-02T08:08:16.336430Z"
    }
   },
   "id": "c31e1ced9413147e"
  },
  {
   "cell_type": "markdown",
   "source": [
    "Matrix와 Data Frame을 vector로 형변환 하는 경우 아래와 같이 변환된다"
   ],
   "metadata": {
    "collapsed": false
   },
   "id": "cd3156f0c556260e"
  },
  {
   "cell_type": "code",
   "execution_count": 55,
   "outputs": [
    {
     "name": "stdout",
     "output_type": "stream",
     "text": [
      "[1] \"1\" \"2\" \"3\" \"4\" \"a\" \"b\" \"c\" \"d\"\n"
     ]
    }
   ],
   "source": [
    "print(c(a)) # matrix"
   ],
   "metadata": {
    "collapsed": false,
    "ExecuteTime": {
     "end_time": "2023-09-02T08:08:16.427657Z",
     "start_time": "2023-09-02T08:08:16.342568Z"
    }
   },
   "id": "cb0da46401638564"
  },
  {
   "cell_type": "code",
   "execution_count": 56,
   "outputs": [
    {
     "name": "stdout",
     "output_type": "stream",
     "text": [
      "$X1\n",
      "[1] \"1\" \"2\" \"3\" \"4\"\n",
      "\n",
      "$X2\n",
      "[1] \"a\" \"b\" \"c\" \"d\"\n"
     ]
    }
   ],
   "source": [
    "print(c(b)) # data frame"
   ],
   "metadata": {
    "collapsed": false,
    "ExecuteTime": {
     "end_time": "2023-09-02T08:08:16.428457Z",
     "start_time": "2023-09-02T08:08:16.348712Z"
    }
   },
   "id": "9fdaf2bc95aa42b"
  },
  {
   "cell_type": "code",
   "execution_count": 57,
   "outputs": [
    {
     "name": "stdout",
     "output_type": "stream",
     "text": [
      "$nums\n",
      "[1] 1 2 3 4\n",
      "\n",
      "$letter\n",
      "[1] \"a\" \"b\" \"c\" \"d\"\n"
     ]
    }
   ],
   "source": [
    "print(c(c)) # data frame"
   ],
   "metadata": {
    "collapsed": false,
    "ExecuteTime": {
     "end_time": "2023-09-02T08:08:16.430279Z",
     "start_time": "2023-09-02T08:08:16.354723Z"
    }
   },
   "id": "6726969b3c1d2a6e"
  },
  {
   "cell_type": "markdown",
   "source": [
    "$ 기호를 사용하여 column에 진입할 수 있다"
   ],
   "metadata": {
    "collapsed": false
   },
   "id": "b5dc3145ee8b2b7a"
  },
  {
   "cell_type": "code",
   "execution_count": 58,
   "outputs": [
    {
     "name": "stdout",
     "output_type": "stream",
     "text": [
      "[1] \"a\" \"b\" \"c\" \"d\"\n"
     ]
    }
   ],
   "source": [
    "print(c$letter)"
   ],
   "metadata": {
    "collapsed": false,
    "ExecuteTime": {
     "end_time": "2023-09-02T08:08:16.430554Z",
     "start_time": "2023-09-02T08:08:16.360231Z"
    }
   },
   "id": "1b24675de66b5dd1"
  },
  {
   "cell_type": "markdown",
   "source": [
    "**Matrix & data frame subsetting**\n",
    "\n",
    "matrix와 data frame에 대해서 indexing, slicing을 할 수 있다"
   ],
   "metadata": {
    "collapsed": false
   },
   "id": "42911cb89d02d5d2"
  },
  {
   "cell_type": "code",
   "execution_count": 59,
   "outputs": [
    {
     "name": "stdout",
     "output_type": "stream",
     "text": [
      "  nums\n",
      "1    1\n",
      "2    2\n",
      "3    3\n",
      "4    4\n"
     ]
    }
   ],
   "source": [
    "print(c[1]) # first column"
   ],
   "metadata": {
    "collapsed": false,
    "ExecuteTime": {
     "end_time": "2023-09-02T08:08:16.438731Z",
     "start_time": "2023-09-02T08:08:16.366381Z"
    }
   },
   "id": "1305b8b3aa8cb444"
  },
  {
   "cell_type": "code",
   "execution_count": 60,
   "outputs": [
    {
     "name": "stdout",
     "output_type": "stream",
     "text": [
      "  nums letter\n",
      "1    1      a\n",
      "2    2      b\n",
      "3    3      c\n",
      "4    4      d\n"
     ]
    }
   ],
   "source": [
    "print(c[1:2])"
   ],
   "metadata": {
    "collapsed": false,
    "ExecuteTime": {
     "end_time": "2023-09-02T08:08:16.647604Z",
     "start_time": "2023-09-02T08:08:16.373329Z"
    }
   },
   "id": "5f35a8ce11c92697"
  },
  {
   "cell_type": "code",
   "execution_count": 61,
   "outputs": [
    {
     "name": "stdout",
     "output_type": "stream",
     "text": [
      "  nums letter\n",
      "1    1      a\n"
     ]
    }
   ],
   "source": [
    "print(c[1, c(1,2)]) # row, column"
   ],
   "metadata": {
    "collapsed": false,
    "ExecuteTime": {
     "end_time": "2023-09-02T08:08:16.648078Z",
     "start_time": "2023-09-02T08:08:16.378559Z"
    }
   },
   "id": "589588a3700075e8"
  },
  {
   "cell_type": "code",
   "execution_count": 62,
   "outputs": [
    {
     "name": "stdout",
     "output_type": "stream",
     "text": [
      "[1] 2 3 4\n"
     ]
    }
   ],
   "source": [
    "print(c[2:4, 1]) # row, column"
   ],
   "metadata": {
    "collapsed": false,
    "ExecuteTime": {
     "end_time": "2023-09-02T08:08:16.648436Z",
     "start_time": "2023-09-02T08:08:16.387618Z"
    }
   },
   "id": "ad749f6dc4c019f4"
  },
  {
   "cell_type": "markdown",
   "source": [
    "#### 3. 객체지향성\n",
    "\n",
    "##### 3.1 Data"
   ],
   "metadata": {
    "collapsed": false
   },
   "id": "d529f7569e1a1bec"
  },
  {
   "cell_type": "code",
   "execution_count": 63,
   "outputs": [
    {
     "data": {
      "text/html": "<table class=\"dataframe\">\n<caption>A data.frame: 6 × 3</caption>\n<thead>\n\t<tr><th></th><th scope=col>Girth</th><th scope=col>Height</th><th scope=col>Volume</th></tr>\n\t<tr><th></th><th scope=col>&lt;dbl&gt;</th><th scope=col>&lt;dbl&gt;</th><th scope=col>&lt;dbl&gt;</th></tr>\n</thead>\n<tbody>\n\t<tr><th scope=row>1</th><td> 8.3</td><td>70</td><td>10.3</td></tr>\n\t<tr><th scope=row>2</th><td> 8.6</td><td>65</td><td>10.3</td></tr>\n\t<tr><th scope=row>3</th><td> 8.8</td><td>63</td><td>10.2</td></tr>\n\t<tr><th scope=row>4</th><td>10.5</td><td>72</td><td>16.4</td></tr>\n\t<tr><th scope=row>5</th><td>10.7</td><td>81</td><td>18.8</td></tr>\n\t<tr><th scope=row>6</th><td>10.8</td><td>83</td><td>19.7</td></tr>\n</tbody>\n</table>\n",
      "text/markdown": "\nA data.frame: 6 × 3\n\n| <!--/--> | Girth &lt;dbl&gt; | Height &lt;dbl&gt; | Volume &lt;dbl&gt; |\n|---|---|---|---|\n| 1 |  8.3 | 70 | 10.3 |\n| 2 |  8.6 | 65 | 10.3 |\n| 3 |  8.8 | 63 | 10.2 |\n| 4 | 10.5 | 72 | 16.4 |\n| 5 | 10.7 | 81 | 18.8 |\n| 6 | 10.8 | 83 | 19.7 |\n\n",
      "text/latex": "A data.frame: 6 × 3\n\\begin{tabular}{r|lll}\n  & Girth & Height & Volume\\\\\n  & <dbl> & <dbl> & <dbl>\\\\\n\\hline\n\t1 &  8.3 & 70 & 10.3\\\\\n\t2 &  8.6 & 65 & 10.3\\\\\n\t3 &  8.8 & 63 & 10.2\\\\\n\t4 & 10.5 & 72 & 16.4\\\\\n\t5 & 10.7 & 81 & 18.8\\\\\n\t6 & 10.8 & 83 & 19.7\\\\\n\\end{tabular}\n",
      "text/plain": "  Girth Height Volume\n1  8.3  70     10.3  \n2  8.6  65     10.3  \n3  8.8  63     10.2  \n4 10.5  72     16.4  \n5 10.7  81     18.8  \n6 10.8  83     19.7  "
     },
     "metadata": {},
     "output_type": "display_data"
    }
   ],
   "source": [
    "head(trees) # default = 6"
   ],
   "metadata": {
    "collapsed": false,
    "ExecuteTime": {
     "end_time": "2023-09-02T08:08:59.447110Z",
     "start_time": "2023-09-02T08:08:59.390543Z"
    }
   },
   "id": "445a75b7de559414"
  },
  {
   "cell_type": "code",
   "execution_count": 64,
   "outputs": [
    {
     "data": {
      "text/html": "<table class=\"dataframe\">\n<caption>A data.frame: 6 × 3</caption>\n<thead>\n\t<tr><th></th><th scope=col>Girth</th><th scope=col>Height</th><th scope=col>Volume</th></tr>\n\t<tr><th></th><th scope=col>&lt;dbl&gt;</th><th scope=col>&lt;dbl&gt;</th><th scope=col>&lt;dbl&gt;</th></tr>\n</thead>\n<tbody>\n\t<tr><th scope=row>26</th><td>17.3</td><td>81</td><td>55.4</td></tr>\n\t<tr><th scope=row>27</th><td>17.5</td><td>82</td><td>55.7</td></tr>\n\t<tr><th scope=row>28</th><td>17.9</td><td>80</td><td>58.3</td></tr>\n\t<tr><th scope=row>29</th><td>18.0</td><td>80</td><td>51.5</td></tr>\n\t<tr><th scope=row>30</th><td>18.0</td><td>80</td><td>51.0</td></tr>\n\t<tr><th scope=row>31</th><td>20.6</td><td>87</td><td>77.0</td></tr>\n</tbody>\n</table>\n",
      "text/markdown": "\nA data.frame: 6 × 3\n\n| <!--/--> | Girth &lt;dbl&gt; | Height &lt;dbl&gt; | Volume &lt;dbl&gt; |\n|---|---|---|---|\n| 26 | 17.3 | 81 | 55.4 |\n| 27 | 17.5 | 82 | 55.7 |\n| 28 | 17.9 | 80 | 58.3 |\n| 29 | 18.0 | 80 | 51.5 |\n| 30 | 18.0 | 80 | 51.0 |\n| 31 | 20.6 | 87 | 77.0 |\n\n",
      "text/latex": "A data.frame: 6 × 3\n\\begin{tabular}{r|lll}\n  & Girth & Height & Volume\\\\\n  & <dbl> & <dbl> & <dbl>\\\\\n\\hline\n\t26 & 17.3 & 81 & 55.4\\\\\n\t27 & 17.5 & 82 & 55.7\\\\\n\t28 & 17.9 & 80 & 58.3\\\\\n\t29 & 18.0 & 80 & 51.5\\\\\n\t30 & 18.0 & 80 & 51.0\\\\\n\t31 & 20.6 & 87 & 77.0\\\\\n\\end{tabular}\n",
      "text/plain": "   Girth Height Volume\n26 17.3  81     55.4  \n27 17.5  82     55.7  \n28 17.9  80     58.3  \n29 18.0  80     51.5  \n30 18.0  80     51.0  \n31 20.6  87     77.0  "
     },
     "metadata": {},
     "output_type": "display_data"
    }
   ],
   "source": [
    "tail(trees) # default = 6"
   ],
   "metadata": {
    "collapsed": false,
    "ExecuteTime": {
     "end_time": "2023-09-02T08:09:29.541744Z",
     "start_time": "2023-09-02T08:09:29.437957Z"
    }
   },
   "id": "51e4e1c939b65e8b"
  },
  {
   "cell_type": "code",
   "execution_count": 65,
   "outputs": [
    {
     "data": {
      "text/html": "<style>\n.list-inline {list-style: none; margin:0; padding: 0}\n.list-inline>li {display: inline-block}\n.list-inline>li:not(:last-child)::after {content: \"\\00b7\"; padding: 0 .5ex}\n</style>\n<ol class=list-inline><li>31</li><li>3</li></ol>\n",
      "text/markdown": "1. 31\n2. 3\n\n\n",
      "text/latex": "\\begin{enumerate*}\n\\item 31\n\\item 3\n\\end{enumerate*}\n",
      "text/plain": "[1] 31  3"
     },
     "metadata": {},
     "output_type": "display_data"
    }
   ],
   "source": [
    "dim(trees)"
   ],
   "metadata": {
    "collapsed": false,
    "ExecuteTime": {
     "end_time": "2023-09-02T08:09:38.515987Z",
     "start_time": "2023-09-02T08:09:38.365908Z"
    }
   },
   "id": "112e15393e3c6412"
  },
  {
   "cell_type": "code",
   "execution_count": 66,
   "outputs": [
    {
     "data": {
      "text/html": "'data.frame'",
      "text/markdown": "'data.frame'",
      "text/latex": "'data.frame'",
      "text/plain": "[1] \"data.frame\""
     },
     "metadata": {},
     "output_type": "display_data"
    }
   ],
   "source": [
    "class(trees)"
   ],
   "metadata": {
    "collapsed": false,
    "ExecuteTime": {
     "end_time": "2023-09-02T08:10:04.937607Z",
     "start_time": "2023-09-02T08:10:04.794367Z"
    }
   },
   "id": "a8e077e7f1f28616"
  },
  {
   "cell_type": "markdown",
   "source": [
    "trees는 R에서 기본 제공되는 Data Set 중 하나이다"
   ],
   "metadata": {
    "collapsed": false
   },
   "id": "8d640646830ec3b"
  },
  {
   "cell_type": "code",
   "execution_count": 67,
   "outputs": [
    {
     "data": {
      "text/html": "<style>\n.list-inline {list-style: none; margin:0; padding: 0}\n.list-inline>li {display: inline-block}\n.list-inline>li:not(:last-child)::after {content: \"\\00b7\"; padding: 0 .5ex}\n</style>\n<ol class=list-inline><li>'Girth'</li><li>'Height'</li><li>'Volume'</li></ol>\n",
      "text/markdown": "1. 'Girth'\n2. 'Height'\n3. 'Volume'\n\n\n",
      "text/latex": "\\begin{enumerate*}\n\\item 'Girth'\n\\item 'Height'\n\\item 'Volume'\n\\end{enumerate*}\n",
      "text/plain": "[1] \"Girth\"  \"Height\" \"Volume\""
     },
     "metadata": {},
     "output_type": "display_data"
    }
   ],
   "source": [
    "names(trees)"
   ],
   "metadata": {
    "collapsed": false,
    "ExecuteTime": {
     "end_time": "2023-09-02T08:11:38.209557Z",
     "start_time": "2023-09-02T08:11:38.017234Z"
    }
   },
   "id": "6e00279c332b45f3"
  },
  {
   "cell_type": "markdown",
   "source": [
    "`names()`함수를 통해 data frame의 column name에 접근이 가능하다"
   ],
   "metadata": {
    "collapsed": false
   },
   "id": "cc8df4ac315bb0a5"
  },
  {
   "cell_type": "code",
   "execution_count": 69,
   "outputs": [
    {
     "name": "stdout",
     "output_type": "stream",
     "text": [
      "[1] 58.0 62.6 70.0 55.7 85.0 83.5\n"
     ]
    }
   ],
   "source": [
    "print(head(sunspots))"
   ],
   "metadata": {
    "collapsed": false,
    "ExecuteTime": {
     "end_time": "2023-09-02T08:12:37.047668Z",
     "start_time": "2023-09-02T08:12:37.019323Z"
    }
   },
   "id": "657245630c1e2c6f"
  },
  {
   "cell_type": "code",
   "execution_count": 71,
   "outputs": [
    {
     "name": "stdout",
     "output_type": "stream",
     "text": [
      "[1] \"ts\"\n"
     ]
    }
   ],
   "source": [
    "print(class(sunspots))"
   ],
   "metadata": {
    "collapsed": false,
    "ExecuteTime": {
     "end_time": "2023-09-02T08:12:55.418085Z",
     "start_time": "2023-09-02T08:12:55.396009Z"
    }
   },
   "id": "6f0ccea1ce5c93da"
  },
  {
   "cell_type": "markdown",
   "source": [
    "class 'ts'는 time series data라는 것을 의미한다"
   ],
   "metadata": {
    "collapsed": false
   },
   "id": "b9f66765a79f9680"
  },
  {
   "cell_type": "code",
   "execution_count": 72,
   "outputs": [
    {
     "name": "stdout",
     "output_type": "stream",
     "text": [
      "[1] 2820\n"
     ]
    }
   ],
   "source": [
    "print(length(sunspots))"
   ],
   "metadata": {
    "collapsed": false,
    "ExecuteTime": {
     "end_time": "2023-09-02T08:13:04.506884Z",
     "start_time": "2023-09-02T08:13:04.447941Z"
    }
   },
   "id": "8f35c76948b3fc4f"
  },
  {
   "cell_type": "code",
   "execution_count": 75,
   "outputs": [
    {
     "name": "stdout",
     "output_type": "stream",
     "text": [
      ", , Age = Child, Survived = No\n",
      "\n",
      "      Sex\n",
      "Class  Male Female\n",
      "  1st     0      0\n",
      "  2nd     0      0\n",
      "  3rd    35     17\n",
      "  Crew    0      0\n",
      "\n",
      ", , Age = Adult, Survived = No\n",
      "\n",
      "      Sex\n",
      "Class  Male Female\n",
      "  1st   118      4\n",
      "  2nd   154     13\n",
      "  3rd   387     89\n",
      "  Crew  670      3\n",
      "\n",
      ", , Age = Child, Survived = Yes\n",
      "\n",
      "      Sex\n",
      "Class  Male Female\n",
      "  1st     5      1\n",
      "  2nd    11     13\n",
      "  3rd    13     14\n",
      "  Crew    0      0\n",
      "\n",
      ", , Age = Adult, Survived = Yes\n",
      "\n",
      "      Sex\n",
      "Class  Male Female\n",
      "  1st    57    140\n",
      "  2nd    14     80\n",
      "  3rd    75     76\n",
      "  Crew  192     20\n"
     ]
    }
   ],
   "source": [
    "print(Titanic)"
   ],
   "metadata": {
    "collapsed": false,
    "ExecuteTime": {
     "end_time": "2023-09-02T08:14:19.496860Z",
     "start_time": "2023-09-02T08:14:19.470999Z"
    }
   },
   "id": "9bcd746e47859b1e"
  },
  {
   "cell_type": "code",
   "execution_count": 76,
   "outputs": [
    {
     "data": {
      "text/html": "'table'",
      "text/markdown": "'table'",
      "text/latex": "'table'",
      "text/plain": "[1] \"table\""
     },
     "metadata": {},
     "output_type": "display_data"
    }
   ],
   "source": [
    "class(Titanic)"
   ],
   "metadata": {
    "collapsed": false,
    "ExecuteTime": {
     "end_time": "2023-09-02T08:14:33.858920Z",
     "start_time": "2023-09-02T08:14:33.813694Z"
    }
   },
   "id": "4069223025a21984"
  },
  {
   "cell_type": "markdown",
   "source": [
    "3차원 이상의 데이터는 table로 분류된다"
   ],
   "metadata": {
    "collapsed": false
   },
   "id": "585485c6522fda8e"
  },
  {
   "cell_type": "code",
   "execution_count": 78,
   "outputs": [
    {
     "name": "stdout",
     "output_type": "stream",
     "text": [
      "[1] 4 2 2 2\n"
     ]
    }
   ],
   "source": [
    "print(dim(Titanic))"
   ],
   "metadata": {
    "collapsed": false,
    "ExecuteTime": {
     "end_time": "2023-09-02T08:14:46.570215Z",
     "start_time": "2023-09-02T08:14:46.543752Z"
    }
   },
   "id": "18b879849d6e5579"
  },
  {
   "cell_type": "markdown",
   "source": [
    "`plot()` 함수를 사용하면 적절한 방법으로 시각화가 가능하다"
   ],
   "metadata": {
    "collapsed": false
   },
   "id": "905c5b5165ae4d69"
  },
  {
   "cell_type": "code",
   "execution_count": 79,
   "outputs": [
    {
     "data": {
      "text/plain": "plot without title",
      "image/png": "[encoded data removed]"
     },
     "metadata": {
      "image/png": {
       "width": 420,
       "height": 420
      }
     },
     "output_type": "display_data"
    }
   ],
   "source": [
    "plot(trees)"
   ],
   "metadata": {
    "collapsed": false,
    "ExecuteTime": {
     "end_time": "2023-09-02T08:15:20.161905Z",
     "start_time": "2023-09-02T08:15:20.069862Z"
    }
   },
   "id": "b01fee642095de77"
  },
  {
   "cell_type": "markdown",
   "source": [
    "Time Series Data는 아래와 같이 표현된다"
   ],
   "metadata": {
    "collapsed": false
   },
   "id": "40f907d7071e6d05"
  },
  {
   "cell_type": "code",
   "execution_count": 80,
   "outputs": [
    {
     "data": {
      "text/plain": "plot without title",
      "image/png": "[encoded data removed]"
     },
     "metadata": {
      "image/png": {
       "width": 420,
       "height": 420
      }
     },
     "output_type": "display_data"
    }
   ],
   "source": [
    "plot(sunspots)"
   ],
   "metadata": {
    "collapsed": false,
    "ExecuteTime": {
     "end_time": "2023-09-02T08:15:57.888048Z",
     "start_time": "2023-09-02T08:15:57.819195Z"
    }
   },
   "id": "dd389dce827c5284"
  },
  {
   "cell_type": "markdown",
   "source": [
    "Time series data는 아래와 같은 기능을 수행한다"
   ],
   "metadata": {
    "collapsed": false
   },
   "id": "39949ba64b46e876"
  },
  {
   "cell_type": "code",
   "execution_count": 82,
   "outputs": [
    {
     "data": {
      "text/plain": "plot without title",
      "image/png": "[encoded data removed]"
     },
     "metadata": {
      "image/png": {
       "width": 420,
       "height": 420
      }
     },
     "output_type": "display_data"
    }
   ],
   "source": [
    "plot.ts(sunspots)"
   ],
   "metadata": {
    "collapsed": false,
    "ExecuteTime": {
     "end_time": "2023-09-02T08:20:29.396302Z",
     "start_time": "2023-09-02T08:20:29.294665Z"
    }
   },
   "id": "d3b596e40cbec7bc"
  },
  {
   "cell_type": "code",
   "execution_count": 81,
   "outputs": [
    {
     "data": {
      "text/plain": "Plot with title “Titanic”",
      "image/png": "[encoded data removed]"
     },
     "metadata": {
      "image/png": {
       "width": 420,
       "height": 420
      }
     },
     "output_type": "display_data"
    }
   ],
   "source": [
    "plot(Titanic) # mosaic plot"
   ],
   "metadata": {
    "collapsed": false,
    "ExecuteTime": {
     "end_time": "2023-09-02T08:16:21.190461Z",
     "start_time": "2023-09-02T08:16:21.039471Z"
    }
   },
   "id": "37168468076c6155"
  },
  {
   "cell_type": "markdown",
   "source": [
    "`plot()` 함수는 같은 함수임에도 불구하고 다른 형태로 표현된다. 사용자가 최대한 편하게 볼 수 있는 방향으로 알아서 조작되는 것인데, 이를 두고 R에서의 OOP를 **Functional OOP**라고도 한다"
   ],
   "metadata": {
    "collapsed": false
   },
   "id": "69c1e4646d11eb55"
  },
  {
   "cell_type": "markdown",
   "source": [
    "#### 4. 조회 함수\n",
    "\n",
    "조회 혹은 검색과 관련된 함수이다. `search()` 함수를 통해 package가 어떤 것이 있는지 볼 수 있다"
   ],
   "metadata": {
    "collapsed": false
   },
   "id": "acbf53b3ac2f759e"
  },
  {
   "cell_type": "code",
   "execution_count": 85,
   "outputs": [
    {
     "name": "stdout",
     "output_type": "stream",
     "text": [
      " [1] \".GlobalEnv\"        \"jupyter:irkernel\"  \"package:stats\"    \n",
      " [4] \"package:graphics\"  \"package:grDevices\" \"package:utils\"    \n",
      " [7] \"package:datasets\"  \"package:methods\"   \"Autoloads\"        \n",
      "[10] \"package:base\"     \n"
     ]
    }
   ],
   "source": [
    "print(search())"
   ],
   "metadata": {
    "collapsed": false,
    "ExecuteTime": {
     "end_time": "2023-09-02T08:23:45.806143Z",
     "start_time": "2023-09-02T08:23:45.780021Z"
    }
   },
   "id": "c25813452aab6de2"
  },
  {
   "cell_type": "markdown",
   "source": [
    "`searchpaths()`함수를 사용하면 설치된 패키지의 경로를 알 수 있다 (물리적인 위치를 알 수 있다"
   ],
   "metadata": {
    "collapsed": false
   },
   "id": "438da9a50baf91c2"
  },
  {
   "cell_type": "code",
   "execution_count": 84,
   "outputs": [
    {
     "name": "stdout",
     "output_type": "stream",
     "text": [
      " [1] \".GlobalEnv\"                                                                \n",
      " [2] \"jupyter:irkernel\"                                                          \n",
      " [3] \"/Users/junghunlee/anaconda3/envs/BusinessAnalytics/lib/R/library/stats\"    \n",
      " [4] \"/Users/junghunlee/anaconda3/envs/BusinessAnalytics/lib/R/library/graphics\" \n",
      " [5] \"/Users/junghunlee/anaconda3/envs/BusinessAnalytics/lib/R/library/grDevices\"\n",
      " [6] \"/Users/junghunlee/anaconda3/envs/BusinessAnalytics/lib/R/library/utils\"    \n",
      " [7] \"/Users/junghunlee/anaconda3/envs/BusinessAnalytics/lib/R/library/datasets\" \n",
      " [8] \"/Users/junghunlee/anaconda3/envs/BusinessAnalytics/lib/R/library/methods\"  \n",
      " [9] \"Autoloads\"                                                                 \n",
      "[10] \"/Users/junghunlee/anaconda3/envs/BusinessAnalytics/lib/R/library/base\"     \n"
     ]
    }
   ],
   "source": [
    "print(searchpaths())"
   ],
   "metadata": {
    "collapsed": false,
    "ExecuteTime": {
     "end_time": "2023-09-02T08:23:40.526191Z",
     "start_time": "2023-09-02T08:23:40.483664Z"
    }
   },
   "id": "6ea2abd66aa892b4"
  },
  {
   "cell_type": "markdown",
   "source": [
    "`ls()`함수는 `search()`결과값의 첫번째 결과와 동일한 기능을 한다. ls attribute에 numbering을 넣으면 `search()` 함수 결과값의 순서대로 저장된 변수들을 출력한다"
   ],
   "metadata": {
    "collapsed": false
   },
   "id": "a5f0e1cac0dec376"
  },
  {
   "cell_type": "markdown",
   "source": [
    "`library()`함수를 통해 library가 import 할 수 있다"
   ],
   "metadata": {
    "collapsed": false
   },
   "id": "f81f289e863539b0"
  },
  {
   "cell_type": "code",
   "execution_count": 87,
   "outputs": [],
   "source": [
    "library(MASS)"
   ],
   "metadata": {
    "collapsed": false,
    "ExecuteTime": {
     "end_time": "2023-09-02T08:27:14.294014Z",
     "start_time": "2023-09-02T08:27:13.901977Z"
    }
   },
   "id": "a0322bc136efd363"
  },
  {
   "cell_type": "code",
   "execution_count": 89,
   "outputs": [
    {
     "name": "stdout",
     "output_type": "stream",
     "text": [
      " [1] \".GlobalEnv\"        \"package:MASS\"      \"jupyter:irkernel\" \n",
      " [4] \"package:stats\"     \"package:graphics\"  \"package:grDevices\"\n",
      " [7] \"package:utils\"     \"package:datasets\"  \"package:methods\"  \n",
      "[10] \"Autoloads\"         \"package:base\"     \n"
     ]
    }
   ],
   "source": [
    "print(search())"
   ],
   "metadata": {
    "collapsed": false,
    "ExecuteTime": {
     "end_time": "2023-09-02T08:28:45.299902Z",
     "start_time": "2023-09-02T08:28:45.254555Z"
    }
   },
   "id": "3dc5379e6850e01a"
  },
  {
   "cell_type": "markdown",
   "source": [
    "`attributes()` 함수를 통해 Dataset의 속성들을 확인할 수 있다"
   ],
   "metadata": {
    "collapsed": false
   },
   "id": "ec170d310e39a95d"
  },
  {
   "cell_type": "code",
   "execution_count": 91,
   "outputs": [
    {
     "name": "stdout",
     "output_type": "stream",
     "text": [
      "$names\n",
      "[1] \"Girth\"  \"Height\" \"Volume\"\n",
      "\n",
      "$class\n",
      "[1] \"data.frame\"\n",
      "\n",
      "$row.names\n",
      " [1]  1  2  3  4  5  6  7  8  9 10 11 12 13 14 15 16 17 18 19 20 21 22 23 24 25\n",
      "[26] 26 27 28 29 30 31\n"
     ]
    }
   ],
   "source": [
    "print(attributes(trees))"
   ],
   "metadata": {
    "collapsed": false,
    "ExecuteTime": {
     "end_time": "2023-09-02T08:29:04.141605Z",
     "start_time": "2023-09-02T08:29:04.091918Z"
    }
   },
   "id": "93c72de770941c12"
  },
  {
   "cell_type": "code",
   "execution_count": 92,
   "outputs": [
    {
     "name": "stdout",
     "output_type": "stream",
     "text": [
      "$tsp\n",
      "[1] 1749.000 1983.917   12.000\n",
      "\n",
      "$class\n",
      "[1] \"ts\"\n"
     ]
    }
   ],
   "source": [
    "print(attributes(sunspots))"
   ],
   "metadata": {
    "collapsed": false,
    "ExecuteTime": {
     "end_time": "2023-09-02T08:29:43.553133Z",
     "start_time": "2023-09-02T08:29:43.505425Z"
    }
   },
   "id": "87c7cd48b3e1f1f"
  },
  {
   "cell_type": "markdown",
   "source": [
    "#### 5. Structure\n",
    "\n",
    "##### 5.1 for Loop\n",
    "\n",
    "for 구문을 사용하여 반복문을 작성할 수 있다. 이 중 if 구문을 통해 조건을 확인할 수 있다"
   ],
   "metadata": {
    "collapsed": false
   },
   "id": "a89f6b8a45c3c020"
  },
  {
   "cell_type": "code",
   "execution_count": 105,
   "outputs": [
    {
     "name": "stdout",
     "output_type": "stream",
     "text": [
      " [1]   9   5  36  81  10 144  15 324  20 441 576  25 729  30\n"
     ]
    }
   ],
   "source": [
    "x = NULL\n",
    "for (i in 1:30) {\n",
    "p = 0\n",
    "if (i %% 3 == 0) p = 2\n",
    "if (i %% 5 == 0) p = 1\n",
    "if (p > 0) x = c(x, i^p)}\n",
    "\n",
    "print(x)"
   ],
   "metadata": {
    "collapsed": false,
    "ExecuteTime": {
     "end_time": "2023-09-02T08:42:44.628329Z",
     "start_time": "2023-09-02T08:42:44.551231Z"
    }
   },
   "id": "1b021b0e11a4f5af"
  },
  {
   "cell_type": "markdown",
   "source": [
    "##### 5.2 function"
   ],
   "metadata": {
    "collapsed": false
   },
   "id": "7cb376c2867444e9"
  },
  {
   "cell_type": "code",
   "execution_count": 104,
   "outputs": [
    {
     "name": "stdout",
     "output_type": "stream",
     "text": [
      "[1]  9  5  0 15\n"
     ]
    }
   ],
   "source": [
    "upx = function(vectors) {\n",
    "    x = NULL;\n",
    "for (i in vectors){\n",
    "    p = 0\n",
    "    if (i %% 3 == 0) p = 2\n",
    "    if (i %% 5 == 0) p = 1\n",
    "    if (p > 0) x = c(x, i^p)}\n",
    "    return(x)\n",
    "}\n",
    "\n",
    "x = upx(c(1, 2, 3, 5, 0, 4, 15))\n",
    "print(x)"
   ],
   "metadata": {
    "collapsed": false,
    "ExecuteTime": {
     "end_time": "2023-09-02T08:42:22.828923Z",
     "start_time": "2023-09-02T08:42:22.781043Z"
    }
   },
   "id": "2bdc1c067b7916d6"
  },
  {
   "cell_type": "markdown",
   "source": [
    "##### 5.3 Fancy Indexing"
   ],
   "metadata": {
    "collapsed": false
   },
   "id": "abec1abf57c343a1"
  },
  {
   "cell_type": "code",
   "execution_count": 109,
   "outputs": [
    {
     "name": "stdout",
     "output_type": "stream",
     "text": [
      " [1]   9   5  36  81  10 144  15 324  20 441 576  25 729  30\n"
     ]
    }
   ],
   "source": [
    "print(x)"
   ],
   "metadata": {
    "collapsed": false,
    "ExecuteTime": {
     "end_time": "2023-09-02T08:45:56.425740Z",
     "start_time": "2023-09-02T08:45:56.396794Z"
    }
   },
   "id": "93dcee295f93b8f1"
  },
  {
   "cell_type": "code",
   "execution_count": 112,
   "outputs": [
    {
     "name": "stdout",
     "output_type": "stream",
     "text": [
      " [1]   9  36  81 144  15 324 441 576 729  30\n"
     ]
    }
   ],
   "source": [
    "print(x[x %% 3 == 0]) # fancy indexing"
   ],
   "metadata": {
    "collapsed": false,
    "ExecuteTime": {
     "end_time": "2023-09-02T08:46:47.771361Z",
     "start_time": "2023-09-02T08:46:47.723500Z"
    }
   },
   "id": "b432239c13a257bd"
  },
  {
   "cell_type": "markdown",
   "source": [
    "#### 6. 반복 함수\n",
    "\n",
    "##### 6.1 Apply functions"
   ],
   "metadata": {
    "collapsed": false
   },
   "id": "e30d9c4a9b159e22"
  },
  {
   "cell_type": "code",
   "execution_count": 113,
   "outputs": [
    {
     "name": "stdout",
     "output_type": "stream",
     "text": [
      "      [,1] [,2]\n",
      " [1,]    1   11\n",
      " [2,]    2   12\n",
      " [3,]    3   13\n",
      " [4,]    4   14\n",
      " [5,]    5   15\n",
      " [6,]    6   16\n",
      " [7,]    7   17\n",
      " [8,]    8   18\n",
      " [9,]    9   19\n",
      "[10,]   10   20\n"
     ]
    }
   ],
   "source": [
    "z = matrix(1:20, ncol = 2)\n",
    "print(z)"
   ],
   "metadata": {
    "collapsed": false,
    "ExecuteTime": {
     "end_time": "2023-09-02T08:47:42.409388Z",
     "start_time": "2023-09-02T08:47:42.356167Z"
    }
   },
   "id": "cda93ebb75c420ad"
  },
  {
   "cell_type": "code",
   "execution_count": 115,
   "outputs": [
    {
     "data": {
      "text/html": "10.5",
      "text/markdown": "10.5",
      "text/latex": "10.5",
      "text/plain": "[1] 10.5"
     },
     "metadata": {},
     "output_type": "display_data"
    }
   ],
   "source": [
    "mean(z) # mean of all elements"
   ],
   "metadata": {
    "collapsed": false,
    "ExecuteTime": {
     "end_time": "2023-09-02T08:48:00.698807Z",
     "start_time": "2023-09-02T08:48:00.654950Z"
    }
   },
   "id": "6642ebd03a861292"
  },
  {
   "cell_type": "code",
   "execution_count": 118,
   "outputs": [
    {
     "name": "stdout",
     "output_type": "stream",
     "text": [
      " [1]  6  7  8  9 10 11 12 13 14 15\n"
     ]
    }
   ],
   "source": [
    "print(apply(z, 1, mean)) # axis = 1"
   ],
   "metadata": {
    "collapsed": false,
    "ExecuteTime": {
     "end_time": "2023-09-02T08:48:45.867503Z",
     "start_time": "2023-09-02T08:48:45.818939Z"
    }
   },
   "id": "531eec474edf4ba1"
  },
  {
   "cell_type": "code",
   "execution_count": 120,
   "outputs": [
    {
     "name": "stdout",
     "output_type": "stream",
     "text": [
      "[1]  5.5 15.5\n"
     ]
    }
   ],
   "source": [
    "print(apply(z, 2, mean)) # axis = 0"
   ],
   "metadata": {
    "collapsed": false,
    "ExecuteTime": {
     "end_time": "2023-09-02T08:49:11.505337Z",
     "start_time": "2023-09-02T08:49:11.455001Z"
    }
   },
   "id": "683e208102841b01"
  },
  {
   "cell_type": "markdown",
   "source": [
    "##### 6.2 tapply function\n",
    "\n",
    "Group을 지정하여 연산을 수행한다"
   ],
   "metadata": {
    "collapsed": false
   },
   "id": "eda494a8f8b8cbd4"
  },
  {
   "cell_type": "code",
   "execution_count": 121,
   "outputs": [],
   "source": [
    "y = 1:20"
   ],
   "metadata": {
    "collapsed": false,
    "ExecuteTime": {
     "end_time": "2023-09-02T08:49:53.431268Z",
     "start_time": "2023-09-02T08:49:53.377630Z"
    }
   },
   "id": "69c2b1464b09d1b9"
  },
  {
   "cell_type": "code",
   "execution_count": 123,
   "outputs": [
    {
     "name": "stdout",
     "output_type": "stream",
     "text": [
      "   0    1    2 \n",
      "10.5 10.0 11.0 \n"
     ]
    }
   ],
   "source": [
    "print(tapply(y, y %% 3, mean))"
   ],
   "metadata": {
    "collapsed": false,
    "ExecuteTime": {
     "end_time": "2023-09-02T08:50:09.117891Z",
     "start_time": "2023-09-02T08:50:09.068724Z"
    }
   },
   "id": "6cee705062b5683a"
  },
  {
   "cell_type": "markdown",
   "source": [
    "##### 6.3 sapply function\n",
    "\n",
    "> sapply(data, FUN)"
   ],
   "metadata": {
    "collapsed": false
   },
   "id": "861fc753edf39c3e"
  },
  {
   "cell_type": "code",
   "execution_count": 126,
   "outputs": [
    {
     "name": "stdout",
     "output_type": "stream",
     "text": [
      " X1  X2 \n",
      " 55 155 \n"
     ]
    }
   ],
   "source": [
    "print(sapply(data.frame(z), sum))"
   ],
   "metadata": {
    "collapsed": false,
    "ExecuteTime": {
     "end_time": "2023-09-02T08:51:45.037542Z",
     "start_time": "2023-09-02T08:51:45.015595Z"
    }
   },
   "id": "efe9932de2c15c12"
  },
  {
   "cell_type": "markdown",
   "source": [
    "이외에도 `lapply()`, `by()`함수 등이 있다"
   ],
   "metadata": {
    "collapsed": false
   },
   "id": "65ea9689e00d0c5a"
  },
  {
   "cell_type": "markdown",
   "source": [
    "#### 7. 유용한 함수\n",
    "\n",
    "R에는 매우 많은 유용한 함수가 존재한다. 일부의 예를 보자"
   ],
   "metadata": {
    "collapsed": false
   },
   "id": "c6fba4ae1112b02f"
  },
  {
   "cell_type": "code",
   "execution_count": 127,
   "outputs": [],
   "source": [
    "z = sample(1:6, 30, repl = T)"
   ],
   "metadata": {
    "collapsed": false,
    "ExecuteTime": {
     "end_time": "2023-09-02T08:54:41.589252Z",
     "start_time": "2023-09-02T08:54:41.526533Z"
    }
   },
   "id": "de4c5763d290c502"
  },
  {
   "cell_type": "markdown",
   "source": [
    "`sample()`함수에서 repl = T로 지정하면 복원추출을 수행한다"
   ],
   "metadata": {
    "collapsed": false
   },
   "id": "c2871375b86d4bb1"
  },
  {
   "cell_type": "code",
   "execution_count": 129,
   "outputs": [
    {
     "name": "stdout",
     "output_type": "stream",
     "text": [
      "     [,1] [,2] [,3] [,4] [,5] [,6] [,7] [,8] [,9] [,10]\n",
      "[1,]    6    2    6    3    4    6    4    6    4     4\n",
      "[2,]    5    2    1    4    4    4    6    5    6     5\n",
      "[3,]    3    6    3    6    3    1    2    2    2     3\n"
     ]
    }
   ],
   "source": [
    "print(matrix(z, 3))"
   ],
   "metadata": {
    "collapsed": false,
    "ExecuteTime": {
     "end_time": "2023-09-02T08:54:56.352549Z",
     "start_time": "2023-09-02T08:54:56.307200Z"
    }
   },
   "id": "1f8a8a7783e165b2"
  },
  {
   "cell_type": "markdown",
   "source": [
    "통계와 관련된 함수를 다음과 같이 사용 가능하다"
   ],
   "metadata": {
    "collapsed": false
   },
   "id": "445fa8ca916e87cf"
  },
  {
   "cell_type": "code",
   "execution_count": 136,
   "outputs": [
    {
     "name": "stdout",
     "output_type": "stream",
     "text": [
      "[1] 118\n",
      "[1] 3.933333\n",
      "[1] 2.685057\n",
      "[1] 1.638614\n"
     ]
    }
   ],
   "source": [
    "print(sum(z)) # sum\n",
    "print(mean(z)) # mean / first moment\n",
    "print(var(z)) # variance / second moment\n",
    "print(sd(z)) # standard deviation"
   ],
   "metadata": {
    "collapsed": false,
    "ExecuteTime": {
     "end_time": "2023-09-02T09:00:01.547671Z",
     "start_time": "2023-09-02T09:00:01.494946Z"
    }
   },
   "id": "645c4008641740ed"
  },
  {
   "cell_type": "code",
   "execution_count": null,
   "outputs": [],
   "source": [],
   "metadata": {
    "collapsed": false
   },
   "id": "6c2b5e14bcc6cac0"
  }
 ],
 "metadata": {
  "kernelspec": {
   "name": "ir",
   "language": "R",
   "display_name": "R"
  },
  "language_info": {
   "codemirror_mode": {
    "name": "ipython",
    "version": 2
   },
   "file_extension": ".py",
   "mimetype": "text/x-python",
   "name": "python",
   "nbconvert_exporter": "python",
   "pygments_lexer": "ipython2",
   "version": "2.7.6"
  }
 },
 "nbformat": 4,
 "nbformat_minor": 5
}
