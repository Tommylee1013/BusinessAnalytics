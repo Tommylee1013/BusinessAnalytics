{
 "cells": [
  {
   "cell_type": "markdown",
   "source": [
    "### Data Touring\n",
    "\n",
    "Markdown, Quarto $\\rightarrow$ 프린팅도 가능, 이쁘게 웹 문서 작성 가능한 언어이다\n",
    "\n",
    "Used Data\n",
    "\n",
    "- Iris, Penguins\n",
    "- MNIST, CIFAR10, CIFAR100\n",
    "- Sunspots, Trees, Faithful, Pima\n",
    "- Crab, Olive, Dnut, kyphosis\n",
    "- Diamonds, Starwars, GoogleStockPrice\n",
    "- Gapminder, MovieLense\n",
    "\n",
    "R에서의 Package는 Jupyter Cell에서 다음과 같이 실행하면 된다\n",
    "\n",
    "> install.packages('GGally')\n",
    "\n",
    "아래 pacakage를 설치하면 Rstudio에서 python을 사용할 수 있다\n",
    "\n",
    "> install.packages('reticulate')\n"
   ],
   "metadata": {
    "collapsed": false
   },
   "id": "6f1e0718284f6631"
  },
  {
   "cell_type": "code",
   "execution_count": 6,
   "outputs": [
    {
     "name": "stdout",
     "output_type": "stream",
     "text": [
      "  Sepal.Length Sepal.Width Petal.Length Petal.Width Species\n",
      "1          5.1         3.5          1.4         0.2  setosa\n",
      "2          4.9         3.0          1.4         0.2  setosa\n",
      "3          4.7         3.2          1.3         0.2  setosa\n",
      "4          4.6         3.1          1.5         0.2  setosa\n",
      "5          5.0         3.6          1.4         0.2  setosa\n",
      "6          5.4         3.9          1.7         0.4  setosa\n"
     ]
    }
   ],
   "source": [
    "print(head(iris))"
   ],
   "metadata": {
    "collapsed": false,
    "ExecuteTime": {
     "end_time": "2023-09-06T05:03:12.626319Z",
     "start_time": "2023-09-06T05:03:12.559738Z"
    }
   },
   "id": "47dc2acd58d74975"
  },
  {
   "cell_type": "code",
   "execution_count": 8,
   "outputs": [
    {
     "name": "stdout",
     "output_type": "stream",
     "text": [
      "    Sepal.Length Sepal.Width Petal.Length Petal.Width   Species\n",
      "145          6.7         3.3          5.7         2.5 virginica\n",
      "146          6.7         3.0          5.2         2.3 virginica\n",
      "147          6.3         2.5          5.0         1.9 virginica\n",
      "148          6.5         3.0          5.2         2.0 virginica\n",
      "149          6.2         3.4          5.4         2.3 virginica\n",
      "150          5.9         3.0          5.1         1.8 virginica\n"
     ]
    }
   ],
   "source": [
    "print(tail(iris))"
   ],
   "metadata": {
    "collapsed": false,
    "ExecuteTime": {
     "end_time": "2023-09-06T05:03:28.628647Z",
     "start_time": "2023-09-06T05:03:28.609840Z"
    }
   },
   "id": "25f8d87ffca53ae1"
  },
  {
   "cell_type": "code",
   "execution_count": null,
   "outputs": [],
   "source": [],
   "metadata": {
    "collapsed": false
   },
   "id": "fb6b04110403b60d"
  }
 ],
 "metadata": {
  "kernelspec": {
   "name": "ir",
   "language": "R",
   "display_name": "R"
  },
  "language_info": {
   "codemirror_mode": {
    "name": "ipython",
    "version": 2
   },
   "file_extension": ".py",
   "mimetype": "text/x-python",
   "name": "python",
   "nbconvert_exporter": "python",
   "pygments_lexer": "ipython2",
   "version": "2.7.6"
  }
 },
 "nbformat": 4,
 "nbformat_minor": 5
}
