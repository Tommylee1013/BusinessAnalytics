{
 "cells": [
  {
   "cell_type": "code",
   "execution_count": 1,
   "outputs": [
    {
     "data": {
      "text/html": "'R version 4.3.1 (2023-06-16)'",
      "text/markdown": "'R version 4.3.1 (2023-06-16)'",
      "text/latex": "'R version 4.3.1 (2023-06-16)'",
      "text/plain": "[1] \"R version 4.3.1 (2023-06-16)\""
     },
     "metadata": {},
     "output_type": "display_data"
    }
   ],
   "source": [],
   "metadata": {
    "collapsed": false,
    "ExecuteTime": {
     "end_time": "2023-09-01T12:10:01.184314Z",
     "start_time": "2023-09-01T12:10:01.022894Z"
    }
   },
   "id": "575874dace90d394"
  }
 ],
 "metadata": {
  "kernelspec": {
   "name": "ir",
   "language": "R",
   "display_name": "R"
  },
  "language_info": {
   "codemirror_mode": {
    "name": "ipython",
    "version": 2
   },
   "file_extension": ".py",
   "mimetype": "text/x-python",
   "name": "python",
   "nbconvert_exporter": "python",
   "pygments_lexer": "ipython2",
   "version": "2.7.6"
  }
 },
 "nbformat": 4,
 "nbformat_minor": 5
}
