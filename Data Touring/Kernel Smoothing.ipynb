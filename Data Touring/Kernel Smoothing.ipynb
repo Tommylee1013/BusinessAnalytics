{
 "cells": [
  {
   "cell_type": "markdown",
   "source": [
    "#### Local Regression\n",
    "\n",
    "$$y_t = \\alpha + \\beta (t_i - t_0)$$\n",
    "\n",
    "-PMSE를 가장 적게 하는 bandwidth를 잡으면 예측분산에 대한 문제를 어느정도 해결이 가능하다"
   ],
   "metadata": {
    "collapsed": false
   },
   "id": "a999aee18f7a1e7c"
  },
  {
   "cell_type": "markdown",
   "source": [
    "- 시계열의 궁극적인 목적은 데이터 관측 시점 이후가 궁금한것이기 때문에 데이터의 선후관계가 굉장히 중요하다\n",
    "- 국소 회귀(Local Regression)는 시계열 분석을 위한 방법은 아니다"
   ],
   "metadata": {
    "collapsed": false
   },
   "id": "77a6f120a1ce5513"
  },
  {
   "cell_type": "code",
   "execution_count": null,
   "id": "initial_id",
   "metadata": {
    "collapsed": true
   },
   "outputs": [],
   "source": []
  }
 ],
 "metadata": {
  "kernelspec": {
   "display_name": "Python 3",
   "language": "python",
   "name": "python3"
  },
  "language_info": {
   "codemirror_mode": {
    "name": "ipython",
    "version": 2
   },
   "file_extension": ".py",
   "mimetype": "text/x-python",
   "name": "python",
   "nbconvert_exporter": "python",
   "pygments_lexer": "ipython2",
   "version": "2.7.6"
  }
 },
 "nbformat": 4,
 "nbformat_minor": 5
}
