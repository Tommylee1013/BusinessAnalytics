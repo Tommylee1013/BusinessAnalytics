{
 "cells": [
  {
   "cell_type": "markdown",
   "source": [
    "### Generalized Linear Models Net\n",
    "\n",
    "#### Topics\n",
    "\n",
    "Estimation & Model Selection\n",
    "\n",
    "- Likelihood Approach & Bayesian Approach\n",
    "- Ridge/Lasso Penalty\n",
    "- Model Selection\n",
    "\n",
    "Model Selection\n"
   ],
   "metadata": {
    "collapsed": false
   },
   "id": "b2040437adc65bd1"
  },
  {
   "cell_type": "markdown",
   "source": [
    "#### Ridge / Lasso Penalty\n",
    "\n",
    "**R**\n",
    "\n",
    "- glm\n",
    "    - Gaussian, Poisson, Binary,\n",
    "    - without penalty\n",
    "- MASS::lm.ridge\n",
    "    - Gaussian, with ridge penalty, no cross-validation\n",
    "- glmnet\n",
    "    - ElasticNet (ridge, lasso)\n",
    "    - Gaussian, Poisson,\n",
    "    - Binary, Multiclass\n",
    "    - glmnet, cv.glmnet (cross-validation)\n",
    "- nnet::multinom\n",
    "    - Multiclass classification, without penalty \n",
    "- caret : machine learning package for R (cross-validation)\n",
    "\n",
    "**python**\n",
    "\n",
    "- sm.glm, smf.glm\n",
    "    - No Multiclass Classification\n",
    "    - without penalty\n",
    "- glmnet (only available in Python at Linux)\n",
    "- sklearn\n",
    "    - for Gaussian, with penalty\n",
    "        - `LinearRegression`\n",
    "    - for Gaussian, with penalty\n",
    "        - `Ridge`, `RidgeCV`\n",
    "        - `Lasso`, `LassoCV`\n",
    "        - `ElasticNet`, `ElasticNetCV`\n",
    "    - for Binary, for Multiclass, with penalty\n",
    "        - `LogisticRegression`, `LogisticRegressionCV`\n",
    "        - multiclass와 penalty 문제도 전부 처리해 준다"
   ],
   "metadata": {
    "collapsed": false
   },
   "id": "cadaa27e83152bd9"
  },
  {
   "cell_type": "markdown",
   "source": [
    "**GLM net 목적함수**\n",
    "\n",
    "**Ridge 목적함수**"
   ],
   "metadata": {
    "collapsed": false
   },
   "id": "a5ede96534bd4323"
  },
  {
   "cell_type": "code",
   "execution_count": null,
   "id": "initial_id",
   "metadata": {
    "collapsed": true
   },
   "outputs": [],
   "source": []
  }
 ],
 "metadata": {
  "kernelspec": {
   "display_name": "Python 3",
   "language": "python",
   "name": "python3"
  },
  "language_info": {
   "codemirror_mode": {
    "name": "ipython",
    "version": 2
   },
   "file_extension": ".py",
   "mimetype": "text/x-python",
   "name": "python",
   "nbconvert_exporter": "python",
   "pygments_lexer": "ipython2",
   "version": "2.7.6"
  }
 },
 "nbformat": 4,
 "nbformat_minor": 5
}
